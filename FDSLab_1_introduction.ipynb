{
  "cells": [
    {
      "cell_type": "code",
      "execution_count": 37,
      "metadata": {
        "collapsed": true,
        "id": "O5_NojCu1DYu"
      },
      "outputs": [],
      "source": [
        "import numpy as np"
      ]
    },
    {
      "cell_type": "markdown",
      "metadata": {
        "id": "BSR37cdQ_R2X"
      },
      "source": [
        "Understanding Data Types in Python"
      ]
    },
    {
      "cell_type": "code",
      "execution_count": 38,
      "metadata": {
        "id": "f6JGbDDP_JHi"
      },
      "outputs": [],
      "source": [
        "# /* C code */\n",
        "# int result = 0;\n",
        "# for(int i=0; i<100; i++){\n",
        "#     result += i;\n",
        "# }"
      ]
    },
    {
      "cell_type": "code",
      "execution_count": 39,
      "metadata": {
        "id": "TwJD5ZOH_YKp"
      },
      "outputs": [],
      "source": [
        "# Python code\n",
        "result = 0\n",
        "for i in range(100):\n",
        "    result += i"
      ]
    },
    {
      "cell_type": "code",
      "execution_count": 40,
      "metadata": {
        "id": "cWqBKMj4_oVd"
      },
      "outputs": [
        {
          "data": {
            "text/plain": [
              "int"
            ]
          },
          "execution_count": 40,
          "metadata": {},
          "output_type": "execute_result"
        }
      ],
      "source": [
        "L = list(range(10))\n",
        "L\n",
        "type(L[0])"
      ]
    },
    {
      "cell_type": "markdown",
      "metadata": {
        "id": "evRjyf3NAIGz"
      },
      "source": [
        " a list of strings:"
      ]
    },
    {
      "cell_type": "code",
      "execution_count": 41,
      "metadata": {
        "id": "MfZFsZQk_pka"
      },
      "outputs": [
        {
          "data": {
            "text/plain": [
              "['0', '1', '2', '3', '4', '5', '6', '7', '8', '9']"
            ]
          },
          "execution_count": 41,
          "metadata": {},
          "output_type": "execute_result"
        }
      ],
      "source": [
        "L2 = [str(c) for c in L]\n",
        "L2"
      ]
    },
    {
      "cell_type": "markdown",
      "metadata": {
        "id": "lu9H1B-3AROX"
      },
      "source": [
        "heterogenous list"
      ]
    },
    {
      "cell_type": "code",
      "execution_count": 42,
      "metadata": {
        "id": "CeC9DAvmAWm-"
      },
      "outputs": [],
      "source": [
        "L3 = [True, \"2\", 3.0, 4]"
      ]
    },
    {
      "cell_type": "code",
      "execution_count": 43,
      "metadata": {
        "collapsed": true,
        "id": "djG7Y2ad1DY8"
      },
      "outputs": [],
      "source": [
        "from random import randint,randrange"
      ]
    },
    {
      "cell_type": "code",
      "execution_count": 44,
      "metadata": {
        "id": "-Jceh8-NAqDf"
      },
      "outputs": [
        {
          "data": {
            "text/plain": [
              "array([1, 4, 2, 5, 3])"
            ]
          },
          "execution_count": 44,
          "metadata": {},
          "output_type": "execute_result"
        }
      ],
      "source": [
        "import numpy as np\n",
        "# integer array:\n",
        "np.array([1, 4, 2, 5, 3])"
      ]
    },
    {
      "cell_type": "markdown",
      "metadata": {
        "id": "-DzX9BsgA28l"
      },
      "source": [
        "arrays"
      ]
    },
    {
      "cell_type": "code",
      "execution_count": 45,
      "metadata": {
        "colab": {
          "base_uri": "https://localhost:8080/"
        },
        "id": "WPCa6mkzBIDA",
        "outputId": "66d549c5-1093-4bfc-cb34-cb82adb5ef6c"
      },
      "outputs": [
        {
          "data": {
            "text/plain": [
              "array([0, 0, 0, 0, 0, 0, 0, 0, 0, 0])"
            ]
          },
          "execution_count": 45,
          "metadata": {},
          "output_type": "execute_result"
        }
      ],
      "source": [
        "# Create a length-10 integer array filled with zeros\n",
        "np.zeros(10, dtype=int)"
      ]
    },
    {
      "cell_type": "code",
      "execution_count": 46,
      "metadata": {
        "id": "Hb5ifXREBKch"
      },
      "outputs": [
        {
          "data": {
            "text/plain": [
              "array([[1., 1., 1., 1., 1.],\n",
              "       [1., 1., 1., 1., 1.],\n",
              "       [1., 1., 1., 1., 1.]])"
            ]
          },
          "execution_count": 46,
          "metadata": {},
          "output_type": "execute_result"
        }
      ],
      "source": [
        "# Create a 3x5 floating-point array filled with ones\n",
        "np.ones((3, 5), dtype=float)"
      ]
    },
    {
      "cell_type": "code",
      "execution_count": 47,
      "metadata": {
        "id": "8xmU6OZZBbUL"
      },
      "outputs": [
        {
          "data": {
            "text/plain": [
              "array([[3.14, 3.14, 3.14, 3.14, 3.14],\n",
              "       [3.14, 3.14, 3.14, 3.14, 3.14],\n",
              "       [3.14, 3.14, 3.14, 3.14, 3.14]])"
            ]
          },
          "execution_count": 47,
          "metadata": {},
          "output_type": "execute_result"
        }
      ],
      "source": [
        "# Create a 3x5 array filled with 3.14\n",
        "np.full((3, 5), 3.14)"
      ]
    },
    {
      "cell_type": "code",
      "execution_count": 48,
      "metadata": {
        "id": "1e1HGAJ3Bcry"
      },
      "outputs": [
        {
          "data": {
            "text/plain": [
              "array([ 0,  2,  4,  6,  8, 10, 12, 14, 16, 18])"
            ]
          },
          "execution_count": 48,
          "metadata": {},
          "output_type": "execute_result"
        }
      ],
      "source": [
        "# Create an array filled with a linear sequence\n",
        "# Starting at 0, ending at 20, stepping by 2\n",
        "# (this is similar to the built-in range() function)\n",
        "np.arange(0, 20, 2)"
      ]
    },
    {
      "cell_type": "code",
      "execution_count": 49,
      "metadata": {
        "id": "frA2sovZBfqL"
      },
      "outputs": [
        {
          "data": {
            "text/plain": [
              "array([0.  , 0.25, 0.5 , 0.75, 1.  ])"
            ]
          },
          "execution_count": 49,
          "metadata": {},
          "output_type": "execute_result"
        }
      ],
      "source": [
        "# Create an array of five values evenly spaced between 0 and 1\n",
        "np.linspace(0, 1, 5)"
      ]
    },
    {
      "cell_type": "code",
      "execution_count": 50,
      "metadata": {
        "id": "yjJ3pZzqL4wp"
      },
      "outputs": [
        {
          "data": {
            "text/plain": [
              "array([[0.03618287, 0.27078649, 0.325451  ],\n",
              "       [0.14751948, 0.42037188, 0.60125931],\n",
              "       [0.33981221, 0.01450459, 0.06394684]])"
            ]
          },
          "execution_count": 50,
          "metadata": {},
          "output_type": "execute_result"
        }
      ],
      "source": [
        "# Create a 3x3 array of uniformly distributed\n",
        "# random values between 0 and 1\n",
        "np.random.random((3, 3))"
      ]
    },
    {
      "cell_type": "code",
      "execution_count": 51,
      "metadata": {
        "id": "Bv74mqDoMAA0"
      },
      "outputs": [
        {
          "data": {
            "text/plain": [
              "array([[0, 5, 0],\n",
              "       [4, 9, 5],\n",
              "       [0, 0, 6]])"
            ]
          },
          "execution_count": 51,
          "metadata": {},
          "output_type": "execute_result"
        }
      ],
      "source": [
        "# Create a 3x3 array of random integers in the interval [0, 10)\n",
        "np.random.randint(0, 10, (3, 3))"
      ]
    },
    {
      "cell_type": "code",
      "execution_count": 52,
      "metadata": {
        "id": "3csZj4f7MF9I"
      },
      "outputs": [
        {
          "data": {
            "text/plain": [
              "array([[1., 0., 0.],\n",
              "       [0., 1., 0.],\n",
              "       [0., 0., 1.]])"
            ]
          },
          "execution_count": 52,
          "metadata": {},
          "output_type": "execute_result"
        }
      ],
      "source": [
        "# Create a 3x3 identity matrix\n",
        "np.eye(3)"
      ]
    },
    {
      "cell_type": "code",
      "execution_count": 53,
      "metadata": {
        "id": "_8GamkD1Mi_f"
      },
      "outputs": [
        {
          "data": {
            "text/plain": [
              "322.6666666666667"
            ]
          },
          "execution_count": 53,
          "metadata": {},
          "output_type": "execute_result"
        }
      ],
      "source": [
        "a=[23,45,67]\n",
        "len(a)\n",
        "np.std(a)\n",
        "np.var(a)"
      ]
    },
    {
      "cell_type": "code",
      "execution_count": null,
      "metadata": {
        "id": "aQYukuINMnFC"
      },
      "outputs": [],
      "source": []
    },
    {
      "cell_type": "markdown",
      "metadata": {
        "id": "TDrWdcZs2gnl"
      },
      "source": []
    },
    {
      "cell_type": "code",
      "execution_count": 54,
      "metadata": {
        "colab": {
          "base_uri": "https://localhost:8080/"
        },
        "id": "W76sKdce1kNy",
        "outputId": "699b8647-b447-466e-93c3-d8fd8064d65c"
      },
      "outputs": [
        {
          "name": "stdout",
          "output_type": "stream",
          "text": [
            "10\n",
            "11\n",
            "12\n",
            "13\n",
            "14\n",
            "15\n",
            "16\n",
            "17\n",
            "18\n",
            "19\n"
          ]
        }
      ],
      "source": [
        "for x in range(10,20):\n",
        "    print(x)"
      ]
    },
    {
      "cell_type": "code",
      "execution_count": 55,
      "metadata": {
        "colab": {
          "base_uri": "https://localhost:8080/"
        },
        "id": "tv-QUc3x1DY-",
        "outputId": "be8d4f50-c1c3-45f8-f980-145fe31f0a9d"
      },
      "outputs": [
        {
          "name": "stdout",
          "output_type": "stream",
          "text": [
            "7\n",
            "9\n",
            "14\n",
            "7\n",
            "13\n",
            "6\n",
            "9\n",
            "13\n",
            "13\n",
            "11\n",
            "5\n",
            "7\n",
            "14\n",
            "14\n",
            "13\n",
            "8\n",
            "4\n",
            "2\n",
            "5\n",
            "0\n",
            "11\n",
            "10\n",
            "9\n",
            "6\n",
            "13\n",
            "12\n",
            "0\n",
            "5\n",
            "5\n",
            "1\n",
            "6\n",
            "5\n",
            "0\n",
            "9\n",
            "4\n",
            "14\n",
            "7\n",
            "8\n",
            "8\n",
            "5\n"
          ]
        }
      ],
      "source": [
        "for x in range(10,50):\n",
        "    print(randrange(15))"
      ]
    },
    {
      "cell_type": "code",
      "execution_count": null,
      "metadata": {
        "id": "MosL5WkC-yQq"
      },
      "outputs": [],
      "source": []
    },
    {
      "cell_type": "code",
      "execution_count": 56,
      "metadata": {
        "collapsed": true,
        "id": "5xoCTabn1DY_"
      },
      "outputs": [],
      "source": [
        "def mynewfunction(x,y):\n",
        "    z=x**2+3*x**2*y+20*y**2\n",
        "    print(z)"
      ]
    },
    {
      "cell_type": "code",
      "execution_count": 57,
      "metadata": {
        "colab": {
          "base_uri": "https://localhost:8080/"
        },
        "id": "juASTuL21DZB",
        "outputId": "b3e5d080-d6d3-41cd-d722-ea47bc673aa0"
      },
      "outputs": [
        {
          "name": "stdout",
          "output_type": "stream",
          "text": [
            "190\n"
          ]
        }
      ],
      "source": [
        "mynewfunction(1,3)"
      ]
    },
    {
      "cell_type": "code",
      "execution_count": 58,
      "metadata": {
        "id": "rcytQs6a1DZC",
        "outputId": "db00d448-8872-4d7f-a823-47a7ed690f46"
      },
      "outputs": [
        {
          "name": "stdout",
          "output_type": "stream",
          "text": [
            "27100\n"
          ]
        }
      ],
      "source": [
        "mynewfunction(10,30)"
      ]
    },
    {
      "cell_type": "code",
      "execution_count": 59,
      "metadata": {
        "collapsed": true,
        "id": "7iS2v6mq1DZI"
      },
      "outputs": [],
      "source": [
        "def mybadfunction(x,y):\n",
        "    z=x**2+3*x**2*y+20*y**2\n",
        "    return(z)\n"
      ]
    },
    {
      "cell_type": "code",
      "execution_count": 60,
      "metadata": {
        "id": "pkyaxmUE1DZJ",
        "outputId": "785d061b-cf2c-4a11-d326-8088c8f2d1b7"
      },
      "outputs": [
        {
          "data": {
            "text/plain": [
              "24"
            ]
          },
          "execution_count": 60,
          "metadata": {},
          "output_type": "execute_result"
        }
      ],
      "source": [
        "mybadfunction(1,1)"
      ]
    },
    {
      "cell_type": "code",
      "execution_count": 61,
      "metadata": {
        "collapsed": true,
        "id": "6awduG6_1DZL"
      },
      "outputs": [],
      "source": [
        "scores=(23,46,69,7,5)"
      ]
    },
    {
      "cell_type": "code",
      "execution_count": 62,
      "metadata": {
        "id": "gySg5eD21DZN",
        "outputId": "93eb3313-3092-40ae-a29d-18fa39444b6b"
      },
      "outputs": [
        {
          "data": {
            "text/plain": [
              "tuple"
            ]
          },
          "execution_count": 62,
          "metadata": {},
          "output_type": "execute_result"
        }
      ],
      "source": [
        "type(scores)"
      ]
    },
    {
      "cell_type": "code",
      "execution_count": 63,
      "metadata": {
        "id": "1BcV3rXy1DZO"
      },
      "outputs": [],
      "source": [
        "sc=(46,45)"
      ]
    },
    {
      "cell_type": "code",
      "execution_count": 64,
      "metadata": {
        "id": "6pOIb9PD1DZP",
        "outputId": "13da7587-93c3-493e-a98e-f5f57f6917a3"
      },
      "outputs": [
        {
          "data": {
            "text/plain": [
              "tuple"
            ]
          },
          "execution_count": 64,
          "metadata": {},
          "output_type": "execute_result"
        }
      ],
      "source": [
        "type(sc)"
      ]
    },
    {
      "cell_type": "code",
      "execution_count": 65,
      "metadata": {
        "id": "sPEf7cEz1DZQ",
        "outputId": "5fb74362-886d-406c-8c7d-074923925ddc"
      },
      "outputs": [
        {
          "data": {
            "text/plain": [
              "(23, 46, 69, 7, 5, 46, 45)"
            ]
          },
          "execution_count": 65,
          "metadata": {},
          "output_type": "execute_result"
        }
      ],
      "source": [
        "scores+sc"
      ]
    },
    {
      "cell_type": "code",
      "execution_count": 66,
      "metadata": {
        "collapsed": true,
        "id": "sN3nJuBG1DZ6"
      },
      "outputs": [],
      "source": [
        "import pandas as pd"
      ]
    },
    {
      "cell_type": "code",
      "execution_count": 67,
      "metadata": {
        "id": "p1c1sTMF1DaR"
      },
      "outputs": [],
      "source": [
        "adult=pd.read_csv(\"https://archive.ics.uci.edu/ml/machine-learning-databases/adult/adult.data\")"
      ]
    },
    {
      "cell_type": "code",
      "execution_count": 68,
      "metadata": {
        "id": "XlkRi0hL1DaS",
        "outputId": "523fec39-4087-4321-b6bb-92cb8e6f7203"
      },
      "outputs": [
        {
          "data": {
            "text/plain": [
              "'this is \\na multiple\\nline comment\\n'"
            ]
          },
          "execution_count": 68,
          "metadata": {},
          "output_type": "execute_result"
        }
      ],
      "source": [
        "#pd.read_csv?\n",
        "'''this is \n",
        "a multiple\n",
        "line comment\n",
        "'''"
      ]
    },
    {
      "cell_type": "code",
      "execution_count": 69,
      "metadata": {
        "colab": {
          "base_uri": "https://localhost:8080/",
          "height": 206
        },
        "id": "wNbXfB9h1DaS",
        "outputId": "9580f563-70e1-451a-e47d-e90f260240e2"
      },
      "outputs": [
        {
          "data": {
            "text/html": [
              "<div>\n",
              "<style scoped>\n",
              "    .dataframe tbody tr th:only-of-type {\n",
              "        vertical-align: middle;\n",
              "    }\n",
              "\n",
              "    .dataframe tbody tr th {\n",
              "        vertical-align: top;\n",
              "    }\n",
              "\n",
              "    .dataframe thead th {\n",
              "        text-align: right;\n",
              "    }\n",
              "</style>\n",
              "<table border=\"1\" class=\"dataframe\">\n",
              "  <thead>\n",
              "    <tr style=\"text-align: right;\">\n",
              "      <th></th>\n",
              "      <th>39</th>\n",
              "      <th>State-gov</th>\n",
              "      <th>77516</th>\n",
              "      <th>Bachelors</th>\n",
              "      <th>13</th>\n",
              "      <th>Never-married</th>\n",
              "      <th>Adm-clerical</th>\n",
              "      <th>Not-in-family</th>\n",
              "      <th>White</th>\n",
              "      <th>Male</th>\n",
              "      <th>2174</th>\n",
              "      <th>0</th>\n",
              "      <th>40</th>\n",
              "      <th>United-States</th>\n",
              "      <th>&lt;=50K</th>\n",
              "    </tr>\n",
              "  </thead>\n",
              "  <tbody>\n",
              "    <tr>\n",
              "      <th>0</th>\n",
              "      <td>50</td>\n",
              "      <td>Self-emp-not-inc</td>\n",
              "      <td>83311</td>\n",
              "      <td>Bachelors</td>\n",
              "      <td>13</td>\n",
              "      <td>Married-civ-spouse</td>\n",
              "      <td>Exec-managerial</td>\n",
              "      <td>Husband</td>\n",
              "      <td>White</td>\n",
              "      <td>Male</td>\n",
              "      <td>0</td>\n",
              "      <td>0</td>\n",
              "      <td>13</td>\n",
              "      <td>United-States</td>\n",
              "      <td>&lt;=50K</td>\n",
              "    </tr>\n",
              "    <tr>\n",
              "      <th>1</th>\n",
              "      <td>38</td>\n",
              "      <td>Private</td>\n",
              "      <td>215646</td>\n",
              "      <td>HS-grad</td>\n",
              "      <td>9</td>\n",
              "      <td>Divorced</td>\n",
              "      <td>Handlers-cleaners</td>\n",
              "      <td>Not-in-family</td>\n",
              "      <td>White</td>\n",
              "      <td>Male</td>\n",
              "      <td>0</td>\n",
              "      <td>0</td>\n",
              "      <td>40</td>\n",
              "      <td>United-States</td>\n",
              "      <td>&lt;=50K</td>\n",
              "    </tr>\n",
              "    <tr>\n",
              "      <th>2</th>\n",
              "      <td>53</td>\n",
              "      <td>Private</td>\n",
              "      <td>234721</td>\n",
              "      <td>11th</td>\n",
              "      <td>7</td>\n",
              "      <td>Married-civ-spouse</td>\n",
              "      <td>Handlers-cleaners</td>\n",
              "      <td>Husband</td>\n",
              "      <td>Black</td>\n",
              "      <td>Male</td>\n",
              "      <td>0</td>\n",
              "      <td>0</td>\n",
              "      <td>40</td>\n",
              "      <td>United-States</td>\n",
              "      <td>&lt;=50K</td>\n",
              "    </tr>\n",
              "    <tr>\n",
              "      <th>3</th>\n",
              "      <td>28</td>\n",
              "      <td>Private</td>\n",
              "      <td>338409</td>\n",
              "      <td>Bachelors</td>\n",
              "      <td>13</td>\n",
              "      <td>Married-civ-spouse</td>\n",
              "      <td>Prof-specialty</td>\n",
              "      <td>Wife</td>\n",
              "      <td>Black</td>\n",
              "      <td>Female</td>\n",
              "      <td>0</td>\n",
              "      <td>0</td>\n",
              "      <td>40</td>\n",
              "      <td>Cuba</td>\n",
              "      <td>&lt;=50K</td>\n",
              "    </tr>\n",
              "    <tr>\n",
              "      <th>4</th>\n",
              "      <td>37</td>\n",
              "      <td>Private</td>\n",
              "      <td>284582</td>\n",
              "      <td>Masters</td>\n",
              "      <td>14</td>\n",
              "      <td>Married-civ-spouse</td>\n",
              "      <td>Exec-managerial</td>\n",
              "      <td>Wife</td>\n",
              "      <td>White</td>\n",
              "      <td>Female</td>\n",
              "      <td>0</td>\n",
              "      <td>0</td>\n",
              "      <td>40</td>\n",
              "      <td>United-States</td>\n",
              "      <td>&lt;=50K</td>\n",
              "    </tr>\n",
              "  </tbody>\n",
              "</table>\n",
              "</div>"
            ],
            "text/plain": [
              "   39          State-gov   77516   Bachelors   13        Never-married  \\\n",
              "0  50   Self-emp-not-inc   83311   Bachelors   13   Married-civ-spouse   \n",
              "1  38            Private  215646     HS-grad    9             Divorced   \n",
              "2  53            Private  234721        11th    7   Married-civ-spouse   \n",
              "3  28            Private  338409   Bachelors   13   Married-civ-spouse   \n",
              "4  37            Private  284582     Masters   14   Married-civ-spouse   \n",
              "\n",
              "         Adm-clerical   Not-in-family   White     Male   2174   0   40  \\\n",
              "0     Exec-managerial         Husband   White     Male      0   0   13   \n",
              "1   Handlers-cleaners   Not-in-family   White     Male      0   0   40   \n",
              "2   Handlers-cleaners         Husband   Black     Male      0   0   40   \n",
              "3      Prof-specialty            Wife   Black   Female      0   0   40   \n",
              "4     Exec-managerial            Wife   White   Female      0   0   40   \n",
              "\n",
              "    United-States   <=50K  \n",
              "0   United-States   <=50K  \n",
              "1   United-States   <=50K  \n",
              "2   United-States   <=50K  \n",
              "3            Cuba   <=50K  \n",
              "4   United-States   <=50K  "
            ]
          },
          "execution_count": 69,
          "metadata": {},
          "output_type": "execute_result"
        }
      ],
      "source": [
        "adult.head()"
      ]
    },
    {
      "cell_type": "code",
      "execution_count": 70,
      "metadata": {
        "colab": {
          "base_uri": "https://localhost:8080/"
        },
        "id": "Me4RT4hz1DaT",
        "outputId": "31cecff7-f7a0-4cf2-de84-30ed2ea5bde1"
      },
      "outputs": [
        {
          "data": {
            "text/plain": [
              "Index(['39', ' State-gov', ' 77516', ' Bachelors', ' 13', ' Never-married',\n",
              "       ' Adm-clerical', ' Not-in-family', ' White', ' Male', ' 2174', ' 0',\n",
              "       ' 40', ' United-States', ' <=50K'],\n",
              "      dtype='object')"
            ]
          },
          "execution_count": 70,
          "metadata": {},
          "output_type": "execute_result"
        }
      ],
      "source": [
        "adult.columns"
      ]
    },
    {
      "cell_type": "code",
      "execution_count": 71,
      "metadata": {
        "collapsed": true,
        "id": "3NvRl_161DaT"
      },
      "outputs": [],
      "source": [
        "adult.columns=[\"age \",\n",
        "\"workclass \",\n",
        "\"fnlwgt\",\n",
        "\"education \",\n",
        "\"education-num\",\n",
        "\"marital-status\",\n",
        "\"occupation\",\n",
        "\"relationship\",\n",
        "\"race\",\n",
        "\"sex\",\n",
        "\"capital-gain\",\n",
        "\"capital-loss\",\n",
        "\"hours-per-week\",\n",
        "\"native-country\",\n",
        "\"income\",\n",
        "]"
      ]
    },
    {
      "cell_type": "code",
      "execution_count": 72,
      "metadata": {
        "id": "WuD0tSxp1DaU"
      },
      "outputs": [
        {
          "ename": "ValueError",
          "evalue": "Expected object or value",
          "output_type": "error",
          "traceback": [
            "\u001b[1;31m---------------------------------------------------------------------------\u001b[0m",
            "\u001b[1;31mValueError\u001b[0m                                Traceback (most recent call last)",
            "\u001b[1;32mc:\\Users\\ASUS\\Documents\\PROGRAMS\\Python\\FDSLab_1_introduction.ipynb Cell 43\u001b[0m in \u001b[0;36m<cell line: 1>\u001b[1;34m()\u001b[0m\n\u001b[1;32m----> <a href='vscode-notebook-cell:/c%3A/Users/ASUS/Documents/PROGRAMS/Python/FDSLab_1_introduction.ipynb#X60sZmlsZQ%3D%3D?line=0'>1</a>\u001b[0m wb\u001b[39m=\u001b[39mpd\u001b[39m.\u001b[39;49mread_json(\u001b[39m\"\u001b[39;49m\u001b[39mC:\u001b[39;49m\u001b[39m\\\\\u001b[39;49;00m\u001b[39mUsers\u001b[39;49m\u001b[39m\\\\\u001b[39;49;00m\u001b[39mKOGENTIX\u001b[39;49m\u001b[39m\\\\\u001b[39;49;00m\u001b[39mDesktop\u001b[39;49m\u001b[39m\\\\\u001b[39;49;00m\u001b[39mtraining\u001b[39;49m\u001b[39m\\\\\u001b[39;49;00m\u001b[39mworld_bank.json\u001b[39;49m\u001b[39m\"\u001b[39;49m,lines\u001b[39m=\u001b[39;49m\u001b[39mTrue\u001b[39;49;00m)\n",
            "File \u001b[1;32mc:\\Users\\ASUS\\AppData\\Local\\Programs\\Python\\Python310\\lib\\site-packages\\pandas\\util\\_decorators.py:207\u001b[0m, in \u001b[0;36mdeprecate_kwarg.<locals>._deprecate_kwarg.<locals>.wrapper\u001b[1;34m(*args, **kwargs)\u001b[0m\n\u001b[0;32m    205\u001b[0m     \u001b[39melse\u001b[39;00m:\n\u001b[0;32m    206\u001b[0m         kwargs[new_arg_name] \u001b[39m=\u001b[39m new_arg_value\n\u001b[1;32m--> 207\u001b[0m \u001b[39mreturn\u001b[39;00m func(\u001b[39m*\u001b[39margs, \u001b[39m*\u001b[39m\u001b[39m*\u001b[39mkwargs)\n",
            "File \u001b[1;32mc:\\Users\\ASUS\\AppData\\Local\\Programs\\Python\\Python310\\lib\\site-packages\\pandas\\util\\_decorators.py:311\u001b[0m, in \u001b[0;36mdeprecate_nonkeyword_arguments.<locals>.decorate.<locals>.wrapper\u001b[1;34m(*args, **kwargs)\u001b[0m\n\u001b[0;32m    305\u001b[0m \u001b[39mif\u001b[39;00m \u001b[39mlen\u001b[39m(args) \u001b[39m>\u001b[39m num_allow_args:\n\u001b[0;32m    306\u001b[0m     warnings\u001b[39m.\u001b[39mwarn(\n\u001b[0;32m    307\u001b[0m         msg\u001b[39m.\u001b[39mformat(arguments\u001b[39m=\u001b[39marguments),\n\u001b[0;32m    308\u001b[0m         \u001b[39mFutureWarning\u001b[39;00m,\n\u001b[0;32m    309\u001b[0m         stacklevel\u001b[39m=\u001b[39mstacklevel,\n\u001b[0;32m    310\u001b[0m     )\n\u001b[1;32m--> 311\u001b[0m \u001b[39mreturn\u001b[39;00m func(\u001b[39m*\u001b[39margs, \u001b[39m*\u001b[39m\u001b[39m*\u001b[39mkwargs)\n",
            "File \u001b[1;32mc:\\Users\\ASUS\\AppData\\Local\\Programs\\Python\\Python310\\lib\\site-packages\\pandas\\io\\json\\_json.py:612\u001b[0m, in \u001b[0;36mread_json\u001b[1;34m(path_or_buf, orient, typ, dtype, convert_axes, convert_dates, keep_default_dates, numpy, precise_float, date_unit, encoding, encoding_errors, lines, chunksize, compression, nrows, storage_options)\u001b[0m\n\u001b[0;32m    609\u001b[0m     \u001b[39mreturn\u001b[39;00m json_reader\n\u001b[0;32m    611\u001b[0m \u001b[39mwith\u001b[39;00m json_reader:\n\u001b[1;32m--> 612\u001b[0m     \u001b[39mreturn\u001b[39;00m json_reader\u001b[39m.\u001b[39;49mread()\n",
            "File \u001b[1;32mc:\\Users\\ASUS\\AppData\\Local\\Programs\\Python\\Python310\\lib\\site-packages\\pandas\\io\\json\\_json.py:744\u001b[0m, in \u001b[0;36mJsonReader.read\u001b[1;34m(self)\u001b[0m\n\u001b[0;32m    742\u001b[0m         data \u001b[39m=\u001b[39m ensure_str(\u001b[39mself\u001b[39m\u001b[39m.\u001b[39mdata)\n\u001b[0;32m    743\u001b[0m         data_lines \u001b[39m=\u001b[39m data\u001b[39m.\u001b[39msplit(\u001b[39m\"\u001b[39m\u001b[39m\\n\u001b[39;00m\u001b[39m\"\u001b[39m)\n\u001b[1;32m--> 744\u001b[0m         obj \u001b[39m=\u001b[39m \u001b[39mself\u001b[39;49m\u001b[39m.\u001b[39;49m_get_object_parser(\u001b[39mself\u001b[39;49m\u001b[39m.\u001b[39;49m_combine_lines(data_lines))\n\u001b[0;32m    745\u001b[0m \u001b[39melse\u001b[39;00m:\n\u001b[0;32m    746\u001b[0m     obj \u001b[39m=\u001b[39m \u001b[39mself\u001b[39m\u001b[39m.\u001b[39m_get_object_parser(\u001b[39mself\u001b[39m\u001b[39m.\u001b[39mdata)\n",
            "File \u001b[1;32mc:\\Users\\ASUS\\AppData\\Local\\Programs\\Python\\Python310\\lib\\site-packages\\pandas\\io\\json\\_json.py:768\u001b[0m, in \u001b[0;36mJsonReader._get_object_parser\u001b[1;34m(self, json)\u001b[0m\n\u001b[0;32m    766\u001b[0m obj \u001b[39m=\u001b[39m \u001b[39mNone\u001b[39;00m\n\u001b[0;32m    767\u001b[0m \u001b[39mif\u001b[39;00m typ \u001b[39m==\u001b[39m \u001b[39m\"\u001b[39m\u001b[39mframe\u001b[39m\u001b[39m\"\u001b[39m:\n\u001b[1;32m--> 768\u001b[0m     obj \u001b[39m=\u001b[39m FrameParser(json, \u001b[39m*\u001b[39;49m\u001b[39m*\u001b[39;49mkwargs)\u001b[39m.\u001b[39;49mparse()\n\u001b[0;32m    770\u001b[0m \u001b[39mif\u001b[39;00m typ \u001b[39m==\u001b[39m \u001b[39m\"\u001b[39m\u001b[39mseries\u001b[39m\u001b[39m\"\u001b[39m \u001b[39mor\u001b[39;00m obj \u001b[39mis\u001b[39;00m \u001b[39mNone\u001b[39;00m:\n\u001b[0;32m    771\u001b[0m     \u001b[39mif\u001b[39;00m \u001b[39mnot\u001b[39;00m \u001b[39misinstance\u001b[39m(dtype, \u001b[39mbool\u001b[39m):\n",
            "File \u001b[1;32mc:\\Users\\ASUS\\AppData\\Local\\Programs\\Python\\Python310\\lib\\site-packages\\pandas\\io\\json\\_json.py:880\u001b[0m, in \u001b[0;36mParser.parse\u001b[1;34m(self)\u001b[0m\n\u001b[0;32m    878\u001b[0m     \u001b[39mself\u001b[39m\u001b[39m.\u001b[39m_parse_numpy()\n\u001b[0;32m    879\u001b[0m \u001b[39melse\u001b[39;00m:\n\u001b[1;32m--> 880\u001b[0m     \u001b[39mself\u001b[39;49m\u001b[39m.\u001b[39;49m_parse_no_numpy()\n\u001b[0;32m    882\u001b[0m \u001b[39mif\u001b[39;00m \u001b[39mself\u001b[39m\u001b[39m.\u001b[39mobj \u001b[39mis\u001b[39;00m \u001b[39mNone\u001b[39;00m:\n\u001b[0;32m    883\u001b[0m     \u001b[39mreturn\u001b[39;00m \u001b[39mNone\u001b[39;00m\n",
            "File \u001b[1;32mc:\\Users\\ASUS\\AppData\\Local\\Programs\\Python\\Python310\\lib\\site-packages\\pandas\\io\\json\\_json.py:1133\u001b[0m, in \u001b[0;36mFrameParser._parse_no_numpy\u001b[1;34m(self)\u001b[0m\n\u001b[0;32m   1129\u001b[0m orient \u001b[39m=\u001b[39m \u001b[39mself\u001b[39m\u001b[39m.\u001b[39morient\n\u001b[0;32m   1131\u001b[0m \u001b[39mif\u001b[39;00m orient \u001b[39m==\u001b[39m \u001b[39m\"\u001b[39m\u001b[39mcolumns\u001b[39m\u001b[39m\"\u001b[39m:\n\u001b[0;32m   1132\u001b[0m     \u001b[39mself\u001b[39m\u001b[39m.\u001b[39mobj \u001b[39m=\u001b[39m DataFrame(\n\u001b[1;32m-> 1133\u001b[0m         loads(json, precise_float\u001b[39m=\u001b[39;49m\u001b[39mself\u001b[39;49m\u001b[39m.\u001b[39;49mprecise_float), dtype\u001b[39m=\u001b[39m\u001b[39mNone\u001b[39;00m\n\u001b[0;32m   1134\u001b[0m     )\n\u001b[0;32m   1135\u001b[0m \u001b[39melif\u001b[39;00m orient \u001b[39m==\u001b[39m \u001b[39m\"\u001b[39m\u001b[39msplit\u001b[39m\u001b[39m\"\u001b[39m:\n\u001b[0;32m   1136\u001b[0m     decoded \u001b[39m=\u001b[39m {\n\u001b[0;32m   1137\u001b[0m         \u001b[39mstr\u001b[39m(k): v\n\u001b[0;32m   1138\u001b[0m         \u001b[39mfor\u001b[39;00m k, v \u001b[39min\u001b[39;00m loads(json, precise_float\u001b[39m=\u001b[39m\u001b[39mself\u001b[39m\u001b[39m.\u001b[39mprecise_float)\u001b[39m.\u001b[39mitems()\n\u001b[0;32m   1139\u001b[0m     }\n",
            "\u001b[1;31mValueError\u001b[0m: Expected object or value"
          ]
        }
      ],
      "source": [
        "wb=pd.read_json(\"C:\\\\Users\\\\KOGENTIX\\\\Desktop\\\\training\\\\world_bank.json\",lines=True)"
      ]
    },
    {
      "cell_type": "code",
      "execution_count": null,
      "metadata": {
        "id": "71UKATBw1DaY",
        "outputId": "d132eacb-b0d6-4821-c1fb-cf524951d932"
      },
      "outputs": [
        {
          "data": {
            "text/html": [
              "<div>\n",
              "<style>\n",
              "    .dataframe thead tr:only-child th {\n",
              "        text-align: right;\n",
              "    }\n",
              "\n",
              "    .dataframe thead th {\n",
              "        text-align: left;\n",
              "    }\n",
              "\n",
              "    .dataframe tbody tr th {\n",
              "        vertical-align: top;\n",
              "    }\n",
              "</style>\n",
              "<table border=\"1\" class=\"dataframe\">\n",
              "  <thead>\n",
              "    <tr style=\"text-align: right;\">\n",
              "      <th></th>\n",
              "      <th>_id</th>\n",
              "      <th>approvalfy</th>\n",
              "      <th>board_approval_month</th>\n",
              "      <th>boardapprovaldate</th>\n",
              "      <th>borrower</th>\n",
              "      <th>closingdate</th>\n",
              "      <th>country_namecode</th>\n",
              "      <th>countrycode</th>\n",
              "      <th>countryname</th>\n",
              "      <th>countryshortname</th>\n",
              "      <th>...</th>\n",
              "      <th>sectorcode</th>\n",
              "      <th>source</th>\n",
              "      <th>status</th>\n",
              "      <th>supplementprojectflg</th>\n",
              "      <th>theme1</th>\n",
              "      <th>theme_namecode</th>\n",
              "      <th>themecode</th>\n",
              "      <th>totalamt</th>\n",
              "      <th>totalcommamt</th>\n",
              "      <th>url</th>\n",
              "    </tr>\n",
              "  </thead>\n",
              "  <tbody>\n",
              "    <tr>\n",
              "      <th>0</th>\n",
              "      <td>{'$oid': '52b213b38594d8a2be17c780'}</td>\n",
              "      <td>1999</td>\n",
              "      <td>November</td>\n",
              "      <td>2013-11-12T00:00:00Z</td>\n",
              "      <td>FEDERAL DEMOCRATIC REPUBLIC OF ETHIOPIA</td>\n",
              "      <td>2018-07-07T00:00:00Z</td>\n",
              "      <td>Federal Democratic Republic of Ethiopia!$!ET</td>\n",
              "      <td>ET</td>\n",
              "      <td>Federal Democratic Republic of Ethiopia</td>\n",
              "      <td>Ethiopia</td>\n",
              "      <td>...</td>\n",
              "      <td>ET,BS,ES,EP</td>\n",
              "      <td>IBRD</td>\n",
              "      <td>Active</td>\n",
              "      <td>N</td>\n",
              "      <td>{'Name': 'Education for all', 'Percent': 100}</td>\n",
              "      <td>[{'name': 'Education for all', 'code': '65'}]</td>\n",
              "      <td>65</td>\n",
              "      <td>130000000</td>\n",
              "      <td>130000000</td>\n",
              "      <td>http://www.worldbank.org/projects/P129828/ethi...</td>\n",
              "    </tr>\n",
              "    <tr>\n",
              "      <th>1</th>\n",
              "      <td>{'$oid': '52b213b38594d8a2be17c781'}</td>\n",
              "      <td>2015</td>\n",
              "      <td>November</td>\n",
              "      <td>2013-11-04T00:00:00Z</td>\n",
              "      <td>GOVERNMENT OF TUNISIA</td>\n",
              "      <td>NaN</td>\n",
              "      <td>Republic of Tunisia!$!TN</td>\n",
              "      <td>TN</td>\n",
              "      <td>Republic of Tunisia</td>\n",
              "      <td>Tunisia</td>\n",
              "      <td>...</td>\n",
              "      <td>BZ,BS</td>\n",
              "      <td>IBRD</td>\n",
              "      <td>Active</td>\n",
              "      <td>N</td>\n",
              "      <td>{'Name': 'Other economic management', 'Percent...</td>\n",
              "      <td>[{'name': 'Other economic management', 'code':...</td>\n",
              "      <td>54,24</td>\n",
              "      <td>0</td>\n",
              "      <td>4700000</td>\n",
              "      <td>http://www.worldbank.org/projects/P144674?lang=en</td>\n",
              "    </tr>\n",
              "    <tr>\n",
              "      <th>2</th>\n",
              "      <td>{'$oid': '52b213b38594d8a2be17c782'}</td>\n",
              "      <td>2014</td>\n",
              "      <td>November</td>\n",
              "      <td>2013-11-01T00:00:00Z</td>\n",
              "      <td>MINISTRY OF FINANCE AND ECONOMIC DEVEL</td>\n",
              "      <td>NaN</td>\n",
              "      <td>Tuvalu!$!TV</td>\n",
              "      <td>TV</td>\n",
              "      <td>Tuvalu</td>\n",
              "      <td>Tuvalu</td>\n",
              "      <td>...</td>\n",
              "      <td>TI</td>\n",
              "      <td>IBRD</td>\n",
              "      <td>Active</td>\n",
              "      <td>Y</td>\n",
              "      <td>{'Name': 'Regional integration', 'Percent': 46}</td>\n",
              "      <td>[{'name': 'Regional integration', 'code': '47'...</td>\n",
              "      <td>52,81,25,47</td>\n",
              "      <td>6060000</td>\n",
              "      <td>6060000</td>\n",
              "      <td>http://www.worldbank.org/projects/P145310?lang=en</td>\n",
              "    </tr>\n",
              "    <tr>\n",
              "      <th>3</th>\n",
              "      <td>{'$oid': '52b213b38594d8a2be17c783'}</td>\n",
              "      <td>2014</td>\n",
              "      <td>October</td>\n",
              "      <td>2013-10-31T00:00:00Z</td>\n",
              "      <td>MIN. OF PLANNING AND INT'L COOPERATION</td>\n",
              "      <td>NaN</td>\n",
              "      <td>Republic of Yemen!$!RY</td>\n",
              "      <td>RY</td>\n",
              "      <td>Republic of Yemen</td>\n",
              "      <td>Yemen, Republic of</td>\n",
              "      <td>...</td>\n",
              "      <td>JB</td>\n",
              "      <td>IBRD</td>\n",
              "      <td>Active</td>\n",
              "      <td>N</td>\n",
              "      <td>{'Name': 'Participation and civic engagement',...</td>\n",
              "      <td>[{'name': 'Participation and civic engagement'...</td>\n",
              "      <td>59,57</td>\n",
              "      <td>0</td>\n",
              "      <td>1500000</td>\n",
              "      <td>http://www.worldbank.org/projects/P144665?lang=en</td>\n",
              "    </tr>\n",
              "    <tr>\n",
              "      <th>4</th>\n",
              "      <td>{'$oid': '52b213b38594d8a2be17c784'}</td>\n",
              "      <td>2014</td>\n",
              "      <td>October</td>\n",
              "      <td>2013-10-31T00:00:00Z</td>\n",
              "      <td>MINISTRY OF FINANCE</td>\n",
              "      <td>2019-04-30T00:00:00Z</td>\n",
              "      <td>Kingdom of Lesotho!$!LS</td>\n",
              "      <td>LS</td>\n",
              "      <td>Kingdom of Lesotho</td>\n",
              "      <td>Lesotho</td>\n",
              "      <td>...</td>\n",
              "      <td>FH,YW,YZ</td>\n",
              "      <td>IBRD</td>\n",
              "      <td>Active</td>\n",
              "      <td>N</td>\n",
              "      <td>{'Name': 'Export development and competitivene...</td>\n",
              "      <td>[{'name': 'Export development and competitiven...</td>\n",
              "      <td>41,45</td>\n",
              "      <td>13100000</td>\n",
              "      <td>13100000</td>\n",
              "      <td>http://www.worldbank.org/projects/P144933/seco...</td>\n",
              "    </tr>\n",
              "  </tbody>\n",
              "</table>\n",
              "<p>5 rows × 50 columns</p>\n",
              "</div>"
            ],
            "text/plain": [
              "                                    _id  approvalfy board_approval_month  \\\n",
              "0  {'$oid': '52b213b38594d8a2be17c780'}        1999             November   \n",
              "1  {'$oid': '52b213b38594d8a2be17c781'}        2015             November   \n",
              "2  {'$oid': '52b213b38594d8a2be17c782'}        2014             November   \n",
              "3  {'$oid': '52b213b38594d8a2be17c783'}        2014              October   \n",
              "4  {'$oid': '52b213b38594d8a2be17c784'}        2014              October   \n",
              "\n",
              "      boardapprovaldate                                 borrower  \\\n",
              "0  2013-11-12T00:00:00Z  FEDERAL DEMOCRATIC REPUBLIC OF ETHIOPIA   \n",
              "1  2013-11-04T00:00:00Z                    GOVERNMENT OF TUNISIA   \n",
              "2  2013-11-01T00:00:00Z   MINISTRY OF FINANCE AND ECONOMIC DEVEL   \n",
              "3  2013-10-31T00:00:00Z   MIN. OF PLANNING AND INT'L COOPERATION   \n",
              "4  2013-10-31T00:00:00Z                      MINISTRY OF FINANCE   \n",
              "\n",
              "            closingdate                              country_namecode  \\\n",
              "0  2018-07-07T00:00:00Z  Federal Democratic Republic of Ethiopia!$!ET   \n",
              "1                   NaN                      Republic of Tunisia!$!TN   \n",
              "2                   NaN                                   Tuvalu!$!TV   \n",
              "3                   NaN                        Republic of Yemen!$!RY   \n",
              "4  2019-04-30T00:00:00Z                       Kingdom of Lesotho!$!LS   \n",
              "\n",
              "  countrycode                              countryname    countryshortname  \\\n",
              "0          ET  Federal Democratic Republic of Ethiopia            Ethiopia   \n",
              "1          TN                      Republic of Tunisia             Tunisia   \n",
              "2          TV                                   Tuvalu              Tuvalu   \n",
              "3          RY                        Republic of Yemen  Yemen, Republic of   \n",
              "4          LS                       Kingdom of Lesotho             Lesotho   \n",
              "\n",
              "                         ...                           sectorcode source  \\\n",
              "0                        ...                          ET,BS,ES,EP   IBRD   \n",
              "1                        ...                                BZ,BS   IBRD   \n",
              "2                        ...                                   TI   IBRD   \n",
              "3                        ...                                   JB   IBRD   \n",
              "4                        ...                             FH,YW,YZ   IBRD   \n",
              "\n",
              "   status  supplementprojectflg  \\\n",
              "0  Active                     N   \n",
              "1  Active                     N   \n",
              "2  Active                     Y   \n",
              "3  Active                     N   \n",
              "4  Active                     N   \n",
              "\n",
              "                                              theme1  \\\n",
              "0      {'Name': 'Education for all', 'Percent': 100}   \n",
              "1  {'Name': 'Other economic management', 'Percent...   \n",
              "2    {'Name': 'Regional integration', 'Percent': 46}   \n",
              "3  {'Name': 'Participation and civic engagement',...   \n",
              "4  {'Name': 'Export development and competitivene...   \n",
              "\n",
              "                                      theme_namecode    themecode   totalamt  \\\n",
              "0      [{'name': 'Education for all', 'code': '65'}]           65  130000000   \n",
              "1  [{'name': 'Other economic management', 'code':...        54,24          0   \n",
              "2  [{'name': 'Regional integration', 'code': '47'...  52,81,25,47    6060000   \n",
              "3  [{'name': 'Participation and civic engagement'...        59,57          0   \n",
              "4  [{'name': 'Export development and competitiven...        41,45   13100000   \n",
              "\n",
              "  totalcommamt                                                url  \n",
              "0    130000000  http://www.worldbank.org/projects/P129828/ethi...  \n",
              "1      4700000  http://www.worldbank.org/projects/P144674?lang=en  \n",
              "2      6060000  http://www.worldbank.org/projects/P145310?lang=en  \n",
              "3      1500000  http://www.worldbank.org/projects/P144665?lang=en  \n",
              "4     13100000  http://www.worldbank.org/projects/P144933/seco...  \n",
              "\n",
              "[5 rows x 50 columns]"
            ]
          },
          "execution_count": 106,
          "metadata": {},
          "output_type": "execute_result"
        }
      ],
      "source": [
        "wb.head()"
      ]
    },
    {
      "cell_type": "code",
      "execution_count": null,
      "metadata": {
        "id": "bqDHzbad1Daa",
        "outputId": "f381416a-09ef-4802-84cc-c92ef8177a4a"
      },
      "outputs": [
        {
          "data": {
            "text/plain": [
              "pandas.core.frame.DataFrame"
            ]
          },
          "execution_count": 108,
          "metadata": {},
          "output_type": "execute_result"
        }
      ],
      "source": [
        "type(adult)"
      ]
    },
    {
      "cell_type": "code",
      "execution_count": null,
      "metadata": {
        "colab": {
          "base_uri": "https://localhost:8080/"
        },
        "id": "Tku8KbTs1Daa",
        "outputId": "dd17b76b-e7e6-40c1-ed0e-a7a24ce74171"
      },
      "outputs": [
        {
          "data": {
            "text/plain": [
              "array([[50, ' Self-emp-not-inc', 83311, ..., 13, ' United-States',\n",
              "        ' <=50K'],\n",
              "       [38, ' Private', 215646, ..., 40, ' United-States', ' <=50K'],\n",
              "       [53, ' Private', 234721, ..., 40, ' United-States', ' <=50K'],\n",
              "       ...,\n",
              "       [58, ' Private', 151910, ..., 40, ' United-States', ' <=50K'],\n",
              "       [22, ' Private', 201490, ..., 20, ' United-States', ' <=50K'],\n",
              "       [52, ' Self-emp-inc', 287927, ..., 40, ' United-States', ' >50K']],\n",
              "      dtype=object)"
            ]
          },
          "execution_count": 12,
          "metadata": {},
          "output_type": "execute_result"
        }
      ],
      "source": [
        "adult.values"
      ]
    },
    {
      "cell_type": "code",
      "execution_count": null,
      "metadata": {
        "collapsed": true,
        "id": "qCZ7q5d11Dab"
      },
      "outputs": [],
      "source": [
        "b=adult.values"
      ]
    },
    {
      "cell_type": "code",
      "execution_count": null,
      "metadata": {
        "colab": {
          "base_uri": "https://localhost:8080/"
        },
        "id": "BdZhmJRf1Dac",
        "outputId": "8a94609e-421d-4456-eb5b-12206511a3ec"
      },
      "outputs": [
        {
          "data": {
            "text/plain": [
              "numpy.ndarray"
            ]
          },
          "execution_count": 14,
          "metadata": {},
          "output_type": "execute_result"
        }
      ],
      "source": [
        "type(b)"
      ]
    },
    {
      "cell_type": "code",
      "execution_count": null,
      "metadata": {
        "colab": {
          "base_uri": "https://localhost:8080/"
        },
        "id": "ueOzWk8g1Dad",
        "outputId": "4f9ac08a-6390-42ec-bf97-15022ed2f71a"
      },
      "outputs": [
        {
          "data": {
            "text/plain": [
              "32560"
            ]
          },
          "execution_count": 15,
          "metadata": {},
          "output_type": "execute_result"
        }
      ],
      "source": [
        "len(b)"
      ]
    },
    {
      "cell_type": "code",
      "execution_count": null,
      "metadata": {
        "colab": {
          "base_uri": "https://localhost:8080/"
        },
        "id": "clvm1xy01Dae",
        "outputId": "e01bdfb3-d1bf-400c-9124-d90be77112ed"
      },
      "outputs": [
        {
          "data": {
            "text/plain": [
              "array([    0,     1,     2, ..., 32557, 32558, 32559])"
            ]
          },
          "execution_count": 16,
          "metadata": {},
          "output_type": "execute_result"
        }
      ],
      "source": [
        "np.arange(len(b))"
      ]
    },
    {
      "cell_type": "code",
      "execution_count": null,
      "metadata": {
        "collapsed": true,
        "id": "xxHID4bB1Dae"
      },
      "outputs": [],
      "source": [
        "c=[\"age \",\n",
        "\"workclass \",\n",
        "\"fnlwgt\",\n",
        "\"education \",\n",
        "\"education-num\",\n",
        "\"marital-status\",\n",
        "\"occupation\",\n",
        "\"relationship\",\n",
        "\"race\",\n",
        "\"sex\",\n",
        "\"capital-gain\",\n",
        "\"capital-loss\",\n",
        "\"hours-per-week\",\n",
        "\"native-country\",\n",
        "\"income\",\n",
        "]"
      ]
    },
    {
      "cell_type": "code",
      "execution_count": null,
      "metadata": {
        "colab": {
          "base_uri": "https://localhost:8080/"
        },
        "id": "l7K6A5HG1Dae",
        "outputId": "64cebaa7-d0fa-465e-82cf-a93aaf127fba"
      },
      "outputs": [
        {
          "data": {
            "text/plain": [
              "array([[50, ' Self-emp-not-inc', 83311, ..., 13, ' United-States',\n",
              "        ' <=50K'],\n",
              "       [38, ' Private', 215646, ..., 40, ' United-States', ' <=50K'],\n",
              "       [53, ' Private', 234721, ..., 40, ' United-States', ' <=50K'],\n",
              "       ...,\n",
              "       [58, ' Private', 151910, ..., 40, ' United-States', ' <=50K'],\n",
              "       [22, ' Private', 201490, ..., 20, ' United-States', ' <=50K'],\n",
              "       [52, ' Self-emp-inc', 287927, ..., 40, ' United-States', ' >50K']],\n",
              "      dtype=object)"
            ]
          },
          "execution_count": 17,
          "metadata": {},
          "output_type": "execute_result"
        }
      ],
      "source": [
        "b"
      ]
    },
    {
      "cell_type": "code",
      "execution_count": null,
      "metadata": {
        "id": "zQuYPiFK1Dag"
      },
      "outputs": [],
      "source": [
        "d=np.arange(len(b))"
      ]
    },
    {
      "cell_type": "code",
      "execution_count": null,
      "metadata": {
        "colab": {
          "base_uri": "https://localhost:8080/"
        },
        "id": "US3gmBHv1Dag",
        "outputId": "ac3168b0-0256-4077-fff9-293ecf9c3860"
      },
      "outputs": [
        {
          "data": {
            "text/plain": [
              "array([    0,     1,     2, ..., 32557, 32558, 32559])"
            ]
          },
          "execution_count": 20,
          "metadata": {},
          "output_type": "execute_result"
        }
      ],
      "source": [
        "d"
      ]
    },
    {
      "cell_type": "code",
      "execution_count": null,
      "metadata": {
        "collapsed": true,
        "id": "bGKlKPeU1Dai"
      },
      "outputs": [],
      "source": []
    }
  ],
  "metadata": {
    "colab": {
      "name": "FDSLab 1.introduction.ipynb",
      "provenance": []
    },
    "kernelspec": {
      "display_name": "Python 3.10.6 64-bit",
      "language": "python",
      "name": "python3"
    },
    "language_info": {
      "codemirror_mode": {
        "name": "ipython",
        "version": 3
      },
      "file_extension": ".py",
      "mimetype": "text/x-python",
      "name": "python",
      "nbconvert_exporter": "python",
      "pygments_lexer": "ipython3",
      "version": "3.10.6"
    },
    "vscode": {
      "interpreter": {
        "hash": "27f6fea6f47ae512550f0b8facdbd035a93e1dd89633f7bf2dd00a2502c71d0d"
      }
    }
  },
  "nbformat": 4,
  "nbformat_minor": 0
}
