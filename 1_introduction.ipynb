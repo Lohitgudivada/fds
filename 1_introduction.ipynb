{
  "cells": [
    {
      "cell_type": "code",
      "execution_count": null,
      "metadata": {
        "id": "tVJ4lviUAbuZ",
        "outputId": "2642dd37-eb7e-4eec-ea66-089db5af45c3"
      },
      "outputs": [
        {
          "data": {
            "text/plain": [
              "'multiple lines of comments are being shown here'"
            ]
          },
          "execution_count": 3,
          "metadata": {},
          "output_type": "execute_result"
        }
      ],
      "source": [
        "#comments in Python\n",
        "'''multiple lines of comments are being shown here'''"
      ]
    },
    {
      "cell_type": "markdown",
      "metadata": {
        "id": "Hgj4AD0qAbuh"
      },
      "source": [
        "# Important\n",
        "this is a markdown and not a code window\n"
      ]
    },
    {
      "cell_type": "code",
      "execution_count": null,
      "metadata": {
        "id": "8I4oLGMNAbuk",
        "outputId": "1a83cf33-6b06-4b2b-abb0-f67d9194924f"
      },
      "outputs": [
        {
          "data": {
            "text/plain": [
              "10"
            ]
          },
          "execution_count": 1,
          "metadata": {},
          "output_type": "execute_result"
        }
      ],
      "source": [
        "2+3+5"
      ]
    },
    {
      "cell_type": "code",
      "execution_count": null,
      "metadata": {
        "id": "YP5r7PZxAbul",
        "outputId": "29915bdc-29dd-4258-873d-bdb7e87d707c"
      },
      "outputs": [
        {
          "data": {
            "text/plain": [
              "67"
            ]
          },
          "execution_count": 2,
          "metadata": {},
          "output_type": "execute_result"
        }
      ],
      "source": [
        "66-3-(-4)"
      ]
    },
    {
      "cell_type": "code",
      "execution_count": null,
      "metadata": {
        "id": "83aSpxwXAbum",
        "outputId": "cd0a01ad-ac1d-448b-fdee-4dd8030177f4"
      },
      "outputs": [
        {
          "data": {
            "text/plain": [
              "96"
            ]
          },
          "execution_count": 3,
          "metadata": {},
          "output_type": "execute_result"
        }
      ],
      "source": [
        "32*3"
      ]
    },
    {
      "cell_type": "code",
      "execution_count": null,
      "metadata": {
        "id": "6IL6MlRCAbun",
        "outputId": "9f225e41-13eb-4dda-ad72-600e1765243d"
      },
      "outputs": [
        {
          "data": {
            "text/plain": [
              "8"
            ]
          },
          "execution_count": 4,
          "metadata": {},
          "output_type": "execute_result"
        }
      ],
      "source": [
        "2**3"
      ]
    },
    {
      "cell_type": "code",
      "execution_count": null,
      "metadata": {
        "id": "0BCwCiXNAbun",
        "outputId": "8172dd51-578c-43f6-819e-a81de954720b"
      },
      "outputs": [
        {
          "data": {
            "text/plain": [
              "1"
            ]
          },
          "execution_count": 5,
          "metadata": {},
          "output_type": "execute_result"
        }
      ],
      "source": [
        "2^3"
      ]
    },
    {
      "cell_type": "code",
      "execution_count": null,
      "metadata": {
        "id": "8-nT7DhzAbuo",
        "outputId": "252ac992-2df4-4378-a6bf-3191c4e8a2b5"
      },
      "outputs": [
        {
          "data": {
            "text/plain": [
              "14.333333333333334"
            ]
          },
          "execution_count": 6,
          "metadata": {},
          "output_type": "execute_result"
        }
      ],
      "source": [
        "43/3"
      ]
    },
    {
      "cell_type": "code",
      "execution_count": null,
      "metadata": {
        "id": "Hjwg5lUtAbup",
        "outputId": "6811f6ec-e29b-43b7-d8e9-8c9ec93c5dda"
      },
      "outputs": [
        {
          "data": {
            "text/plain": [
              "14"
            ]
          },
          "execution_count": 7,
          "metadata": {},
          "output_type": "execute_result"
        }
      ],
      "source": [
        "43//3"
      ]
    },
    {
      "cell_type": "code",
      "execution_count": null,
      "metadata": {
        "id": "C5Lkbf7aAbuq",
        "outputId": "8e83765f-7c36-4716-c591-c1295f01a41b"
      },
      "outputs": [
        {
          "data": {
            "text/plain": [
              "1"
            ]
          },
          "execution_count": 8,
          "metadata": {},
          "output_type": "execute_result"
        }
      ],
      "source": [
        "43%3"
      ]
    },
    {
      "cell_type": "code",
      "execution_count": null,
      "metadata": {
        "collapsed": true,
        "id": "RUnLoulFAbuq"
      },
      "outputs": [],
      "source": [
        "import math as mt"
      ]
    },
    {
      "cell_type": "code",
      "execution_count": null,
      "metadata": {
        "id": "iiC7deCiAbur",
        "outputId": "4aa6d9c1-ae15-42ca-a4b3-62106c37ab3d"
      },
      "outputs": [
        {
          "data": {
            "text/plain": [
              "7.38905609893065"
            ]
          },
          "execution_count": 10,
          "metadata": {},
          "output_type": "execute_result"
        }
      ],
      "source": [
        "mt.exp(2)"
      ]
    },
    {
      "cell_type": "code",
      "execution_count": null,
      "metadata": {
        "id": "mBqmJ0X-Abur",
        "outputId": "ad119bde-d368-4f11-ad01-ecff12f20ef9"
      },
      "outputs": [
        {
          "data": {
            "text/plain": [
              "2.302585092994046"
            ]
          },
          "execution_count": 11,
          "metadata": {},
          "output_type": "execute_result"
        }
      ],
      "source": [
        "mt.log(10)"
      ]
    },
    {
      "cell_type": "code",
      "execution_count": null,
      "metadata": {
        "id": "rBZvorYVAbus",
        "outputId": "e17f3aa3-7552-44fb-9add-5f54a51750cc"
      },
      "outputs": [
        {
          "data": {
            "text/plain": [
              "2.718281828459045"
            ]
          },
          "execution_count": 12,
          "metadata": {},
          "output_type": "execute_result"
        }
      ],
      "source": [
        "mt.exp(1)"
      ]
    },
    {
      "cell_type": "code",
      "execution_count": null,
      "metadata": {
        "id": "tEsuFkYoAbus",
        "outputId": "36d816fd-0850-429b-822b-3d4d8fb92a25"
      },
      "outputs": [
        {
          "data": {
            "text/plain": [
              "3.0"
            ]
          },
          "execution_count": 14,
          "metadata": {},
          "output_type": "execute_result"
        }
      ],
      "source": [
        "mt.log(8,2)"
      ]
    },
    {
      "cell_type": "code",
      "execution_count": null,
      "metadata": {
        "id": "84Dw1REDAbut",
        "outputId": "30cd5791-9692-4670-bfc7-60eccb4af370"
      },
      "outputs": [
        {
          "data": {
            "text/plain": [
              "31.622776601683793"
            ]
          },
          "execution_count": 15,
          "metadata": {},
          "output_type": "execute_result"
        }
      ],
      "source": [
        "mt.sqrt(1000)"
      ]
    },
    {
      "cell_type": "code",
      "execution_count": null,
      "metadata": {
        "id": "jH-fAGE2Abut"
      },
      "outputs": [],
      "source": [
        "import numpy as np"
      ]
    },
    {
      "cell_type": "code",
      "execution_count": null,
      "metadata": {
        "id": "JwgErcRGAbut",
        "outputId": "82f1c34a-7483-4a44-ca4b-a6d0ed34d307"
      },
      "outputs": [
        {
          "data": {
            "text/plain": [
              "21.123150806638673"
            ]
          },
          "execution_count": 18,
          "metadata": {},
          "output_type": "execute_result"
        }
      ],
      "source": [
        "np.std([23,45,67,78])"
      ]
    },
    {
      "cell_type": "code",
      "execution_count": null,
      "metadata": {
        "id": "6787VT4hAbuu",
        "outputId": "41370e88-6c4e-421c-d281-962aa55ee33b"
      },
      "outputs": [
        {
          "data": {
            "text/plain": [
              "['__doc__',\n",
              " '__loader__',\n",
              " '__name__',\n",
              " '__package__',\n",
              " '__spec__',\n",
              " 'acos',\n",
              " 'acosh',\n",
              " 'asin',\n",
              " 'asinh',\n",
              " 'atan',\n",
              " 'atan2',\n",
              " 'atanh',\n",
              " 'ceil',\n",
              " 'copysign',\n",
              " 'cos',\n",
              " 'cosh',\n",
              " 'degrees',\n",
              " 'e',\n",
              " 'erf',\n",
              " 'erfc',\n",
              " 'exp',\n",
              " 'expm1',\n",
              " 'fabs',\n",
              " 'factorial',\n",
              " 'floor',\n",
              " 'fmod',\n",
              " 'frexp',\n",
              " 'fsum',\n",
              " 'gamma',\n",
              " 'gcd',\n",
              " 'hypot',\n",
              " 'inf',\n",
              " 'isclose',\n",
              " 'isfinite',\n",
              " 'isinf',\n",
              " 'isnan',\n",
              " 'ldexp',\n",
              " 'lgamma',\n",
              " 'log',\n",
              " 'log10',\n",
              " 'log1p',\n",
              " 'log2',\n",
              " 'modf',\n",
              " 'nan',\n",
              " 'pi',\n",
              " 'pow',\n",
              " 'radians',\n",
              " 'sin',\n",
              " 'sinh',\n",
              " 'sqrt',\n",
              " 'tan',\n",
              " 'tanh',\n",
              " 'trunc']"
            ]
          },
          "execution_count": 20,
          "metadata": {},
          "output_type": "execute_result"
        }
      ],
      "source": [
        "dir(mt)"
      ]
    },
    {
      "cell_type": "code",
      "execution_count": null,
      "metadata": {
        "id": "zqr4rGyhAbuu",
        "outputId": "6a4f9658-e570-40a2-df50-05c95b4ddd99"
      },
      "outputs": [
        {
          "data": {
            "text/plain": [
              "int"
            ]
          },
          "execution_count": 21,
          "metadata": {},
          "output_type": "execute_result"
        }
      ],
      "source": [
        "type(1)"
      ]
    },
    {
      "cell_type": "code",
      "execution_count": null,
      "metadata": {
        "id": "PvYs4AYXAbuu",
        "outputId": "dd870a1d-ec8d-43d6-ec16-9542a8255734"
      },
      "outputs": [
        {
          "data": {
            "text/plain": [
              "str"
            ]
          },
          "execution_count": 22,
          "metadata": {},
          "output_type": "execute_result"
        }
      ],
      "source": [
        "type(\"Ajay\")"
      ]
    },
    {
      "cell_type": "code",
      "execution_count": null,
      "metadata": {
        "collapsed": true,
        "id": "3wfadJhtAbuv",
        "outputId": "d53effc8-aacb-4457-bf24-0d7868ce3376"
      },
      "outputs": [
        {
          "data": {
            "text/plain": [
              "list"
            ]
          },
          "execution_count": 24,
          "metadata": {},
          "output_type": "execute_result"
        }
      ],
      "source": [
        "type([23,45,67])"
      ]
    },
    {
      "cell_type": "code",
      "execution_count": null,
      "metadata": {
        "collapsed": true,
        "id": "CGc4MTRpAbuv"
      },
      "outputs": [],
      "source": [
        "a=[23,45,67]"
      ]
    },
    {
      "cell_type": "code",
      "execution_count": null,
      "metadata": {
        "id": "57DA0A9lAbuv",
        "outputId": "f9ab16c1-0175-44fa-c7d9-0f422c1263e3"
      },
      "outputs": [
        {
          "data": {
            "text/plain": [
              "3"
            ]
          },
          "execution_count": 32,
          "metadata": {},
          "output_type": "execute_result"
        }
      ],
      "source": [
        "len(a)"
      ]
    },
    {
      "cell_type": "code",
      "execution_count": null,
      "metadata": {
        "id": "3eDZT4n8Abuw",
        "outputId": "16c5b79e-29c9-49d6-9297-b0bd28e65c36"
      },
      "outputs": [
        {
          "data": {
            "text/plain": [
              "17.962924780409974"
            ]
          },
          "execution_count": 31,
          "metadata": {},
          "output_type": "execute_result"
        }
      ],
      "source": [
        "np.std(a)"
      ]
    },
    {
      "cell_type": "code",
      "execution_count": null,
      "metadata": {
        "id": "7RB5s7IUAbuw",
        "outputId": "29ca9e08-ddd8-45f5-b828-57a369498687"
      },
      "outputs": [
        {
          "data": {
            "text/plain": [
              "322.66666666666669"
            ]
          },
          "execution_count": 28,
          "metadata": {},
          "output_type": "execute_result"
        }
      ],
      "source": [
        "np.var(a)"
      ]
    },
    {
      "cell_type": "code",
      "execution_count": null,
      "metadata": {
        "id": "dBmk5vE5Abuw",
        "outputId": "f438649e-e4da-427f-a576-7235ef1e470a"
      },
      "outputs": [
        {
          "data": {
            "text/plain": [
              "1234567891234567766543210876543211"
            ]
          },
          "execution_count": 30,
          "metadata": {},
          "output_type": "execute_result"
        }
      ],
      "source": [
        "123456789123456789*9999999999999999"
      ]
    },
    {
      "cell_type": "code",
      "execution_count": null,
      "metadata": {
        "id": "kcNHtw-9Abux"
      },
      "outputs": [],
      "source": [
        "np.random??"
      ]
    },
    {
      "cell_type": "code",
      "execution_count": null,
      "metadata": {
        "id": "FlBGvijOAbux"
      },
      "outputs": [],
      "source": [
        "from random import randrange,randint"
      ]
    },
    {
      "cell_type": "code",
      "execution_count": null,
      "metadata": {
        "id": "AMYrIwruAbux",
        "outputId": "d5eb582a-68b8-4e0e-ff3e-79a142413b44"
      },
      "outputs": [
        {
          "name": "stdout",
          "output_type": "stream",
          "text": [
            "78\n"
          ]
        }
      ],
      "source": [
        "print(randint(0,90))"
      ]
    },
    {
      "cell_type": "code",
      "execution_count": null,
      "metadata": {
        "id": "V5qycnZGAbux",
        "outputId": "6ad1e568-b1a5-4693-a2bd-9da1e764e218"
      },
      "outputs": [
        {
          "data": {
            "text/plain": [
              "286"
            ]
          },
          "execution_count": 42,
          "metadata": {},
          "output_type": "execute_result"
        }
      ],
      "source": [
        "randrange(1000)"
      ]
    },
    {
      "cell_type": "code",
      "execution_count": null,
      "metadata": {
        "id": "8-4pBjr4Abuy",
        "outputId": "0204163a-b695-42a6-df6c-919d4cdb8d7b"
      },
      "outputs": [
        {
          "name": "stdout",
          "output_type": "stream",
          "text": [
            "2472965195555081\n",
            "6352816454724336\n",
            "4809973335770632\n",
            "5246909950815852\n",
            "6348106781629098\n",
            "2586909203145681\n",
            "2509370301745813\n",
            "4082241628288070\n",
            "7691514263873286\n",
            "8069700113941950\n"
          ]
        }
      ],
      "source": [
        "for x in range(0,10):\n",
        "    print(randrange(10000000000000000))"
      ]
    },
    {
      "cell_type": "code",
      "execution_count": null,
      "metadata": {
        "id": "Gf34C22nAbuy"
      },
      "outputs": [],
      "source": [
        "def mynewfunction(x,y):\n",
        "    taxes=((x-1000000)*0.35+100000-min(y,100000))\n",
        "    print(taxes)"
      ]
    },
    {
      "cell_type": "code",
      "execution_count": null,
      "metadata": {
        "id": "u_P2j66pAbuy",
        "outputId": "c313888a-b608-486a-aa20-ecada190bf15"
      },
      "outputs": [
        {
          "name": "stdout",
          "output_type": "stream",
          "text": [
            "420000.0\n"
          ]
        }
      ],
      "source": [
        "mynewfunction(2200000,300000)"
      ]
    },
    {
      "cell_type": "code",
      "execution_count": null,
      "metadata": {
        "collapsed": true,
        "id": "P95a9JrJAbuy"
      },
      "outputs": [],
      "source": [
        "import os as os"
      ]
    },
    {
      "cell_type": "code",
      "execution_count": null,
      "metadata": {
        "id": "CQ49NaDGAbuz"
      },
      "outputs": [],
      "source": [
        "os??"
      ]
    },
    {
      "cell_type": "code",
      "execution_count": null,
      "metadata": {
        "id": "33OAi_ZBAbuz",
        "outputId": "7ad97129-d4a5-4720-fd76-c2b6e9b41caa"
      },
      "outputs": [
        {
          "name": "stdout",
          "output_type": "stream",
          "text": [
            "0\n",
            "6\n",
            "12\n",
            "18\n",
            "24\n"
          ]
        }
      ],
      "source": [
        "for x in range(0,30,6):\n",
        "    print(x)"
      ]
    },
    {
      "cell_type": "code",
      "execution_count": null,
      "metadata": {
        "collapsed": true,
        "id": "zAC-USbKAbuz"
      },
      "outputs": [],
      "source": [
        "def mynewfunction(x,y):\n",
        "    z=x**3+3*x*y+20*y\n",
        "    print(z)"
      ]
    },
    {
      "cell_type": "code",
      "execution_count": null,
      "metadata": {
        "id": "wQogNjJwAbu0",
        "outputId": "5c8be558-685a-4ed7-933f-15ab92f7de98"
      },
      "outputs": [
        {
          "name": "stdout",
          "output_type": "stream",
          "text": [
            "200\n",
            "596\n",
            "2288\n",
            "6572\n",
            "14744\n"
          ]
        }
      ],
      "source": [
        "for x in range(0,30,6):\n",
        "    mynewfunction(x,10)"
      ]
    },
    {
      "cell_type": "code",
      "execution_count": null,
      "metadata": {
        "collapsed": true,
        "id": "eclBYBNQAbu0"
      },
      "outputs": [],
      "source": [
        "import os as os"
      ]
    },
    {
      "cell_type": "code",
      "execution_count": null,
      "metadata": {
        "id": "P_kdG3nvAbu0",
        "outputId": "1cae919f-120d-4e08-ab0b-b0fe967f9d45"
      },
      "outputs": [
        {
          "data": {
            "text/plain": [
              "'C:\\\\Users\\\\Dell'"
            ]
          },
          "execution_count": 2,
          "metadata": {},
          "output_type": "execute_result"
        }
      ],
      "source": [
        "os.getcwd()"
      ]
    },
    {
      "cell_type": "code",
      "execution_count": null,
      "metadata": {
        "id": "c2o4JkgCAbu0",
        "outputId": "65319ade-5792-4356-fe0a-7c3ee4a037a3"
      },
      "outputs": [
        {
          "data": {
            "text/plain": [
              "['.bash_history',\n",
              " '.git',\n",
              " '.gitconfig',\n",
              " '.gitignore',\n",
              " '.idlerc',\n",
              " '.ipynb_checkpoints',\n",
              " '.ipython',\n",
              " '.jupyter',\n",
              " '.matplotlib',\n",
              " '.spyder-py3',\n",
              " '.ssh',\n",
              " '.VirtualBox',\n",
              " 'Anaconda3',\n",
              " 'AppData',\n",
              " 'Application Data',\n",
              " 'Contacts',\n",
              " 'Cookies',\n",
              " 'data munging again.ipynb',\n",
              " 'data wrangling titanic dataset.ipynb',\n",
              " 'Desktop',\n",
              " 'Documents',\n",
              " 'Downloads',\n",
              " 'Dropbox',\n",
              " 'Favorites',\n",
              " 'home',\n",
              " 'IntelGraphicsProfiles',\n",
              " 'introductory python.ipynb',\n",
              " 'Links',\n",
              " 'Local Settings',\n",
              " 'month_ridership.png',\n",
              " 'multiple file concat in pandas.ipynb',\n",
              " 'Music',\n",
              " 'My Documents',\n",
              " 'NetHood',\n",
              " 'new notebook.ipynb',\n",
              " 'nltk.ipynb',\n",
              " 'NTUSER.DAT',\n",
              " 'ntuser.dat.LOG1',\n",
              " 'ntuser.dat.LOG2',\n",
              " 'NTUSER.DAT{016888bd-6c6f-11de-8d1d-001e0bcde3ec}.TM.blf',\n",
              " 'NTUSER.DAT{016888bd-6c6f-11de-8d1d-001e0bcde3ec}.TMContainer00000000000000000001.regtrans-ms',\n",
              " 'NTUSER.DAT{016888bd-6c6f-11de-8d1d-001e0bcde3ec}.TMContainer00000000000000000002.regtrans-ms',\n",
              " 'ntuser.ini',\n",
              " 'pandas 11.ipynb',\n",
              " 'pandas analysis 1.ipynb',\n",
              " 'pandas data manipulation.ipynb',\n",
              " 'Pictures',\n",
              " 'PrintHood',\n",
              " 'Rdatasets',\n",
              " 'Recent',\n",
              " 'rforanalytics',\n",
              " 'Saved Games',\n",
              " 'Searches',\n",
              " 'SendTo',\n",
              " 'Start Menu',\n",
              " 'Templates',\n",
              " 'test web scraping.ipynb',\n",
              " 'time series.ipynb',\n",
              " 'Untitled.ipynb',\n",
              " 'untitled.txt',\n",
              " 'Untitled1.ipynb',\n",
              " 'untitled1.txt',\n",
              " 'Untitled2.ipynb',\n",
              " 'Untitled3.ipynb',\n",
              " 'Untitled4.ipynb',\n",
              " 'Untitled5.ipynb',\n",
              " 'Videos',\n",
              " 'VirtualBox VMs',\n",
              " 'Web Scraping Yelp with Beautiful Soup.ipynb']"
            ]
          },
          "execution_count": 3,
          "metadata": {},
          "output_type": "execute_result"
        }
      ],
      "source": [
        "os.listdir()"
      ]
    },
    {
      "cell_type": "code",
      "execution_count": null,
      "metadata": {
        "collapsed": true,
        "id": "lRaGZc5hAbu1"
      },
      "outputs": [],
      "source": [
        "os.chdir('C:\\\\Users\\\\Dell')"
      ]
    },
    {
      "cell_type": "code",
      "execution_count": null,
      "metadata": {
        "collapsed": true,
        "id": "6YW8_lgLAbu1"
      },
      "outputs": [],
      "source": [
        "mystring='Hello World'"
      ]
    },
    {
      "cell_type": "code",
      "execution_count": null,
      "metadata": {
        "id": "nkilabhWAbu1",
        "outputId": "c173180e-dd6e-44f3-beb3-4dcdb813c28e"
      },
      "outputs": [
        {
          "data": {
            "text/plain": [
              "'Hello World'"
            ]
          },
          "execution_count": 8,
          "metadata": {},
          "output_type": "execute_result"
        }
      ],
      "source": [
        "mystring"
      ]
    },
    {
      "cell_type": "code",
      "execution_count": null,
      "metadata": {
        "id": "gaxL4P94Abu1",
        "outputId": "f6cb6a27-93ce-4be2-8ea1-a0d5b2bc99bc"
      },
      "outputs": [
        {
          "data": {
            "text/plain": [
              "'e'"
            ]
          },
          "execution_count": 9,
          "metadata": {},
          "output_type": "execute_result"
        }
      ],
      "source": [
        "mystring[1]"
      ]
    },
    {
      "cell_type": "code",
      "execution_count": null,
      "metadata": {
        "id": "qnGQjh4aAbu1",
        "outputId": "639534b2-7b0c-4d4f-a84d-9906015527e0"
      },
      "outputs": [
        {
          "data": {
            "text/plain": [
              "'H'"
            ]
          },
          "execution_count": 10,
          "metadata": {},
          "output_type": "execute_result"
        }
      ],
      "source": [
        "mystring[0]"
      ]
    },
    {
      "cell_type": "code",
      "execution_count": null,
      "metadata": {
        "id": "k1SWkMjRAbu2",
        "outputId": "20d9fc94-4cc1-4b74-9d87-f5fc187fd2ff"
      },
      "outputs": [
        {
          "name": "stdout",
          "output_type": "stream",
          "text": [
            "Hello World\n"
          ]
        }
      ],
      "source": [
        "print(mystring)"
      ]
    },
    {
      "cell_type": "code",
      "execution_count": null,
      "metadata": {
        "id": "REIhgpmAAbu2",
        "outputId": "72606faa-f70e-4ded-952b-6d7327823951"
      },
      "outputs": [
        {
          "data": {
            "text/plain": [
              "str"
            ]
          },
          "execution_count": 12,
          "metadata": {},
          "output_type": "execute_result"
        }
      ],
      "source": [
        "type(mystring)"
      ]
    },
    {
      "cell_type": "code",
      "execution_count": null,
      "metadata": {
        "id": "qF-jk0zSAbu2",
        "outputId": "9178a3ca-54bf-4622-e478-44023237b152"
      },
      "outputs": [
        {
          "data": {
            "text/plain": [
              "11"
            ]
          },
          "execution_count": 13,
          "metadata": {},
          "output_type": "execute_result"
        }
      ],
      "source": [
        "len(mystring)"
      ]
    },
    {
      "cell_type": "code",
      "execution_count": null,
      "metadata": {
        "id": "lJrQuSbgAbu2"
      },
      "outputs": [],
      "source": [
        "newstring2='Aye aye me heartie\\'s'"
      ]
    },
    {
      "cell_type": "code",
      "execution_count": null,
      "metadata": {
        "collapsed": true,
        "id": "528ewkJZAbu2"
      },
      "outputs": [],
      "source": [
        "newstring3=\"Aye aye me heartie's\""
      ]
    },
    {
      "cell_type": "code",
      "execution_count": null,
      "metadata": {
        "id": "4_R8SZfFAbu3",
        "outputId": "24814350-d7df-4680-c5f6-567693acf084"
      },
      "outputs": [
        {
          "data": {
            "text/plain": [
              "\"Aye aye me heartie'sAye aye me heartie'sAye aye me heartie'sAye aye me heartie'sAye aye me heartie'sAye aye me heartie'sAye aye me heartie'sAye aye me heartie'sAye aye me heartie'sAye aye me heartie's\""
            ]
          },
          "execution_count": 18,
          "metadata": {},
          "output_type": "execute_result"
        }
      ],
      "source": [
        "10*newstring3"
      ]
    },
    {
      "cell_type": "code",
      "execution_count": null,
      "metadata": {
        "collapsed": true,
        "id": "hI0xQTmqAbu3"
      },
      "outputs": [],
      "source": [
        "ne1= \"'Ajay','Vijay','Anita','Ankit'\""
      ]
    },
    {
      "cell_type": "code",
      "execution_count": null,
      "metadata": {
        "id": "fgWN2aZTAbu3",
        "outputId": "f1397a5c-8d93-4b33-e030-716ad018463c"
      },
      "outputs": [
        {
          "data": {
            "text/plain": [
              "str"
            ]
          },
          "execution_count": 32,
          "metadata": {},
          "output_type": "execute_result"
        }
      ],
      "source": [
        "type(ne1)"
      ]
    },
    {
      "cell_type": "code",
      "execution_count": null,
      "metadata": {
        "id": "TGa4MBarAbu3",
        "outputId": "6acb7317-75d3-4a2d-bc78-e1d0888cf07b"
      },
      "outputs": [
        {
          "data": {
            "text/plain": [
              "\"'Ajay','Vijay','Anita','Ankit'\""
            ]
          },
          "execution_count": 31,
          "metadata": {},
          "output_type": "execute_result"
        }
      ],
      "source": [
        "str(ne1)"
      ]
    },
    {
      "cell_type": "code",
      "execution_count": null,
      "metadata": {
        "id": "1o6trDxHAbu3",
        "outputId": "6d35fbae-ebba-4f6f-df51-ad40c7fd23fd"
      },
      "outputs": [
        {
          "data": {
            "text/plain": [
              "'A'"
            ]
          },
          "execution_count": 33,
          "metadata": {},
          "output_type": "execute_result"
        }
      ],
      "source": [
        "ne1[1]"
      ]
    },
    {
      "cell_type": "code",
      "execution_count": null,
      "metadata": {
        "collapsed": true,
        "id": "A9ZE-fOZAbu4"
      },
      "outputs": [],
      "source": [
        "ne2= ['Ajay','Vijay','Anita','Ankit']"
      ]
    },
    {
      "cell_type": "code",
      "execution_count": null,
      "metadata": {
        "id": "jLt2wNKwAbu4",
        "outputId": "8e36b6f4-9ee8-4df5-a753-281059362fca"
      },
      "outputs": [
        {
          "data": {
            "text/plain": [
              "\"['Ajay', 'Vijay', 'Anita', 'Ankit']\""
            ]
          },
          "execution_count": 27,
          "metadata": {},
          "output_type": "execute_result"
        }
      ],
      "source": [
        "str(ne2)"
      ]
    },
    {
      "cell_type": "code",
      "execution_count": null,
      "metadata": {
        "id": "aflWXQHhAbu4",
        "outputId": "4ae2757c-7cc5-4c21-857d-afaf9ccf366d"
      },
      "outputs": [
        {
          "data": {
            "text/plain": [
              "'Vijay'"
            ]
          },
          "execution_count": 29,
          "metadata": {},
          "output_type": "execute_result"
        }
      ],
      "source": [
        "ne2[1]"
      ]
    },
    {
      "cell_type": "code",
      "execution_count": null,
      "metadata": {
        "collapsed": true,
        "id": "82QDEzLuAbu4"
      },
      "outputs": [],
      "source": [
        "myname1='Ajay'\n",
        "myname2='John'"
      ]
    },
    {
      "cell_type": "code",
      "execution_count": null,
      "metadata": {
        "collapsed": true,
        "id": "q1Eh6PNGAbu4"
      },
      "outputs": [],
      "source": [
        "message= \"Hi I am %s howdy\""
      ]
    },
    {
      "cell_type": "code",
      "execution_count": null,
      "metadata": {
        "id": "2flPziTfAbu4",
        "outputId": "4585d78d-0526-4b30-ace0-61ea53f082e7"
      },
      "outputs": [
        {
          "data": {
            "text/plain": [
              "'Hi I am Ajay howdy'"
            ]
          },
          "execution_count": 37,
          "metadata": {},
          "output_type": "execute_result"
        }
      ],
      "source": [
        "message %myname1\n"
      ]
    },
    {
      "cell_type": "code",
      "execution_count": null,
      "metadata": {
        "id": "WDS1XJrZAbu5",
        "outputId": "ed246158-f496-4fbf-ae95-4d0c392b9a81"
      },
      "outputs": [
        {
          "data": {
            "text/plain": [
              "'Hi I am John howdy'"
            ]
          },
          "execution_count": 36,
          "metadata": {},
          "output_type": "execute_result"
        }
      ],
      "source": [
        "message %myname2\n"
      ]
    },
    {
      "cell_type": "code",
      "execution_count": null,
      "metadata": {
        "id": "JYXTgYyAAbu5",
        "outputId": "49bf1218-7a9b-48a6-8c81-705ba731d7c1"
      },
      "outputs": [
        {
          "data": {
            "text/plain": [
              "['Ajay', 'Vijay', 'Anita', 'Ankit']"
            ]
          },
          "execution_count": 38,
          "metadata": {},
          "output_type": "execute_result"
        }
      ],
      "source": [
        "ne2"
      ]
    },
    {
      "cell_type": "code",
      "execution_count": null,
      "metadata": {
        "id": "6Ad7WCmcAbu5"
      },
      "outputs": [],
      "source": [
        "ne2.append('Anna')"
      ]
    },
    {
      "cell_type": "code",
      "execution_count": null,
      "metadata": {
        "id": "7lB7tLDaAbu5",
        "outputId": "ef16cd9c-1dbd-48ec-c0b0-fd54f46e5c7c"
      },
      "outputs": [
        {
          "data": {
            "text/plain": [
              "['Ajay', 'Vijay', 'Anita', 'Ankit', 'Anna']"
            ]
          },
          "execution_count": 41,
          "metadata": {},
          "output_type": "execute_result"
        }
      ],
      "source": [
        "ne2"
      ]
    },
    {
      "cell_type": "code",
      "execution_count": null,
      "metadata": {
        "collapsed": true,
        "id": "Ww_UX73uAbu5"
      },
      "outputs": [],
      "source": [
        "del ne2[0]"
      ]
    },
    {
      "cell_type": "code",
      "execution_count": null,
      "metadata": {
        "id": "wfR985lFAbu5",
        "outputId": "c2816bb9-f2b4-4338-dad9-57d6d457d816"
      },
      "outputs": [
        {
          "data": {
            "text/plain": [
              "['Vijay', 'Anita', 'Ankit', 'Anna']"
            ]
          },
          "execution_count": 43,
          "metadata": {},
          "output_type": "execute_result"
        }
      ],
      "source": [
        "ne2"
      ]
    },
    {
      "cell_type": "code",
      "execution_count": null,
      "metadata": {
        "collapsed": true,
        "id": "s3MyVJb9Abu5"
      },
      "outputs": [],
      "source": [
        "ne3=('Sachin','Dhoni','Gavaskar','Kapil')"
      ]
    },
    {
      "cell_type": "code",
      "execution_count": null,
      "metadata": {
        "id": "kkoup25bAbu6",
        "outputId": "ff0c2682-5c55-445c-9bb5-f197638bf4b7"
      },
      "outputs": [
        {
          "data": {
            "text/plain": [
              "['__add__',\n",
              " '__class__',\n",
              " '__contains__',\n",
              " '__delattr__',\n",
              " '__dir__',\n",
              " '__doc__',\n",
              " '__eq__',\n",
              " '__format__',\n",
              " '__ge__',\n",
              " '__getattribute__',\n",
              " '__getitem__',\n",
              " '__getnewargs__',\n",
              " '__gt__',\n",
              " '__hash__',\n",
              " '__init__',\n",
              " '__iter__',\n",
              " '__le__',\n",
              " '__len__',\n",
              " '__lt__',\n",
              " '__mul__',\n",
              " '__ne__',\n",
              " '__new__',\n",
              " '__reduce__',\n",
              " '__reduce_ex__',\n",
              " '__repr__',\n",
              " '__rmul__',\n",
              " '__setattr__',\n",
              " '__sizeof__',\n",
              " '__str__',\n",
              " '__subclasshook__',\n",
              " 'count',\n",
              " 'index']"
            ]
          },
          "execution_count": 46,
          "metadata": {},
          "output_type": "execute_result"
        }
      ],
      "source": [
        "dir(ne3)"
      ]
    },
    {
      "cell_type": "code",
      "execution_count": null,
      "metadata": {
        "collapsed": true,
        "id": "0X-BFWGYAbu6"
      },
      "outputs": [],
      "source": [
        "favourite_movie=['micky mouse,steamboat willie', 'vijay,slumdog millionaire', 'john,passion of christ', 'donald,arthur']\n",
        "\n"
      ]
    },
    {
      "cell_type": "code",
      "execution_count": null,
      "metadata": {
        "id": "xSqEeAiYAbu6",
        "outputId": "8df3925c-bbd2-4df2-c886-9ed34c64beb4"
      },
      "outputs": [
        {
          "data": {
            "text/plain": [
              "list"
            ]
          },
          "execution_count": 53,
          "metadata": {},
          "output_type": "execute_result"
        }
      ],
      "source": [
        "type(favourite_movie)"
      ]
    },
    {
      "cell_type": "code",
      "execution_count": null,
      "metadata": {
        "id": "1Q4m0HSGAbu6"
      },
      "outputs": [],
      "source": [
        "favourite_movie2={'micky mouse:steamboat willie', 'vijay:slumdog millionaire', 'john:passion of christ', 'donald:arthur'}\n"
      ]
    },
    {
      "cell_type": "code",
      "execution_count": null,
      "metadata": {
        "id": "W-2f6MroAbu6",
        "outputId": "0225e45f-66f8-45ee-dbf6-a7520269e25e"
      },
      "outputs": [
        {
          "data": {
            "text/plain": [
              "set"
            ]
          },
          "execution_count": 54,
          "metadata": {},
          "output_type": "execute_result"
        }
      ],
      "source": [
        "type(favourite_movie2)"
      ]
    },
    {
      "cell_type": "code",
      "execution_count": null,
      "metadata": {
        "collapsed": true,
        "id": "2tsnr1bKAbu6"
      },
      "outputs": [],
      "source": [
        "favourite_movie3={'micky mouse':'steamboat willie', 'vijay':'slumdog millionaire', 'john':'passion of christ', 'donald':'arthur'}\n"
      ]
    },
    {
      "cell_type": "code",
      "execution_count": null,
      "metadata": {
        "id": "l76I86gnAbu6",
        "outputId": "98a93345-e470-4027-b3e4-37bf80ef89ef"
      },
      "outputs": [
        {
          "data": {
            "text/plain": [
              "dict"
            ]
          },
          "execution_count": 56,
          "metadata": {},
          "output_type": "execute_result"
        }
      ],
      "source": [
        "type(favourite_movie3)"
      ]
    },
    {
      "cell_type": "code",
      "execution_count": null,
      "metadata": {
        "id": "CS48LfpVAbu7",
        "outputId": "f31f1a56-f55d-45f0-915b-7d42ba6af13f"
      },
      "outputs": [
        {
          "data": {
            "text/plain": [
              "'steamboat willie'"
            ]
          },
          "execution_count": 57,
          "metadata": {},
          "output_type": "execute_result"
        }
      ],
      "source": [
        "favourite_movie3['micky mouse']\n",
        "\n"
      ]
    },
    {
      "cell_type": "code",
      "execution_count": null,
      "metadata": {
        "collapsed": true,
        "id": "dyWL_xXPAbu7"
      },
      "outputs": [],
      "source": [
        "import re"
      ]
    },
    {
      "cell_type": "code",
      "execution_count": null,
      "metadata": {
        "collapsed": true,
        "id": "mTbOu1LlAbu7"
      },
      "outputs": [],
      "source": [
        "names =[\"Anna\", \"Anne\", \"Annaporna\",\"Shubham\",\"Aruna\"]"
      ]
    },
    {
      "cell_type": "code",
      "execution_count": null,
      "metadata": {
        "id": "f3IikpBvAbu7",
        "outputId": "8f892bbb-4a48-408c-c212-64a03a14f8cf"
      },
      "outputs": [
        {
          "name": "stdout",
          "output_type": "stream",
          "text": [
            "<_sre.SRE_Match object; span=(0, 2), match='An'>\n",
            "<_sre.SRE_Match object; span=(0, 2), match='An'>\n",
            "<_sre.SRE_Match object; span=(0, 2), match='An'>\n",
            "None\n",
            "None\n"
          ]
        }
      ],
      "source": [
        "for name in names:\n",
        "    print(re.search(r'(An)',name))"
      ]
    },
    {
      "cell_type": "code",
      "execution_count": null,
      "metadata": {
        "id": "stJIesEsAbu7",
        "outputId": "3d4beb38-749e-458e-f8ff-095413883fae"
      },
      "outputs": [
        {
          "name": "stdout",
          "output_type": "stream",
          "text": [
            "<_sre.SRE_Match object; span=(0, 1), match='A'>\n",
            "<_sre.SRE_Match object; span=(0, 1), match='A'>\n",
            "<_sre.SRE_Match object; span=(0, 1), match='A'>\n",
            "None\n",
            "<_sre.SRE_Match object; span=(0, 1), match='A'>\n"
          ]
        }
      ],
      "source": [
        "for name in names:\n",
        "    print(re.search(r'(A)',name))"
      ]
    },
    {
      "cell_type": "code",
      "execution_count": null,
      "metadata": {
        "id": "kRCyqs1fAbu7",
        "outputId": "fa551bde-a5aa-41bc-89e4-9c32ea845568"
      },
      "outputs": [
        {
          "name": "stdout",
          "output_type": "stream",
          "text": [
            "<_sre.SRE_Match object; span=(3, 4), match='a'>\n",
            "None\n",
            "<_sre.SRE_Match object; span=(3, 4), match='a'>\n",
            "<_sre.SRE_Match object; span=(5, 6), match='a'>\n",
            "<_sre.SRE_Match object; span=(4, 5), match='a'>\n"
          ]
        }
      ],
      "source": [
        "for name in names:\n",
        "    print(re.search(r'(a)',name))"
      ]
    },
    {
      "cell_type": "code",
      "execution_count": null,
      "metadata": {
        "id": "c7lLGuPhAbu7",
        "outputId": "628edde4-ebdf-4f9e-ec96-51187a65c20d"
      },
      "outputs": [
        {
          "name": "stdout",
          "output_type": "stream",
          "text": [
            "True\n",
            "False\n",
            "True\n",
            "True\n",
            "True\n"
          ]
        }
      ],
      "source": [
        "for name in names:\n",
        "    print(bool(re.search(r'(a)',name)))"
      ]
    },
    {
      "cell_type": "code",
      "execution_count": null,
      "metadata": {
        "collapsed": true,
        "id": "COdTu4geAbu8"
      },
      "outputs": [],
      "source": [
        "import numpy as np"
      ]
    },
    {
      "cell_type": "code",
      "execution_count": null,
      "metadata": {
        "collapsed": true,
        "id": "XOs1r5k6Abu8"
      },
      "outputs": [],
      "source": [
        "numlist=[\"$10000\",\"$20,000\",\"30,000\",40000,\"50000   \"] \n"
      ]
    },
    {
      "cell_type": "code",
      "execution_count": null,
      "metadata": {
        "id": "o-1al0h0Abu8",
        "outputId": "fbd75483-5216-4f4a-b98e-8487abe7a1b2"
      },
      "outputs": [
        {
          "name": "stdout",
          "output_type": "stream",
          "text": [
            "0\n",
            "$10000\n",
            "1\n",
            "$20,000\n",
            "2\n",
            "30,000\n",
            "3\n",
            "40000\n",
            "4\n",
            "50000   \n"
          ]
        }
      ],
      "source": [
        "for i,value in enumerate(numlist):\n",
        "    print(i)       \n",
        "    print(value)"
      ]
    },
    {
      "cell_type": "code",
      "execution_count": null,
      "metadata": {
        "collapsed": true,
        "id": "ro8o_JQ6Abu8"
      },
      "outputs": [],
      "source": [
        "for i,value in enumerate(numlist):\n",
        " \n",
        "    numlist[i]=re.sub(r\"([$,])\",\"\",str(value))\n",
        "    numlist[i]=int(numlist[i])"
      ]
    },
    {
      "cell_type": "code",
      "execution_count": null,
      "metadata": {
        "id": "XPRycTIrAbu8",
        "outputId": "87103a0d-f973-409e-a575-7875dd9c38ac"
      },
      "outputs": [
        {
          "data": {
            "text/plain": [
              "[10000, 20000, 30000, 40000, 50000]"
            ]
          },
          "execution_count": 77,
          "metadata": {},
          "output_type": "execute_result"
        }
      ],
      "source": [
        "numlist"
      ]
    },
    {
      "cell_type": "code",
      "execution_count": null,
      "metadata": {
        "id": "Q_XdDLSYAbu8",
        "outputId": "c5f80729-d7f9-459d-895a-b69e429c77e3"
      },
      "outputs": [
        {
          "data": {
            "text/plain": [
              "30000.0"
            ]
          },
          "execution_count": 68,
          "metadata": {},
          "output_type": "execute_result"
        }
      ],
      "source": [
        "np.mean(numlist)"
      ]
    },
    {
      "cell_type": "code",
      "execution_count": null,
      "metadata": {
        "collapsed": true,
        "id": "kXlP058AAbu9"
      },
      "outputs": [],
      "source": [
        "from datetime import datetime"
      ]
    },
    {
      "cell_type": "code",
      "execution_count": null,
      "metadata": {
        "id": "dhJVVqe5Abu9",
        "outputId": "26a09446-9020-48c2-c268-020a467565b9"
      },
      "outputs": [
        {
          "data": {
            "text/plain": [
              "datetime.datetime(2017, 4, 15, 14, 35, 5, 932765)"
            ]
          },
          "execution_count": 82,
          "metadata": {},
          "output_type": "execute_result"
        }
      ],
      "source": [
        "datetime.now()"
      ]
    },
    {
      "cell_type": "code",
      "execution_count": null,
      "metadata": {
        "collapsed": true,
        "id": "woKktdQSAbu9"
      },
      "outputs": [],
      "source": [
        "date_obj=datetime.strptime(\"15/August/2007\",\"%d/%B/%Y\")"
      ]
    },
    {
      "cell_type": "code",
      "execution_count": null,
      "metadata": {
        "id": "-DNcofzaAbu9",
        "outputId": "a520b5eb-7bb7-42bb-b7a3-66282564b015"
      },
      "outputs": [
        {
          "data": {
            "text/plain": [
              "datetime.datetime(2007, 8, 15, 0, 0)"
            ]
          },
          "execution_count": 81,
          "metadata": {},
          "output_type": "execute_result"
        }
      ],
      "source": [
        "date_obj"
      ]
    },
    {
      "cell_type": "code",
      "execution_count": null,
      "metadata": {
        "id": "vpNJjxQrAbu9"
      },
      "outputs": [],
      "source": [
        "a=date_obj-datetime.now()"
      ]
    },
    {
      "cell_type": "code",
      "execution_count": null,
      "metadata": {
        "id": "70X_bFamAbu9",
        "outputId": "3bef8ee9-57b5-4ef2-dadb-03d14e53eacb"
      },
      "outputs": [
        {
          "data": {
            "text/plain": [
              "-3532"
            ]
          },
          "execution_count": 86,
          "metadata": {},
          "output_type": "execute_result"
        }
      ],
      "source": [
        "a.days"
      ]
    },
    {
      "cell_type": "code",
      "execution_count": null,
      "metadata": {
        "id": "zRuGNMFIAbu9",
        "outputId": "d0e3e4d7-ff08-429c-f369-e42dbee65afe"
      },
      "outputs": [
        {
          "data": {
            "text/plain": [
              "33861"
            ]
          },
          "execution_count": 88,
          "metadata": {},
          "output_type": "execute_result"
        }
      ],
      "source": [
        "a.seconds"
      ]
    },
    {
      "cell_type": "code",
      "execution_count": null,
      "metadata": {
        "id": "jWqTM-whAbu9",
        "outputId": "568203b1-8ab6-498d-ef60-115e855ef0d9"
      },
      "outputs": [
        {
          "data": {
            "text/plain": [
              "'C:\\\\Users\\\\Dell'"
            ]
          },
          "execution_count": 89,
          "metadata": {},
          "output_type": "execute_result"
        }
      ],
      "source": [
        "os.getcwd()"
      ]
    },
    {
      "cell_type": "code",
      "execution_count": null,
      "metadata": {
        "id": "n6mStIY_Abu-",
        "outputId": "90d38851-b593-404f-e1d3-094baad89e5b"
      },
      "outputs": [
        {
          "name": "stdout",
          "output_type": "stream",
          "text": [
            "{'commit_hash': '5c9c918',\n",
            " 'commit_source': 'installation',\n",
            " 'default_encoding': 'cp1252',\n",
            " 'ipython_path': 'C:\\\\Users\\\\Dell\\\\Anaconda3\\\\lib\\\\site-packages\\\\IPython',\n",
            " 'ipython_version': '5.1.0',\n",
            " 'os_name': 'nt',\n",
            " 'platform': 'Windows-7-6.1.7600-SP0',\n",
            " 'sys_executable': 'C:\\\\Users\\\\Dell\\\\Anaconda3\\\\python.exe',\n",
            " 'sys_platform': 'win32',\n",
            " 'sys_version': '3.5.2 |Anaconda custom (64-bit)| (default, Jul  5 2016, '\n",
            "                '11:41:13) [MSC v.1900 64 bit (AMD64)]'}\n"
          ]
        }
      ],
      "source": [
        "import IPython \n",
        "print (IPython.sys_info())\n"
      ]
    },
    {
      "cell_type": "code",
      "execution_count": null,
      "metadata": {
        "id": "sjjyILRcAbu-",
        "outputId": "af382285-3f4c-4f61-80da-81a49cca8dec"
      },
      "outputs": [
        {
          "data": {
            "application/json": {
              "Software versions": [
                {
                  "module": "Python",
                  "version": "3.5.2 64bit [MSC v.1900 64 bit (AMD64)]"
                },
                {
                  "module": "IPython",
                  "version": "5.1.0"
                },
                {
                  "module": "OS",
                  "version": "Windows 7 6.1.7600 SP0"
                }
              ]
            },
            "text/html": [
              "<table><tr><th>Software</th><th>Version</th></tr><tr><td>Python</td><td>3.5.2 64bit [MSC v.1900 64 bit (AMD64)]</td></tr><tr><td>IPython</td><td>5.1.0</td></tr><tr><td>OS</td><td>Windows 7 6.1.7600 SP0</td></tr><tr><td colspan='2'>Sat Apr 15 14:49:54 2017 India Standard Time</td></tr></table>"
            ],
            "text/latex": [
              "\\begin{tabular}{|l|l|}\\hline\n",
              "{\\bf Software} & {\\bf Version} \\\\ \\hline\\hline\n",
              "Python & 3.5.2 64bit [MSC v.1900 64 bit (AMD64)] \\\\ \\hline\n",
              "IPython & 5.1.0 \\\\ \\hline\n",
              "OS & Windows 7 6.1.7600 SP0 \\\\ \\hline\n",
              "\\hline \\multicolumn{2}{|l|}{Sat Apr 15 14:49:54 2017 India Standard Time} \\\\ \\hline\n",
              "\\end{tabular}\n"
            ],
            "text/plain": [
              "Software versions\n",
              "Python 3.5.2 64bit [MSC v.1900 64 bit (AMD64)]\n",
              "IPython 5.1.0\n",
              "OS Windows 7 6.1.7600 SP0\n",
              "Sat Apr 15 14:49:54 2017 India Standard Time"
            ]
          },
          "execution_count": 94,
          "metadata": {},
          "output_type": "execute_result"
        }
      ],
      "source": [
        "%load_ext version_information\n",
        "%version_information "
      ]
    },
    {
      "cell_type": "code",
      "execution_count": null,
      "metadata": {
        "collapsed": true,
        "id": "5F6MnAS-Abu-"
      },
      "outputs": [],
      "source": [
        "os.chdir('C:\\\\Users\\\\Dell\\\\Downloads')"
      ]
    },
    {
      "cell_type": "code",
      "execution_count": null,
      "metadata": {
        "id": "Tq7QG9q-Abu-",
        "outputId": "23413760-8035-4c76-bf79-2f3d1e5dbdf1"
      },
      "outputs": [
        {
          "data": {
            "text/plain": [
              "['140749_2017.pdf',\n",
              " '2011-F01-0700-Rev4-MDDS.XLSX',\n",
              " '20150817143155.pdf',\n",
              " '20160111060911.pdf',\n",
              " '20170214052225.pdf',\n",
              " '7z1604-x64.exe',\n",
              " '7z1604.exe',\n",
              " '861415_10151432783238421_2124270505_o (1).jpg',\n",
              " '861415_10151432783238421_2124270505_o.jpg',\n",
              " 'AirPassengers.csv',\n",
              " 'ajayo.jpg',\n",
              " 'Alison Python  Invoice   - Sheet1.pdf',\n",
              " 'Alison SAS  Invoice   - Sheet1.pdf',\n",
              " 'All+CSV+Files+in+a+Folder.ipynb',\n",
              " 'Allison Interview Jones Invoice   - Sheet1.pdf',\n",
              " 'Anaconda3-4.2.0-Windows-x86_64.exe',\n",
              " 'apachehttpd.exe',\n",
              " 'April invoice adaptive analytics   - Sheet1.pdf',\n",
              " 'Assignment14_BusinessAnalytics (1).docx',\n",
              " 'Assignment14_BusinessAnalytics.docx',\n",
              " 'Assignment15_BusinessAnalytics.docx',\n",
              " 'Assignment16_BusinessAnalytics (1).docx',\n",
              " 'Assignment16_BusinessAnalytics (2).docx',\n",
              " 'Assignment16_BusinessAnalytics.docx',\n",
              " 'aug ust 2008.JPG',\n",
              " 'avast_free_antivirus_setup_online.exe',\n",
              " 'avinash_ltv.zip',\n",
              " 'BigDiamonds.csv',\n",
              " 'BigDiamonds.csv (1).zip',\n",
              " 'BigDiamonds.csv (2)',\n",
              " 'BigDiamonds.csv (2).zip',\n",
              " 'BigDiamonds.csv (3).zip',\n",
              " 'BigDiamonds.csv.zip',\n",
              " 'Boston (1).csv',\n",
              " 'Boston.csv',\n",
              " 'CAM- Ajay Ohri (1).pdf',\n",
              " 'CAM- Ajay Ohri.pdf',\n",
              " 'camtasia.exe',\n",
              " 'ccFraud.csv',\n",
              " 'Certificate of Incorporation - U74999DL2015PTC282030 (26 June 2015).pdf',\n",
              " 'CHAP1-6PythonforRUsersAnapproachforDataScience.docx',\n",
              " 'chapter+3+_+spark.html',\n",
              " 'chi+square+test.ipynb',\n",
              " 'chromeinstall-8u111.exe',\n",
              " 'Cisco_WebEx_Add-On.exe',\n",
              " 'class2.csv',\n",
              " 'Collabera Invoice (1).pdf',\n",
              " 'Collabera Invoice.pdf',\n",
              " 'Collectcent Invoice.pdf',\n",
              " 'college degrees.pdf',\n",
              " 'DAP 1.pdf',\n",
              " 'DAP 1.pptx',\n",
              " 'DAP 6 RDBMS and SQL.pdf',\n",
              " 'DAP 6 RDBMS and SQL.pptx',\n",
              " 'Data Analysis (1).7z',\n",
              " 'Data Analysis (1).rar',\n",
              " 'Data Analysis.rar',\n",
              " 'Data Viz.pptx',\n",
              " 'data+exploration.ipynb',\n",
              " 'data+manipulation.ipynb',\n",
              " 'data+munging+again.ipynb',\n",
              " 'data+wrangling+titanic+dataset.ipynb',\n",
              " 'data1.csv',\n",
              " 'datasets.csv',\n",
              " 'Decision Trees.pdf',\n",
              " 'DecisionStatsOfferLetter.docx',\n",
              " 'DecisionStatsRelievingLetter.docx',\n",
              " 'descriptive+stats+in+Python.ipynb',\n",
              " 'desktop.ini',\n",
              " 'Diamond (1).csv',\n",
              " 'Diamond (2).csv',\n",
              " 'Diamond (3).csv',\n",
              " 'Diamond (4).csv',\n",
              " 'Diamond (5).csv',\n",
              " 'Diamond (6).csv',\n",
              " 'Diamond (7).csv',\n",
              " 'Diamond (8).csv',\n",
              " 'Diamond.csv',\n",
              " 'DropboxInstaller.exe',\n",
              " 'edb_npgsql.exe',\n",
              " 'edb_pgjdbc.exe',\n",
              " 'edb_psqlodbc.exe',\n",
              " 'edb_psqlodbc.exe-20170203172812',\n",
              " 'edb_psqlodbc.exe-20170307203617',\n",
              " 'final invoice edureka  - Sheet1.pdf',\n",
              " 'FinalPythonforRUsersAnapproachforDataScience (1).docx',\n",
              " 'FinalPythonforRUsersAnapproachforDataScience (2).docx',\n",
              " 'FinalPythonforRUsersAnapproachforDataScience (3).docx',\n",
              " 'FinalPythonforRUsersAnapproachforDataScience (4).docx',\n",
              " 'FinalPythonforRUsersAnapproachforDataScience.docx',\n",
              " 'final_webinar (1).pdf',\n",
              " 'final_webinar.pdf',\n",
              " 'Git-2.11.0-64-bit.exe',\n",
              " 'Git-2.12.0-64-bit.exe',\n",
              " 'GitHubSetup (1).exe',\n",
              " 'GitHubSetup (2).exe',\n",
              " 'GitHubSetup.exe',\n",
              " 'GOMAUDIOGLOBALSETUP.EXE',\n",
              " 'Hdma.csv',\n",
              " 'Hedonic.csv',\n",
              " 'HP Downloads',\n",
              " 'HPSupportSolutionsFramework-12.5.32.203.exe',\n",
              " 'image.png',\n",
              " 'IMS PROSCHOOL Workshop.pptx.pdf',\n",
              " 'IMS PROSCHOOL Workshop.pptx.pptx',\n",
              " 'internship.docx',\n",
              " 'Introduction to SAS (1).pdf',\n",
              " 'Introduction to SAS Part 1 (1).pdf',\n",
              " 'Introduction to SAS Part 1.pdf',\n",
              " 'Introduction to SAS.pdf',\n",
              " 'Invoice for Digital Vidya.pdf',\n",
              " 'Invoice for Weekendr.pdf',\n",
              " 'Invoice format - Ajay Ohri CONTATA (1).xls',\n",
              " 'Invoice format - Ajay Ohri CONTATA.xls',\n",
              " 'invoice rapid miner.pdf',\n",
              " 'Invoice trafla format.docx',\n",
              " 'iris2 (1).ipynb',\n",
              " 'iris2 (2).ipynb',\n",
              " 'iris2.ipynb',\n",
              " 'January invoice Indicus  .pdf',\n",
              " 'June AV   Invoice   - Sheet1.pdf',\n",
              " 'Lecture 6 - KNN & Naive Bayes.ppt',\n",
              " 'Local Disk (C) - Shortcut.lnk',\n",
              " 'logistic regression - script for ppt.R',\n",
              " 'logistic_regression_-_script_for_ppt.html',\n",
              " 'March invoice Indicus   - Sheet1.pdf',\n",
              " 'mongodb-win32-x86_64-2008plus-ssl-3.4.2-signed.msi',\n",
              " 'mongodb-win32-x86_64-3.4.2-signed.msi',\n",
              " 'mortDefault',\n",
              " 'mortDefault.zip',\n",
              " 'mtcarslm.R',\n",
              " 'multiple+file+concat+in+pandas (1).ipynb',\n",
              " 'multiple+file+concat+in+pandas.ipynb',\n",
              " 'my+first+class+in+python.ipynb',\n",
              " 'nltk.ipynb',\n",
              " 'notebook-Copy1.html',\n",
              " 'Offer Letter - Ajay Ohri (1).pdf',\n",
              " 'Offer Letter - Ajay Ohri.pdf',\n",
              " 'Other Data Mining  Methods (1).pdf',\n",
              " 'Other Data Mining  Methods.pdf',\n",
              " 'output1 (1).xls',\n",
              " 'output1 (2).xls',\n",
              " 'output1.xls',\n",
              " 'pandas+11.ipynb',\n",
              " 'pandas+analysis+1.ipynb',\n",
              " 'pandas+data+manipulation.ipynb',\n",
              " 'passport image.pdf',\n",
              " 'Pawconinvoice2016.pdf',\n",
              " 'Pawconinvoice2017 (1).pdf',\n",
              " 'Pawconinvoice2017 (2).pdf',\n",
              " 'Pawconinvoice2017 (3).pdf',\n",
              " 'Pawconinvoice2017.pdf',\n",
              " 'Payslip Feb 2016 - Sheet1.pdf',\n",
              " 'Payslip Feb 2016.pdf',\n",
              " 'Payslip Format Decisionstats - Sheet1.pdf',\n",
              " 'Payslip Jan 2016 - Sheet1.pdf',\n",
              " 'Payslip Jan 2016.pdf',\n",
              " 'Payslip March 2016 - Sheet1.pdf',\n",
              " 'Payslip March 2016.pdf',\n",
              " 'pgd.csv',\n",
              " 'postgresql-9.6.1-1-windows-x64.exe',\n",
              " 'Program 1-results.rtf',\n",
              " 'protein.csv',\n",
              " 'python+with+postgres (1).ipynb',\n",
              " 'python+with+postgres.ipynb',\n",
              " 'Python.docx',\n",
              " 'R-3.3.2-win.exe',\n",
              " 'R-3.3.3-win.exe',\n",
              " 'RCertificationExam.pdf',\n",
              " 'reg+model.ipynb',\n",
              " 'Revision -  Business Analytics (1).pdf',\n",
              " 'Revision -  Business Analytics.pdf',\n",
              " 'RidingMowers.csv',\n",
              " 'rsconnect',\n",
              " 'RStudio-1.0.136.exe',\n",
              " 'Salary Slip, Feb 2016.pdf',\n",
              " 'Salary Slip, Jan 2016.pdf',\n",
              " 'Salary Slip, March 2016 (1).pdf',\n",
              " 'Salary Slip, March 2016 (2).pdf',\n",
              " 'Salary Slip, March 2016.pdf',\n",
              " 'sales-of-shampoo-over-a-three-ye.csv',\n",
              " 'SAS part 2.pdf',\n",
              " 'SAS Part 3.pdf',\n",
              " 'sas-university-edition-107140.pdf',\n",
              " 'Scan0095.pdf',\n",
              " 'Scanned Invoice for Collabera.pdf',\n",
              " 'Screenshot 2017-01-23 12.36.55.png',\n",
              " 'September invoice adaptive analytics   - Sheet1.pdf',\n",
              " 'Sollers January.pdf',\n",
              " 'sqlalchemy.ipynb',\n",
              " 'stackoverflow-dump-analysis.html',\n",
              " 'Sunstone.pdf',\n",
              " 'Tableau.pdf',\n",
              " 'TableauPublicDesktop-64bit-10-1-3.exe',\n",
              " 'TableauPublicDesktop-64bit-10-1-4.exe',\n",
              " 'telecom.csv',\n",
              " 'TelecomServiceProviderCaseStudy.pdf',\n",
              " 'test+web+scraping.ipynb',\n",
              " 'Text Mining (1).pdf',\n",
              " 'Text Mining.pdf',\n",
              " 'third.sas7bdat',\n",
              " 'Time Series  Forecasting (1).pdf',\n",
              " 'Time Series  Forecasting.pdf',\n",
              " 'ts.html',\n",
              " 'ts.R',\n",
              " 'Unconfirmed 373974.crdownload',\n",
              " 'Unconfirmed 376991.crdownload',\n",
              " 'Unconfirmed 950045.crdownload',\n",
              " 'VirtualBox-5.1.8-111374-Win (1).exe',\n",
              " 'VirtualBox-5.1.8-111374-Win.exe',\n",
              " 'Web+Scraping+Yelp+with+Beautiful+Soup.ipynb',\n",
              " 'Webinar for Business Analytics.pdf',\n",
              " 'WhatsApp Image 2017-02-18 at 08.42.55 (1).jpeg',\n",
              " 'WhatsApp Image 2017-02-18 at 08.42.55.jpeg']"
            ]
          },
          "execution_count": 91,
          "metadata": {},
          "output_type": "execute_result"
        }
      ],
      "source": [
        "os.listdir()"
      ]
    },
    {
      "cell_type": "code",
      "execution_count": null,
      "metadata": {
        "id": "Y7LfQHvnAbu-"
      },
      "outputs": [],
      "source": [
        "import glob as glob"
      ]
    },
    {
      "cell_type": "code",
      "execution_count": null,
      "metadata": {
        "id": "XQ4BVeBTAbu-",
        "outputId": "f22a03e1-fe59-4496-db15-33d516d5dd4b"
      },
      "outputs": [
        {
          "name": "stdout",
          "output_type": "stream",
          "text": [
            "['AirPassengers.csv', 'BigDiamonds.csv', 'Boston (1).csv', 'Boston.csv', 'ccFraud.csv', 'class2.csv', 'data1.csv', 'datasets.csv', 'Diamond (1).csv', 'Diamond (2).csv', 'Diamond (3).csv', 'Diamond (4).csv', 'Diamond (5).csv', 'Diamond (6).csv', 'Diamond (7).csv', 'Diamond (8).csv', 'Diamond.csv', 'Hdma.csv', 'Hedonic.csv', 'pgd.csv', 'protein.csv', 'RidingMowers.csv', 'sales-of-shampoo-over-a-three-ye.csv', 'telecom.csv']\n"
          ]
        }
      ],
      "source": [
        "path = os.getcwd()\n",
        "extension = 'csv'\n",
        "os.chdir(path)\n",
        "result = [i for i in glob.glob('*.{}'.format(extension))]\n",
        "print(result)\n"
      ]
    },
    {
      "cell_type": "code",
      "execution_count": null,
      "metadata": {
        "collapsed": true,
        "id": "ceiVDC2GAbu-"
      },
      "outputs": [],
      "source": [
        "import pandas as pd"
      ]
    },
    {
      "cell_type": "code",
      "execution_count": null,
      "metadata": {
        "id": "-kh7-e7PAbu_"
      },
      "outputs": [],
      "source": [
        "fraud=pd.read_csv('ccFraud.csv')"
      ]
    },
    {
      "cell_type": "code",
      "execution_count": null,
      "metadata": {
        "collapsed": true,
        "id": "IefCVsqcAbu_"
      },
      "outputs": [],
      "source": [
        "mtcars=pd.read_csv(\"https://vincentarelbundock.github.io/Rdatasets/csv/datasets/mtcars.csv\")"
      ]
    },
    {
      "cell_type": "code",
      "execution_count": null,
      "metadata": {
        "collapsed": true,
        "id": "IRp7GyY1Abu_"
      },
      "outputs": [],
      "source": [
        "smalldiamonds=pd.read_csv(\"C:\\\\Users\\\\Dell\\\\Desktop\\\\Diamond (8).csv\")"
      ]
    },
    {
      "cell_type": "code",
      "execution_count": null,
      "metadata": {
        "id": "MqWlrXVXAbu_",
        "outputId": "ef7f56cc-73b4-40d6-e899-adc57fd5a815"
      },
      "outputs": [
        {
          "data": {
            "text/plain": [
              "Index(['custID', 'gender', 'state', 'cardholder', 'balance', 'numTrans',\n",
              "       'numIntlTrans', 'creditLine', 'fraudRisk'],\n",
              "      dtype='object')"
            ]
          },
          "execution_count": 111,
          "metadata": {},
          "output_type": "execute_result"
        }
      ],
      "source": [
        "fraud.columns"
      ]
    },
    {
      "cell_type": "code",
      "execution_count": null,
      "metadata": {
        "id": "TiFG9thdAbu_",
        "outputId": "937412e8-16a4-4aa3-b430-f710c59ac0ee"
      },
      "outputs": [
        {
          "data": {
            "text/plain": [
              "(10000000, 9)"
            ]
          },
          "execution_count": 110,
          "metadata": {},
          "output_type": "execute_result"
        }
      ],
      "source": [
        "fraud.shape"
      ]
    },
    {
      "cell_type": "code",
      "execution_count": null,
      "metadata": {
        "id": "ojYhrJfcAbu_",
        "outputId": "73294ca5-adc8-40e2-db8b-1286e8c63b48"
      },
      "outputs": [
        {
          "data": {
            "text/plain": [
              "10000000"
            ]
          },
          "execution_count": 120,
          "metadata": {},
          "output_type": "execute_result"
        }
      ],
      "source": [
        "len(fraud)"
      ]
    },
    {
      "cell_type": "code",
      "execution_count": null,
      "metadata": {
        "id": "oaP-4XKjAbu_",
        "outputId": "d1a9ca1c-04d0-4c8e-d16b-5080f6faedcc"
      },
      "outputs": [
        {
          "data": {
            "text/plain": [
              "9"
            ]
          },
          "execution_count": 121,
          "metadata": {},
          "output_type": "execute_result"
        }
      ],
      "source": [
        "len(fraud.columns)"
      ]
    },
    {
      "cell_type": "code",
      "execution_count": null,
      "metadata": {
        "id": "L6lMxsCcAbvA",
        "outputId": "ba477901-03e1-4049-b769-d5e5b64bafef"
      },
      "outputs": [
        {
          "data": {
            "text/plain": [
              "custID          int64\n",
              "gender          int64\n",
              "state           int64\n",
              "cardholder      int64\n",
              "balance         int64\n",
              "numTrans        int64\n",
              "numIntlTrans    int64\n",
              "creditLine      int64\n",
              "fraudRisk       int64\n",
              "dtype: object"
            ]
          },
          "execution_count": 109,
          "metadata": {},
          "output_type": "execute_result"
        }
      ],
      "source": [
        "fraud.dtypes"
      ]
    },
    {
      "cell_type": "code",
      "execution_count": null,
      "metadata": {
        "id": "2PO3UhycAbvA",
        "outputId": "70acfd39-b01a-464e-d067-1016834e03a2"
      },
      "outputs": [
        {
          "name": "stdout",
          "output_type": "stream",
          "text": [
            "<class 'pandas.core.frame.DataFrame'>\n",
            "RangeIndex: 10000000 entries, 0 to 9999999\n",
            "Data columns (total 9 columns):\n",
            "custID          int64\n",
            "gender          int64\n",
            "state           int64\n",
            "cardholder      int64\n",
            "balance         int64\n",
            "numTrans        int64\n",
            "numIntlTrans    int64\n",
            "creditLine      int64\n",
            "fraudRisk       int64\n",
            "dtypes: int64(9)\n",
            "memory usage: 686.6 MB\n"
          ]
        }
      ],
      "source": [
        "fraud.info()"
      ]
    },
    {
      "cell_type": "code",
      "execution_count": null,
      "metadata": {
        "id": "p_BaGmSmAbvA",
        "outputId": "4120dd87-0e86-45da-dd38-a4a2042d441d"
      },
      "outputs": [
        {
          "name": "stdout",
          "output_type": "stream",
          "text": [
            "<class 'pandas.core.frame.DataFrame'>\n",
            "RangeIndex: 32 entries, 0 to 31\n",
            "Data columns (total 12 columns):\n",
            "Unnamed: 0    32 non-null object\n",
            "mpg           32 non-null float64\n",
            "cyl           32 non-null int64\n",
            "disp          32 non-null float64\n",
            "hp            32 non-null int64\n",
            "drat          32 non-null float64\n",
            "wt            32 non-null float64\n",
            "qsec          32 non-null float64\n",
            "vs            32 non-null int64\n",
            "am            32 non-null int64\n",
            "gear          32 non-null int64\n",
            "carb          32 non-null int64\n",
            "dtypes: float64(5), int64(6), object(1)\n",
            "memory usage: 3.1+ KB\n"
          ]
        }
      ],
      "source": [
        "mtcars.info()"
      ]
    },
    {
      "cell_type": "code",
      "execution_count": null,
      "metadata": {
        "id": "ir7uECNbAbvA",
        "outputId": "0a8aa20a-f090-4357-d41d-be8f0432dc43"
      },
      "outputs": [
        {
          "name": "stdout",
          "output_type": "stream",
          "text": [
            "<class 'pandas.core.frame.DataFrame'>\n",
            "RangeIndex: 308 entries, 0 to 307\n",
            "Data columns (total 6 columns):\n",
            "Unnamed: 0       308 non-null int64\n",
            "carat            308 non-null float64\n",
            "colour           308 non-null object\n",
            "clarity          308 non-null object\n",
            "certification    308 non-null object\n",
            "price            308 non-null int64\n",
            "dtypes: float64(1), int64(2), object(3)\n",
            "memory usage: 14.5+ KB\n"
          ]
        }
      ],
      "source": [
        "smalldiamonds.info()"
      ]
    },
    {
      "cell_type": "code",
      "execution_count": null,
      "metadata": {
        "id": "Ajmru-m7AbvA",
        "outputId": "fa01e680-4ee2-49d7-c7be-8249ee5c7e89"
      },
      "outputs": [
        {
          "data": {
            "text/html": [
              "<div>\n",
              "<table border=\"1\" class=\"dataframe\">\n",
              "  <thead>\n",
              "    <tr style=\"text-align: right;\">\n",
              "      <th></th>\n",
              "      <th>custID</th>\n",
              "      <th>gender</th>\n",
              "      <th>state</th>\n",
              "      <th>cardholder</th>\n",
              "      <th>balance</th>\n",
              "      <th>numTrans</th>\n",
              "      <th>numIntlTrans</th>\n",
              "      <th>creditLine</th>\n",
              "      <th>fraudRisk</th>\n",
              "    </tr>\n",
              "  </thead>\n",
              "  <tbody>\n",
              "    <tr>\n",
              "      <th>0</th>\n",
              "      <td>1</td>\n",
              "      <td>1</td>\n",
              "      <td>35</td>\n",
              "      <td>1</td>\n",
              "      <td>3000</td>\n",
              "      <td>4</td>\n",
              "      <td>14</td>\n",
              "      <td>2</td>\n",
              "      <td>0</td>\n",
              "    </tr>\n",
              "    <tr>\n",
              "      <th>1</th>\n",
              "      <td>2</td>\n",
              "      <td>2</td>\n",
              "      <td>2</td>\n",
              "      <td>1</td>\n",
              "      <td>0</td>\n",
              "      <td>9</td>\n",
              "      <td>0</td>\n",
              "      <td>18</td>\n",
              "      <td>0</td>\n",
              "    </tr>\n",
              "    <tr>\n",
              "      <th>2</th>\n",
              "      <td>3</td>\n",
              "      <td>2</td>\n",
              "      <td>2</td>\n",
              "      <td>1</td>\n",
              "      <td>0</td>\n",
              "      <td>27</td>\n",
              "      <td>9</td>\n",
              "      <td>16</td>\n",
              "      <td>0</td>\n",
              "    </tr>\n",
              "    <tr>\n",
              "      <th>3</th>\n",
              "      <td>4</td>\n",
              "      <td>1</td>\n",
              "      <td>15</td>\n",
              "      <td>1</td>\n",
              "      <td>0</td>\n",
              "      <td>12</td>\n",
              "      <td>0</td>\n",
              "      <td>5</td>\n",
              "      <td>0</td>\n",
              "    </tr>\n",
              "    <tr>\n",
              "      <th>4</th>\n",
              "      <td>5</td>\n",
              "      <td>1</td>\n",
              "      <td>46</td>\n",
              "      <td>1</td>\n",
              "      <td>0</td>\n",
              "      <td>11</td>\n",
              "      <td>16</td>\n",
              "      <td>7</td>\n",
              "      <td>0</td>\n",
              "    </tr>\n",
              "  </tbody>\n",
              "</table>\n",
              "</div>"
            ],
            "text/plain": [
              "   custID  gender  state  cardholder  balance  numTrans  numIntlTrans  \\\n",
              "0       1       1     35           1     3000         4            14   \n",
              "1       2       2      2           1        0         9             0   \n",
              "2       3       2      2           1        0        27             9   \n",
              "3       4       1     15           1        0        12             0   \n",
              "4       5       1     46           1        0        11            16   \n",
              "\n",
              "   creditLine  fraudRisk  \n",
              "0           2          0  \n",
              "1          18          0  \n",
              "2          16          0  \n",
              "3           5          0  \n",
              "4           7          0  "
            ]
          },
          "execution_count": 108,
          "metadata": {},
          "output_type": "execute_result"
        }
      ],
      "source": [
        "fraud.head()"
      ]
    },
    {
      "cell_type": "code",
      "execution_count": null,
      "metadata": {
        "id": "2ov8r4INAbvB",
        "outputId": "1121ac60-b0b9-4eae-ebb6-981831b5ad61"
      },
      "outputs": [
        {
          "data": {
            "text/html": [
              "<div>\n",
              "<table border=\"1\" class=\"dataframe\">\n",
              "  <thead>\n",
              "    <tr style=\"text-align: right;\">\n",
              "      <th></th>\n",
              "      <th>custID</th>\n",
              "      <th>gender</th>\n",
              "      <th>state</th>\n",
              "      <th>cardholder</th>\n",
              "      <th>balance</th>\n",
              "      <th>numTrans</th>\n",
              "      <th>numIntlTrans</th>\n",
              "      <th>creditLine</th>\n",
              "      <th>fraudRisk</th>\n",
              "    </tr>\n",
              "  </thead>\n",
              "  <tbody>\n",
              "    <tr>\n",
              "      <th>9999995</th>\n",
              "      <td>9999996</td>\n",
              "      <td>1</td>\n",
              "      <td>37</td>\n",
              "      <td>1</td>\n",
              "      <td>0</td>\n",
              "      <td>10</td>\n",
              "      <td>0</td>\n",
              "      <td>9</td>\n",
              "      <td>0</td>\n",
              "    </tr>\n",
              "    <tr>\n",
              "      <th>9999996</th>\n",
              "      <td>9999997</td>\n",
              "      <td>1</td>\n",
              "      <td>16</td>\n",
              "      <td>1</td>\n",
              "      <td>0</td>\n",
              "      <td>33</td>\n",
              "      <td>2</td>\n",
              "      <td>4</td>\n",
              "      <td>0</td>\n",
              "    </tr>\n",
              "    <tr>\n",
              "      <th>9999997</th>\n",
              "      <td>9999998</td>\n",
              "      <td>1</td>\n",
              "      <td>24</td>\n",
              "      <td>1</td>\n",
              "      <td>9000</td>\n",
              "      <td>38</td>\n",
              "      <td>0</td>\n",
              "      <td>8</td>\n",
              "      <td>0</td>\n",
              "    </tr>\n",
              "    <tr>\n",
              "      <th>9999998</th>\n",
              "      <td>9999999</td>\n",
              "      <td>1</td>\n",
              "      <td>28</td>\n",
              "      <td>1</td>\n",
              "      <td>7000</td>\n",
              "      <td>20</td>\n",
              "      <td>19</td>\n",
              "      <td>6</td>\n",
              "      <td>0</td>\n",
              "    </tr>\n",
              "    <tr>\n",
              "      <th>9999999</th>\n",
              "      <td>10000000</td>\n",
              "      <td>1</td>\n",
              "      <td>23</td>\n",
              "      <td>1</td>\n",
              "      <td>0</td>\n",
              "      <td>13</td>\n",
              "      <td>0</td>\n",
              "      <td>7</td>\n",
              "      <td>0</td>\n",
              "    </tr>\n",
              "  </tbody>\n",
              "</table>\n",
              "</div>"
            ],
            "text/plain": [
              "           custID  gender  state  cardholder  balance  numTrans  numIntlTrans  \\\n",
              "9999995   9999996       1     37           1        0        10             0   \n",
              "9999996   9999997       1     16           1        0        33             2   \n",
              "9999997   9999998       1     24           1     9000        38             0   \n",
              "9999998   9999999       1     28           1     7000        20            19   \n",
              "9999999  10000000       1     23           1        0        13             0   \n",
              "\n",
              "         creditLine  fraudRisk  \n",
              "9999995           9          0  \n",
              "9999996           4          0  \n",
              "9999997           8          0  \n",
              "9999998           6          0  \n",
              "9999999           7          0  "
            ]
          },
          "execution_count": 112,
          "metadata": {},
          "output_type": "execute_result"
        }
      ],
      "source": [
        "fraud.tail()"
      ]
    },
    {
      "cell_type": "code",
      "execution_count": null,
      "metadata": {
        "collapsed": true,
        "id": "qNV_500HAbvB"
      },
      "outputs": [],
      "source": [
        "fraud2=fraud.copy()"
      ]
    },
    {
      "cell_type": "code",
      "execution_count": null,
      "metadata": {
        "id": "5-AiDZoFAbvB",
        "outputId": "aeb2e280-eff6-4ba5-c87e-b5a974d3abfb"
      },
      "outputs": [
        {
          "data": {
            "text/html": [
              "<div>\n",
              "<table border=\"1\" class=\"dataframe\">\n",
              "  <thead>\n",
              "    <tr style=\"text-align: right;\">\n",
              "      <th></th>\n",
              "      <th>custID</th>\n",
              "      <th>gender</th>\n",
              "      <th>state</th>\n",
              "      <th>cardholder</th>\n",
              "      <th>balance</th>\n",
              "      <th>numTrans</th>\n",
              "      <th>numIntlTrans</th>\n",
              "      <th>creditLine</th>\n",
              "      <th>fraudRisk</th>\n",
              "    </tr>\n",
              "  </thead>\n",
              "  <tbody>\n",
              "    <tr>\n",
              "      <th>count</th>\n",
              "      <td>1.000000e+07</td>\n",
              "      <td>1.000000e+07</td>\n",
              "      <td>1.000000e+07</td>\n",
              "      <td>1.000000e+07</td>\n",
              "      <td>1.000000e+07</td>\n",
              "      <td>1.000000e+07</td>\n",
              "      <td>1.000000e+07</td>\n",
              "      <td>1.000000e+07</td>\n",
              "      <td>1.000000e+07</td>\n",
              "    </tr>\n",
              "    <tr>\n",
              "      <th>mean</th>\n",
              "      <td>5.000000e+06</td>\n",
              "      <td>1.382177e+00</td>\n",
              "      <td>2.466127e+01</td>\n",
              "      <td>1.030004e+00</td>\n",
              "      <td>4.109920e+03</td>\n",
              "      <td>2.893519e+01</td>\n",
              "      <td>4.047190e+00</td>\n",
              "      <td>9.134469e+00</td>\n",
              "      <td>5.960140e-02</td>\n",
              "    </tr>\n",
              "    <tr>\n",
              "      <th>std</th>\n",
              "      <td>2.886751e+06</td>\n",
              "      <td>4.859195e-01</td>\n",
              "      <td>1.497012e+01</td>\n",
              "      <td>1.705991e-01</td>\n",
              "      <td>3.996847e+03</td>\n",
              "      <td>2.655378e+01</td>\n",
              "      <td>8.602970e+00</td>\n",
              "      <td>9.641974e+00</td>\n",
              "      <td>2.367469e-01</td>\n",
              "    </tr>\n",
              "    <tr>\n",
              "      <th>min</th>\n",
              "      <td>1.000000e+00</td>\n",
              "      <td>1.000000e+00</td>\n",
              "      <td>1.000000e+00</td>\n",
              "      <td>1.000000e+00</td>\n",
              "      <td>0.000000e+00</td>\n",
              "      <td>0.000000e+00</td>\n",
              "      <td>0.000000e+00</td>\n",
              "      <td>1.000000e+00</td>\n",
              "      <td>0.000000e+00</td>\n",
              "    </tr>\n",
              "    <tr>\n",
              "      <th>25%</th>\n",
              "      <td>2.500001e+06</td>\n",
              "      <td>1.000000e+00</td>\n",
              "      <td>1.000000e+01</td>\n",
              "      <td>1.000000e+00</td>\n",
              "      <td>0.000000e+00</td>\n",
              "      <td>1.000000e+01</td>\n",
              "      <td>0.000000e+00</td>\n",
              "      <td>4.000000e+00</td>\n",
              "      <td>0.000000e+00</td>\n",
              "    </tr>\n",
              "    <tr>\n",
              "      <th>50%</th>\n",
              "      <td>5.000000e+06</td>\n",
              "      <td>1.000000e+00</td>\n",
              "      <td>2.400000e+01</td>\n",
              "      <td>1.000000e+00</td>\n",
              "      <td>3.706000e+03</td>\n",
              "      <td>1.900000e+01</td>\n",
              "      <td>0.000000e+00</td>\n",
              "      <td>6.000000e+00</td>\n",
              "      <td>0.000000e+00</td>\n",
              "    </tr>\n",
              "    <tr>\n",
              "      <th>75%</th>\n",
              "      <td>7.500000e+06</td>\n",
              "      <td>2.000000e+00</td>\n",
              "      <td>3.800000e+01</td>\n",
              "      <td>1.000000e+00</td>\n",
              "      <td>6.000000e+03</td>\n",
              "      <td>3.900000e+01</td>\n",
              "      <td>4.000000e+00</td>\n",
              "      <td>1.100000e+01</td>\n",
              "      <td>0.000000e+00</td>\n",
              "    </tr>\n",
              "    <tr>\n",
              "      <th>max</th>\n",
              "      <td>1.000000e+07</td>\n",
              "      <td>2.000000e+00</td>\n",
              "      <td>5.100000e+01</td>\n",
              "      <td>2.000000e+00</td>\n",
              "      <td>4.148500e+04</td>\n",
              "      <td>1.000000e+02</td>\n",
              "      <td>6.000000e+01</td>\n",
              "      <td>7.500000e+01</td>\n",
              "      <td>1.000000e+00</td>\n",
              "    </tr>\n",
              "  </tbody>\n",
              "</table>\n",
              "</div>"
            ],
            "text/plain": [
              "             custID        gender         state    cardholder       balance  \\\n",
              "count  1.000000e+07  1.000000e+07  1.000000e+07  1.000000e+07  1.000000e+07   \n",
              "mean   5.000000e+06  1.382177e+00  2.466127e+01  1.030004e+00  4.109920e+03   \n",
              "std    2.886751e+06  4.859195e-01  1.497012e+01  1.705991e-01  3.996847e+03   \n",
              "min    1.000000e+00  1.000000e+00  1.000000e+00  1.000000e+00  0.000000e+00   \n",
              "25%    2.500001e+06  1.000000e+00  1.000000e+01  1.000000e+00  0.000000e+00   \n",
              "50%    5.000000e+06  1.000000e+00  2.400000e+01  1.000000e+00  3.706000e+03   \n",
              "75%    7.500000e+06  2.000000e+00  3.800000e+01  1.000000e+00  6.000000e+03   \n",
              "max    1.000000e+07  2.000000e+00  5.100000e+01  2.000000e+00  4.148500e+04   \n",
              "\n",
              "           numTrans  numIntlTrans    creditLine     fraudRisk  \n",
              "count  1.000000e+07  1.000000e+07  1.000000e+07  1.000000e+07  \n",
              "mean   2.893519e+01  4.047190e+00  9.134469e+00  5.960140e-02  \n",
              "std    2.655378e+01  8.602970e+00  9.641974e+00  2.367469e-01  \n",
              "min    0.000000e+00  0.000000e+00  1.000000e+00  0.000000e+00  \n",
              "25%    1.000000e+01  0.000000e+00  4.000000e+00  0.000000e+00  \n",
              "50%    1.900000e+01  0.000000e+00  6.000000e+00  0.000000e+00  \n",
              "75%    3.900000e+01  4.000000e+00  1.100000e+01  0.000000e+00  \n",
              "max    1.000000e+02  6.000000e+01  7.500000e+01  1.000000e+00  "
            ]
          },
          "execution_count": 115,
          "metadata": {},
          "output_type": "execute_result"
        }
      ],
      "source": [
        "fraud.describe()"
      ]
    },
    {
      "cell_type": "code",
      "execution_count": null,
      "metadata": {
        "id": "jd2-IaB7AbvB",
        "outputId": "3f62e6db-b5f7-4b24-bef5-fcefcac000dd"
      },
      "outputs": [
        {
          "data": {
            "text/plain": [
              "count    1.000000e+07\n",
              "mean     1.382177e+00\n",
              "std      4.859195e-01\n",
              "min      1.000000e+00\n",
              "25%      1.000000e+00\n",
              "50%      1.000000e+00\n",
              "75%      2.000000e+00\n",
              "max      2.000000e+00\n",
              "Name: gender, dtype: float64"
            ]
          },
          "execution_count": 116,
          "metadata": {},
          "output_type": "execute_result"
        }
      ],
      "source": [
        "fraud.gender.describe()"
      ]
    },
    {
      "cell_type": "code",
      "execution_count": null,
      "metadata": {
        "id": "vHucd1S5AbvB",
        "outputId": "30372010-734c-4c25-e25a-93921860e4b9"
      },
      "outputs": [
        {
          "data": {
            "text/html": [
              "<div>\n",
              "<table border=\"1\" class=\"dataframe\">\n",
              "  <thead>\n",
              "    <tr style=\"text-align: right;\">\n",
              "      <th></th>\n",
              "      <th>Unnamed: 0</th>\n",
              "      <th>mpg</th>\n",
              "      <th>cyl</th>\n",
              "      <th>disp</th>\n",
              "      <th>hp</th>\n",
              "      <th>drat</th>\n",
              "      <th>wt</th>\n",
              "      <th>qsec</th>\n",
              "      <th>vs</th>\n",
              "      <th>am</th>\n",
              "      <th>gear</th>\n",
              "      <th>carb</th>\n",
              "    </tr>\n",
              "  </thead>\n",
              "  <tbody>\n",
              "    <tr>\n",
              "      <th>0</th>\n",
              "      <td>Mazda RX4</td>\n",
              "      <td>21.0</td>\n",
              "      <td>6</td>\n",
              "      <td>160.0</td>\n",
              "      <td>110</td>\n",
              "      <td>3.90</td>\n",
              "      <td>2.620</td>\n",
              "      <td>16.46</td>\n",
              "      <td>0</td>\n",
              "      <td>1</td>\n",
              "      <td>4</td>\n",
              "      <td>4</td>\n",
              "    </tr>\n",
              "    <tr>\n",
              "      <th>1</th>\n",
              "      <td>Mazda RX4 Wag</td>\n",
              "      <td>21.0</td>\n",
              "      <td>6</td>\n",
              "      <td>160.0</td>\n",
              "      <td>110</td>\n",
              "      <td>3.90</td>\n",
              "      <td>2.875</td>\n",
              "      <td>17.02</td>\n",
              "      <td>0</td>\n",
              "      <td>1</td>\n",
              "      <td>4</td>\n",
              "      <td>4</td>\n",
              "    </tr>\n",
              "    <tr>\n",
              "      <th>2</th>\n",
              "      <td>Datsun 710</td>\n",
              "      <td>22.8</td>\n",
              "      <td>4</td>\n",
              "      <td>108.0</td>\n",
              "      <td>93</td>\n",
              "      <td>3.85</td>\n",
              "      <td>2.320</td>\n",
              "      <td>18.61</td>\n",
              "      <td>1</td>\n",
              "      <td>1</td>\n",
              "      <td>4</td>\n",
              "      <td>1</td>\n",
              "    </tr>\n",
              "    <tr>\n",
              "      <th>3</th>\n",
              "      <td>Hornet 4 Drive</td>\n",
              "      <td>21.4</td>\n",
              "      <td>6</td>\n",
              "      <td>258.0</td>\n",
              "      <td>110</td>\n",
              "      <td>3.08</td>\n",
              "      <td>3.215</td>\n",
              "      <td>19.44</td>\n",
              "      <td>1</td>\n",
              "      <td>0</td>\n",
              "      <td>3</td>\n",
              "      <td>1</td>\n",
              "    </tr>\n",
              "    <tr>\n",
              "      <th>4</th>\n",
              "      <td>Hornet Sportabout</td>\n",
              "      <td>18.7</td>\n",
              "      <td>8</td>\n",
              "      <td>360.0</td>\n",
              "      <td>175</td>\n",
              "      <td>3.15</td>\n",
              "      <td>3.440</td>\n",
              "      <td>17.02</td>\n",
              "      <td>0</td>\n",
              "      <td>0</td>\n",
              "      <td>3</td>\n",
              "      <td>2</td>\n",
              "    </tr>\n",
              "  </tbody>\n",
              "</table>\n",
              "</div>"
            ],
            "text/plain": [
              "          Unnamed: 0   mpg  cyl   disp   hp  drat     wt   qsec  vs  am  gear  \\\n",
              "0          Mazda RX4  21.0    6  160.0  110  3.90  2.620  16.46   0   1     4   \n",
              "1      Mazda RX4 Wag  21.0    6  160.0  110  3.90  2.875  17.02   0   1     4   \n",
              "2         Datsun 710  22.8    4  108.0   93  3.85  2.320  18.61   1   1     4   \n",
              "3     Hornet 4 Drive  21.4    6  258.0  110  3.08  3.215  19.44   1   0     3   \n",
              "4  Hornet Sportabout  18.7    8  360.0  175  3.15  3.440  17.02   0   0     3   \n",
              "\n",
              "   carb  \n",
              "0     4  \n",
              "1     4  \n",
              "2     1  \n",
              "3     1  \n",
              "4     2  "
            ]
          },
          "execution_count": 117,
          "metadata": {},
          "output_type": "execute_result"
        }
      ],
      "source": [
        "mtcars.head()"
      ]
    },
    {
      "cell_type": "code",
      "execution_count": null,
      "metadata": {
        "collapsed": true,
        "id": "gN0txLOXAbvC"
      },
      "outputs": [],
      "source": [
        "mtcars=mtcars.drop(\"Unnamed: 0\",1)"
      ]
    },
    {
      "cell_type": "code",
      "execution_count": null,
      "metadata": {
        "id": "vF3m0GG1AbvC",
        "outputId": "8d0955d4-190d-40ac-cb64-ce5b22f4d37c"
      },
      "outputs": [
        {
          "data": {
            "text/html": [
              "<div>\n",
              "<table border=\"1\" class=\"dataframe\">\n",
              "  <thead>\n",
              "    <tr style=\"text-align: right;\">\n",
              "      <th></th>\n",
              "      <th>mpg</th>\n",
              "      <th>cyl</th>\n",
              "      <th>disp</th>\n",
              "      <th>hp</th>\n",
              "      <th>drat</th>\n",
              "      <th>wt</th>\n",
              "      <th>qsec</th>\n",
              "      <th>vs</th>\n",
              "      <th>am</th>\n",
              "      <th>gear</th>\n",
              "      <th>carb</th>\n",
              "    </tr>\n",
              "  </thead>\n",
              "  <tbody>\n",
              "    <tr>\n",
              "      <th>0</th>\n",
              "      <td>21.0</td>\n",
              "      <td>6</td>\n",
              "      <td>160.0</td>\n",
              "      <td>110</td>\n",
              "      <td>3.90</td>\n",
              "      <td>2.620</td>\n",
              "      <td>16.46</td>\n",
              "      <td>0</td>\n",
              "      <td>1</td>\n",
              "      <td>4</td>\n",
              "      <td>4</td>\n",
              "    </tr>\n",
              "    <tr>\n",
              "      <th>1</th>\n",
              "      <td>21.0</td>\n",
              "      <td>6</td>\n",
              "      <td>160.0</td>\n",
              "      <td>110</td>\n",
              "      <td>3.90</td>\n",
              "      <td>2.875</td>\n",
              "      <td>17.02</td>\n",
              "      <td>0</td>\n",
              "      <td>1</td>\n",
              "      <td>4</td>\n",
              "      <td>4</td>\n",
              "    </tr>\n",
              "    <tr>\n",
              "      <th>2</th>\n",
              "      <td>22.8</td>\n",
              "      <td>4</td>\n",
              "      <td>108.0</td>\n",
              "      <td>93</td>\n",
              "      <td>3.85</td>\n",
              "      <td>2.320</td>\n",
              "      <td>18.61</td>\n",
              "      <td>1</td>\n",
              "      <td>1</td>\n",
              "      <td>4</td>\n",
              "      <td>1</td>\n",
              "    </tr>\n",
              "    <tr>\n",
              "      <th>3</th>\n",
              "      <td>21.4</td>\n",
              "      <td>6</td>\n",
              "      <td>258.0</td>\n",
              "      <td>110</td>\n",
              "      <td>3.08</td>\n",
              "      <td>3.215</td>\n",
              "      <td>19.44</td>\n",
              "      <td>1</td>\n",
              "      <td>0</td>\n",
              "      <td>3</td>\n",
              "      <td>1</td>\n",
              "    </tr>\n",
              "    <tr>\n",
              "      <th>4</th>\n",
              "      <td>18.7</td>\n",
              "      <td>8</td>\n",
              "      <td>360.0</td>\n",
              "      <td>175</td>\n",
              "      <td>3.15</td>\n",
              "      <td>3.440</td>\n",
              "      <td>17.02</td>\n",
              "      <td>0</td>\n",
              "      <td>0</td>\n",
              "      <td>3</td>\n",
              "      <td>2</td>\n",
              "    </tr>\n",
              "  </tbody>\n",
              "</table>\n",
              "</div>"
            ],
            "text/plain": [
              "    mpg  cyl   disp   hp  drat     wt   qsec  vs  am  gear  carb\n",
              "0  21.0    6  160.0  110  3.90  2.620  16.46   0   1     4     4\n",
              "1  21.0    6  160.0  110  3.90  2.875  17.02   0   1     4     4\n",
              "2  22.8    4  108.0   93  3.85  2.320  18.61   1   1     4     1\n",
              "3  21.4    6  258.0  110  3.08  3.215  19.44   1   0     3     1\n",
              "4  18.7    8  360.0  175  3.15  3.440  17.02   0   0     3     2"
            ]
          },
          "execution_count": 119,
          "metadata": {},
          "output_type": "execute_result"
        }
      ],
      "source": [
        "mtcars.head()"
      ]
    },
    {
      "cell_type": "code",
      "execution_count": null,
      "metadata": {
        "id": "Ttii1-ZbAbvC",
        "outputId": "03dab0d5-29c0-4da3-f637-b1bcf6ef3fc8"
      },
      "outputs": [
        {
          "name": "stdout",
          "output_type": "stream",
          "text": [
            "{'commit_hash': '5c9c918',\n",
            " 'commit_source': 'installation',\n",
            " 'default_encoding': 'cp1252',\n",
            " 'ipython_path': 'C:\\\\Users\\\\Dell\\\\Anaconda3\\\\lib\\\\site-packages\\\\IPython',\n",
            " 'ipython_version': '5.1.0',\n",
            " 'os_name': 'nt',\n",
            " 'platform': 'Windows-7-6.1.7600-SP0',\n",
            " 'sys_executable': 'C:\\\\Users\\\\Dell\\\\Anaconda3\\\\python.exe',\n",
            " 'sys_platform': 'win32',\n",
            " 'sys_version': '3.5.2 |Anaconda custom (64-bit)| (default, Jul  5 2016, '\n",
            "                '11:41:13) [MSC v.1900 64 bit (AMD64)]'}\n"
          ]
        }
      ],
      "source": [
        "import IPython\n",
        "print (IPython.sys_info())\n"
      ]
    },
    {
      "cell_type": "code",
      "execution_count": null,
      "metadata": {
        "id": "4Cg4V_1bAbvC",
        "outputId": "0e45b022-b6b1-48d4-b6ac-dea4a55e54f1"
      },
      "outputs": [
        {
          "name": "stdout",
          "output_type": "stream",
          "text": [
            "Requirement already satisfied: version_information in c:\\users\\dell\\anaconda3\\lib\\site-packages\n",
            "The version_information extension is already loaded. To reload it, use:\n",
            "  %reload_ext version_information\n",
            "alabaster==0.7.9\n",
            "anaconda-clean==1.0\n",
            "anaconda-client==1.5.1\n",
            "anaconda-navigator==1.3.1\n",
            "argcomplete==1.0.0\n",
            "astroid==1.4.7\n",
            "astropy==1.2.1\n",
            "Babel==2.3.4\n",
            "backports.shutil-get-terminal-size==1.0.0\n",
            "beautifulsoup4==4.5.1\n",
            "bitarray==0.8.1\n",
            "blaze==0.10.1\n",
            "bokeh==0.12.2\n",
            "boto==2.42.0\n",
            "Bottleneck==1.1.0\n",
            "brewer2mpl==1.4.1\n",
            "cffi==1.7.0\n",
            "chest==0.2.3\n",
            "click==6.6\n",
            "cloudpickle==0.2.1\n",
            "clyent==1.2.2\n",
            "colorama==0.3.7\n",
            "comtypes==1.1.2\n",
            "conda==4.3.9\n",
            "conda-build==2.0.2\n",
            "configobj==5.0.6\n",
            "contextlib2==0.5.3\n",
            "cryptography==1.5\n",
            "cycler==0.10.0\n",
            "Cython==0.24.1\n",
            "cytoolz==0.8.0\n",
            "dask==0.11.0\n",
            "datashape==0.5.2\n",
            "decorator==4.0.10\n",
            "dill==0.2.5\n",
            "docutils==0.12\n",
            "dynd===c328ab7\n",
            "et-xmlfile==1.0.1\n",
            "fastcache==1.0.2\n",
            "filelock==2.0.6\n",
            "Flask==0.11.1\n",
            "Flask-Cors==2.1.2\n",
            "gevent==1.1.2\n",
            "ggplot==0.11.5\n",
            "greenlet==0.4.10\n",
            "h5py==2.6.0\n",
            "HeapDict==1.0.0\n",
            "idna==2.1\n",
            "imagesize==0.7.1\n",
            "ipykernel==4.5.0\n",
            "ipython==5.1.0\n",
            "ipython-genutils==0.1.0\n",
            "ipywidgets==5.2.2\n",
            "itsdangerous==0.24\n",
            "jdcal==1.2\n",
            "jedi==0.9.0\n",
            "Jinja2==2.8\n",
            "jsonschema==2.5.1\n",
            "jupyter==1.0.0\n",
            "jupyter-client==4.4.0\n",
            "jupyter-console==5.0.0\n",
            "jupyter-core==4.2.0\n",
            "lazy-object-proxy==1.2.1\n",
            "llvmlite==0.13.0\n",
            "locket==0.2.0\n",
            "lxml==3.6.4\n",
            "MarkupSafe==0.23\n",
            "matplotlib==1.5.3\n",
            "menuinst==1.4.1\n",
            "mistune==0.7.3\n",
            "mpmath==0.19\n",
            "multipledispatch==0.4.8\n",
            "nb-anacondacloud==1.2.0\n",
            "nb-conda==2.0.0\n",
            "nb-conda-kernels==2.0.0\n",
            "nbconvert==4.2.0\n",
            "nbformat==4.1.0\n",
            "nbpresent==3.0.2\n",
            "networkx==1.11\n",
            "nltk==3.2.1\n",
            "nose==1.3.7\n",
            "notebook==4.2.3\n",
            "numba==0.28.1\n",
            "numexpr==2.6.1\n",
            "numpy==1.11.1\n",
            "odo==0.5.0\n",
            "openpyxl==2.3.2\n",
            "pandas==0.18.1\n",
            "pandasql==0.7.3\n",
            "partd==0.3.6\n",
            "path.py==0.0.0\n",
            "pathlib2==2.1.0\n",
            "patsy==0.4.1\n",
            "pep8==1.7.0\n",
            "pickleshare==0.7.4\n",
            "Pillow==3.3.1\n",
            "pkginfo==1.3.2\n",
            "ply==3.9\n",
            "prompt-toolkit==1.0.3\n",
            "psutil==4.3.1\n",
            "psycopg2==2.6.2\n",
            "py==1.4.31\n",
            "pyasn1==0.1.9\n",
            "pycosat==0.6.1\n",
            "pycparser==2.14\n",
            "pycrypto==2.6.1\n",
            "pycurl==7.43.0\n",
            "pyflakes==1.3.0\n",
            "Pygments==2.1.3\n",
            "pylint==1.5.4\n",
            "pyodbc==3.0.10\n",
            "pyOpenSSL==16.2.0\n",
            "pyparsing==2.1.4\n",
            "pytest==2.9.2\n",
            "python-dateutil==2.5.3\n",
            "pytz==2016.6.1\n",
            "pywin32==220\n",
            "PyYAML==3.12\n",
            "pyzmq==15.4.0\n",
            "QtAwesome==0.3.3\n",
            "qtconsole==4.2.1\n",
            "QtPy==1.1.2\n",
            "requests==2.12.4\n",
            "rope-py3k==0.9.4.post1\n",
            "ruamel-yaml===-VERSION\n",
            "scikit-image==0.12.3\n",
            "scikit-learn==0.17.1\n",
            "scipy==0.18.1\n",
            "seaborn==0.7.1\n",
            "simplegeneric==0.8.1\n",
            "singledispatch==3.4.0.3\n",
            "six==1.10.0\n",
            "snowballstemmer==1.2.1\n",
            "sockjs-tornado==1.0.3\n",
            "sphinx==1.4.6\n",
            "spyder==3.0.0\n",
            "SQLAlchemy==1.0.13\n",
            "statsmodels==0.6.1\n",
            "sympy==1.0\n",
            "tables==3.2.2\n",
            "toolz==0.8.0\n",
            "tornado==4.4.1\n",
            "traitlets==4.3.0\n",
            "unicodecsv==0.14.1\n",
            "urllib3==1.20\n",
            "version-information==1.0.3\n",
            "wcwidth==0.1.7\n",
            "Werkzeug==0.11.11\n",
            "widgetsnbextension==1.2.6\n",
            "win-unicode-console==0.5\n",
            "wrapt==1.10.6\n",
            "xlrd==1.0.0\n",
            "XlsxWriter==0.9.3\n",
            "xlwings==0.10.0\n",
            "xlwt==1.1.2\n"
          ]
        }
      ],
      "source": [
        "\n",
        "\n",
        "!pip install version_information\n",
        "%load_ext version_information\n",
        "%version_information\n",
        "\n",
        "\n",
        "!pip freeze"
      ]
    },
    {
      "cell_type": "code",
      "execution_count": null,
      "metadata": {
        "id": "vAoBwLK1AbvC",
        "outputId": "30659a1c-ea12-41a6-dd55-d389ae0ea3ae"
      },
      "outputs": [
        {
          "name": "stdout",
          "output_type": "stream",
          "text": [
            "Collecting guppy\n",
            "  Downloading guppy-0.1.10.tar.gz (484kB)\n",
            "Building wheels for collected packages: guppy\n",
            "  Running setup.py bdist_wheel for guppy: started\n",
            "  Running setup.py bdist_wheel for guppy: finished with status 'error'\n",
            "  Complete output from command c:\\users\\dell\\anaconda3\\python.exe -u -c \"import setuptools, tokenize;__file__='C:\\\\Users\\\\Dell\\\\AppData\\\\Local\\\\Temp\\\\pip-build-d3t4jj4u\\\\guppy\\\\setup.py';f=getattr(tokenize, 'open', open)(__file__);code=f.read().replace('\\r\\n', '\\n');f.close();exec(compile(code, __file__, 'exec'))\" bdist_wheel -d C:\\Users\\Dell\\AppData\\Local\\Temp\\tmppr8koym2pip-wheel- --python-tag cp35:\n",
            "  running bdist_wheel\n",
            "  running build\n",
            "  running build_py\n",
            "  creating build\n",
            "  creating build\\lib.win-amd64-3.5\n",
            "  creating build\\lib.win-amd64-3.5\\guppy\n",
            "  copying guppy\\__init__.py -> build\\lib.win-amd64-3.5\\guppy\n",
            "  creating build\\lib.win-amd64-3.5\\guppy\\doc\n",
            "  copying guppy\\doc\\__init__.py -> build\\lib.win-amd64-3.5\\guppy\\doc\n",
            "  creating build\\lib.win-amd64-3.5\\guppy\\etc\n",
            "  copying guppy\\etc\\Cat.py -> build\\lib.win-amd64-3.5\\guppy\\etc\n",
            "  copying guppy\\etc\\cmd.py -> build\\lib.win-amd64-3.5\\guppy\\etc\n",
            "  copying guppy\\etc\\Code.py -> build\\lib.win-amd64-3.5\\guppy\\etc\n",
            "  copying guppy\\etc\\Compat.py -> build\\lib.win-amd64-3.5\\guppy\\etc\n",
            "  copying guppy\\etc\\etc.py -> build\\lib.win-amd64-3.5\\guppy\\etc\n",
            "  copying guppy\\etc\\ExecfileWithModuleInfo.py -> build\\lib.win-amd64-3.5\\guppy\\etc\n",
            "  copying guppy\\etc\\FSA.py -> build\\lib.win-amd64-3.5\\guppy\\etc\n",
            "  copying guppy\\etc\\Glue.py -> build\\lib.win-amd64-3.5\\guppy\\etc\n",
            "  copying guppy\\etc\\Help.py -> build\\lib.win-amd64-3.5\\guppy\\etc\n",
            "  copying guppy\\etc\\IterPermute.py -> build\\lib.win-amd64-3.5\\guppy\\etc\n",
            "  copying guppy\\etc\\KanExtension.py -> build\\lib.win-amd64-3.5\\guppy\\etc\n",
            "  copying guppy\\etc\\KnuthBendix.py -> build\\lib.win-amd64-3.5\\guppy\\etc\n",
            "  copying guppy\\etc\\OutputHandling.py -> build\\lib.win-amd64-3.5\\guppy\\etc\n",
            "  copying guppy\\etc\\RE.py -> build\\lib.win-amd64-3.5\\guppy\\etc\n",
            "  copying guppy\\etc\\RE_Rect.py -> build\\lib.win-amd64-3.5\\guppy\\etc\n",
            "  copying guppy\\etc\\textView.py -> build\\lib.win-amd64-3.5\\guppy\\etc\n",
            "  copying guppy\\etc\\tkcursors.py -> build\\lib.win-amd64-3.5\\guppy\\etc\n",
            "  copying guppy\\etc\\Unpack.py -> build\\lib.win-amd64-3.5\\guppy\\etc\n",
            "  copying guppy\\etc\\xterm.py -> build\\lib.win-amd64-3.5\\guppy\\etc\n",
            "  copying guppy\\etc\\__init__.py -> build\\lib.win-amd64-3.5\\guppy\\etc\n",
            "  creating build\\lib.win-amd64-3.5\\guppy\\gsl\n",
            "  copying guppy\\gsl\\Document.py -> build\\lib.win-amd64-3.5\\guppy\\gsl\n",
            "  copying guppy\\gsl\\DottedTree.py -> build\\lib.win-amd64-3.5\\guppy\\gsl\n",
            "  copying guppy\\gsl\\Exceptions.py -> build\\lib.win-amd64-3.5\\guppy\\gsl\n",
            "  copying guppy\\gsl\\FileIO.py -> build\\lib.win-amd64-3.5\\guppy\\gsl\n",
            "  copying guppy\\gsl\\Filer.py -> build\\lib.win-amd64-3.5\\guppy\\gsl\n",
            "  copying guppy\\gsl\\Gsml.py -> build\\lib.win-amd64-3.5\\guppy\\gsl\n",
            "  copying guppy\\gsl\\Help.py -> build\\lib.win-amd64-3.5\\guppy\\gsl\n",
            "  copying guppy\\gsl\\Html.py -> build\\lib.win-amd64-3.5\\guppy\\gsl\n",
            "  copying guppy\\gsl\\Latex.py -> build\\lib.win-amd64-3.5\\guppy\\gsl\n",
            "  copying guppy\\gsl\\Main.py -> build\\lib.win-amd64-3.5\\guppy\\gsl\n",
            "  copying guppy\\gsl\\SpecNodes.py -> build\\lib.win-amd64-3.5\\guppy\\gsl\n",
            "  copying guppy\\gsl\\Tester.py -> build\\lib.win-amd64-3.5\\guppy\\gsl\n",
            "  copying guppy\\gsl\\Text.py -> build\\lib.win-amd64-3.5\\guppy\\gsl\n",
            "  copying guppy\\gsl\\XHTML.py -> build\\lib.win-amd64-3.5\\guppy\\gsl\n",
            "  copying guppy\\gsl\\__init__.py -> build\\lib.win-amd64-3.5\\guppy\\gsl\n",
            "  creating build\\lib.win-amd64-3.5\\guppy\\heapy\n",
            "  copying guppy\\heapy\\AbstractAlgebra.py -> build\\lib.win-amd64-3.5\\guppy\\heapy\n",
            "  copying guppy\\heapy\\Classifiers.py -> build\\lib.win-amd64-3.5\\guppy\\heapy\n",
            "  copying guppy\\heapy\\Console.py -> build\\lib.win-amd64-3.5\\guppy\\heapy\n",
            "  copying guppy\\heapy\\Doc.py -> build\\lib.win-amd64-3.5\\guppy\\heapy\n",
            "  copying guppy\\heapy\\ImpSet.py -> build\\lib.win-amd64-3.5\\guppy\\heapy\n",
            "  copying guppy\\heapy\\Monitor.py -> build\\lib.win-amd64-3.5\\guppy\\heapy\n",
            "  copying guppy\\heapy\\OutputHandling.py -> build\\lib.win-amd64-3.5\\guppy\\heapy\n",
            "  copying guppy\\heapy\\Part.py -> build\\lib.win-amd64-3.5\\guppy\\heapy\n",
            "  copying guppy\\heapy\\Path.py -> build\\lib.win-amd64-3.5\\guppy\\heapy\n",
            "  copying guppy\\heapy\\pbhelp.py -> build\\lib.win-amd64-3.5\\guppy\\heapy\n",
            "  copying guppy\\heapy\\Prof.py -> build\\lib.win-amd64-3.5\\guppy\\heapy\n",
            "  copying guppy\\heapy\\RefPat.py -> build\\lib.win-amd64-3.5\\guppy\\heapy\n",
            "  copying guppy\\heapy\\Remote.py -> build\\lib.win-amd64-3.5\\guppy\\heapy\n",
            "  copying guppy\\heapy\\RemoteConstants.py -> build\\lib.win-amd64-3.5\\guppy\\heapy\n",
            "  copying guppy\\heapy\\RM.py -> build\\lib.win-amd64-3.5\\guppy\\heapy\n",
            "  copying guppy\\heapy\\Spec.py -> build\\lib.win-amd64-3.5\\guppy\\heapy\n",
            "  copying guppy\\heapy\\Target.py -> build\\lib.win-amd64-3.5\\guppy\\heapy\n",
            "  copying guppy\\heapy\\UniSet.py -> build\\lib.win-amd64-3.5\\guppy\\heapy\n",
            "  copying guppy\\heapy\\Use.py -> build\\lib.win-amd64-3.5\\guppy\\heapy\n",
            "  copying guppy\\heapy\\View.py -> build\\lib.win-amd64-3.5\\guppy\\heapy\n",
            "  copying guppy\\heapy\\__init__.py -> build\\lib.win-amd64-3.5\\guppy\\heapy\n",
            "  creating build\\lib.win-amd64-3.5\\guppy\\heapy\\test\n",
            "  copying guppy\\heapy\\test\\support.py -> build\\lib.win-amd64-3.5\\guppy\\heapy\\test\n",
            "  copying guppy\\heapy\\test\\test_all.py -> build\\lib.win-amd64-3.5\\guppy\\heapy\\test\n",
            "  copying guppy\\heapy\\test\\test_Classifiers.py -> build\\lib.win-amd64-3.5\\guppy\\heapy\\test\n",
            "  copying guppy\\heapy\\test\\test_dependencies.py -> build\\lib.win-amd64-3.5\\guppy\\heapy\\test\n",
            "  copying guppy\\heapy\\test\\test_ER.py -> build\\lib.win-amd64-3.5\\guppy\\heapy\\test\n",
            "  copying guppy\\heapy\\test\\test_heapyc.py -> build\\lib.win-amd64-3.5\\guppy\\heapy\\test\n",
            "  copying guppy\\heapy\\test\\test_menuleak.py -> build\\lib.win-amd64-3.5\\guppy\\heapy\\test\n",
            "  copying guppy\\heapy\\test\\test_OutputHandling.py -> build\\lib.win-amd64-3.5\\guppy\\heapy\\test\n",
            "  copying guppy\\heapy\\test\\test_Part.py -> build\\lib.win-amd64-3.5\\guppy\\heapy\\test\n",
            "  copying guppy\\heapy\\test\\test_Path.py -> build\\lib.win-amd64-3.5\\guppy\\heapy\\test\n",
            "  copying guppy\\heapy\\test\\test_RefPat.py -> build\\lib.win-amd64-3.5\\guppy\\heapy\\test\n",
            "  copying guppy\\heapy\\test\\test_RetaGraph.py -> build\\lib.win-amd64-3.5\\guppy\\heapy\\test\n",
            "  copying guppy\\heapy\\test\\test_sf.py -> build\\lib.win-amd64-3.5\\guppy\\heapy\\test\n",
            "  copying guppy\\heapy\\test\\test_Spec.py -> build\\lib.win-amd64-3.5\\guppy\\heapy\\test\n",
            "  copying guppy\\heapy\\test\\test_UniSet.py -> build\\lib.win-amd64-3.5\\guppy\\heapy\\test\n",
            "  copying guppy\\heapy\\test\\test_View.py -> build\\lib.win-amd64-3.5\\guppy\\heapy\\test\n",
            "  copying guppy\\heapy\\test\\__init__.py -> build\\lib.win-amd64-3.5\\guppy\\heapy\\test\n",
            "  creating build\\lib.win-amd64-3.5\\guppy\\sets\n",
            "  copying guppy\\sets\\test.py -> build\\lib.win-amd64-3.5\\guppy\\sets\n",
            "  copying guppy\\sets\\__init__.py -> build\\lib.win-amd64-3.5\\guppy\\sets\n",
            "  copying guppy\\doc\\docexample.html -> build\\lib.win-amd64-3.5\\guppy\\doc\n",
            "  copying guppy\\doc\\gsl.html -> build\\lib.win-amd64-3.5\\guppy\\doc\n",
            "  copying guppy\\doc\\gslexample.html -> build\\lib.win-amd64-3.5\\guppy\\doc\n",
            "  copying guppy\\doc\\guppy.html -> build\\lib.win-amd64-3.5\\guppy\\doc\n",
            "  copying guppy\\doc\\heapyc.html -> build\\lib.win-amd64-3.5\\guppy\\doc\n",
            "  copying guppy\\doc\\heapy_RootState.html -> build\\lib.win-amd64-3.5\\guppy\\doc\n",
            "  copying guppy\\doc\\heapy_tutorial.html -> build\\lib.win-amd64-3.5\\guppy\\doc\n",
            "  copying guppy\\doc\\heapy_UniSet.html -> build\\lib.win-amd64-3.5\\guppy\\doc\n",
            "  copying guppy\\doc\\heapy_Use.html -> build\\lib.win-amd64-3.5\\guppy\\doc\n",
            "  copying guppy\\doc\\index.html -> build\\lib.win-amd64-3.5\\guppy\\doc\n",
            "  copying guppy\\doc\\ProfileBrowser.html -> build\\lib.win-amd64-3.5\\guppy\\doc\n",
            "  copying guppy\\doc\\sets.html -> build\\lib.win-amd64-3.5\\guppy\\doc\n",
            "  copying guppy\\doc\\pbscreen.jpg -> build\\lib.win-amd64-3.5\\guppy\\doc\n",
            "  running build_ext\n",
            "  building 'guppy.sets.setsc' extension\n",
            "  error: Microsoft Visual C++ 14.0 is required. Get it with \"Microsoft Visual C++ Build Tools\": http://landinghub.visualstudio.com/visual-cpp-build-tools\n",
            "  \n",
            "  ----------------------------------------\n",
            "  Running setup.py clean for guppy\n",
            "Failed to build guppy\n",
            "Installing collected packages: guppy\n",
            "  Running setup.py install for guppy: started\n",
            "    Running setup.py install for guppy: finished with status 'error'\n",
            "    Complete output from command c:\\users\\dell\\anaconda3\\python.exe -u -c \"import setuptools, tokenize;__file__='C:\\\\Users\\\\Dell\\\\AppData\\\\Local\\\\Temp\\\\pip-build-d3t4jj4u\\\\guppy\\\\setup.py';f=getattr(tokenize, 'open', open)(__file__);code=f.read().replace('\\r\\n', '\\n');f.close();exec(compile(code, __file__, 'exec'))\" install --record C:\\Users\\Dell\\AppData\\Local\\Temp\\pip-_nlam_7o-record\\install-record.txt --single-version-externally-managed --compile:\n",
            "    running install\n",
            "    running build\n",
            "    running build_py\n",
            "    creating build\n",
            "    creating build\\lib.win-amd64-3.5\n",
            "    creating build\\lib.win-amd64-3.5\\guppy\n",
            "    copying guppy\\__init__.py -> build\\lib.win-amd64-3.5\\guppy\n",
            "    creating build\\lib.win-amd64-3.5\\guppy\\doc\n",
            "    copying guppy\\doc\\__init__.py -> build\\lib.win-amd64-3.5\\guppy\\doc\n",
            "    creating build\\lib.win-amd64-3.5\\guppy\\etc\n",
            "    copying guppy\\etc\\Cat.py -> build\\lib.win-amd64-3.5\\guppy\\etc\n",
            "    copying guppy\\etc\\cmd.py -> build\\lib.win-amd64-3.5\\guppy\\etc\n",
            "    copying guppy\\etc\\Code.py -> build\\lib.win-amd64-3.5\\guppy\\etc\n",
            "    copying guppy\\etc\\Compat.py -> build\\lib.win-amd64-3.5\\guppy\\etc\n",
            "    copying guppy\\etc\\etc.py -> build\\lib.win-amd64-3.5\\guppy\\etc\n",
            "    copying guppy\\etc\\ExecfileWithModuleInfo.py -> build\\lib.win-amd64-3.5\\guppy\\etc\n",
            "    copying guppy\\etc\\FSA.py -> build\\lib.win-amd64-3.5\\guppy\\etc\n",
            "    copying guppy\\etc\\Glue.py -> build\\lib.win-amd64-3.5\\guppy\\etc\n",
            "    copying guppy\\etc\\Help.py -> build\\lib.win-amd64-3.5\\guppy\\etc\n",
            "    copying guppy\\etc\\IterPermute.py -> build\\lib.win-amd64-3.5\\guppy\\etc\n",
            "    copying guppy\\etc\\KanExtension.py -> build\\lib.win-amd64-3.5\\guppy\\etc\n",
            "    copying guppy\\etc\\KnuthBendix.py -> build\\lib.win-amd64-3.5\\guppy\\etc\n",
            "    copying guppy\\etc\\OutputHandling.py -> build\\lib.win-amd64-3.5\\guppy\\etc\n",
            "    copying guppy\\etc\\RE.py -> build\\lib.win-amd64-3.5\\guppy\\etc\n",
            "    copying guppy\\etc\\RE_Rect.py -> build\\lib.win-amd64-3.5\\guppy\\etc\n",
            "    copying guppy\\etc\\textView.py -> build\\lib.win-amd64-3.5\\guppy\\etc\n",
            "    copying guppy\\etc\\tkcursors.py -> build\\lib.win-amd64-3.5\\guppy\\etc\n",
            "    copying guppy\\etc\\Unpack.py -> build\\lib.win-amd64-3.5\\guppy\\etc\n",
            "    copying guppy\\etc\\xterm.py -> build\\lib.win-amd64-3.5\\guppy\\etc\n",
            "    copying guppy\\etc\\__init__.py -> build\\lib.win-amd64-3.5\\guppy\\etc\n",
            "    creating build\\lib.win-amd64-3.5\\guppy\\gsl\n",
            "    copying guppy\\gsl\\Document.py -> build\\lib.win-amd64-3.5\\guppy\\gsl\n",
            "    copying guppy\\gsl\\DottedTree.py -> build\\lib.win-amd64-3.5\\guppy\\gsl\n",
            "    copying guppy\\gsl\\Exceptions.py -> build\\lib.win-amd64-3.5\\guppy\\gsl\n",
            "    copying guppy\\gsl\\FileIO.py -> build\\lib.win-amd64-3.5\\guppy\\gsl\n",
            "    copying guppy\\gsl\\Filer.py -> build\\lib.win-amd64-3.5\\guppy\\gsl\n",
            "    copying guppy\\gsl\\Gsml.py -> build\\lib.win-amd64-3.5\\guppy\\gsl\n",
            "    copying guppy\\gsl\\Help.py -> build\\lib.win-amd64-3.5\\guppy\\gsl\n",
            "    copying guppy\\gsl\\Html.py -> build\\lib.win-amd64-3.5\\guppy\\gsl\n",
            "    copying guppy\\gsl\\Latex.py -> build\\lib.win-amd64-3.5\\guppy\\gsl\n",
            "    copying guppy\\gsl\\Main.py -> build\\lib.win-amd64-3.5\\guppy\\gsl\n",
            "    copying guppy\\gsl\\SpecNodes.py -> build\\lib.win-amd64-3.5\\guppy\\gsl\n",
            "    copying guppy\\gsl\\Tester.py -> build\\lib.win-amd64-3.5\\guppy\\gsl\n",
            "    copying guppy\\gsl\\Text.py -> build\\lib.win-amd64-3.5\\guppy\\gsl\n",
            "    copying guppy\\gsl\\XHTML.py -> build\\lib.win-amd64-3.5\\guppy\\gsl\n",
            "    copying guppy\\gsl\\__init__.py -> build\\lib.win-amd64-3.5\\guppy\\gsl\n",
            "    creating build\\lib.win-amd64-3.5\\guppy\\heapy\n",
            "    copying guppy\\heapy\\AbstractAlgebra.py -> build\\lib.win-amd64-3.5\\guppy\\heapy\n",
            "    copying guppy\\heapy\\Classifiers.py -> build\\lib.win-amd64-3.5\\guppy\\heapy\n",
            "    copying guppy\\heapy\\Console.py -> build\\lib.win-amd64-3.5\\guppy\\heapy\n",
            "    copying guppy\\heapy\\Doc.py -> build\\lib.win-amd64-3.5\\guppy\\heapy\n",
            "    copying guppy\\heapy\\ImpSet.py -> build\\lib.win-amd64-3.5\\guppy\\heapy\n",
            "    copying guppy\\heapy\\Monitor.py -> build\\lib.win-amd64-3.5\\guppy\\heapy\n",
            "    copying guppy\\heapy\\OutputHandling.py -> build\\lib.win-amd64-3.5\\guppy\\heapy\n",
            "    copying guppy\\heapy\\Part.py -> build\\lib.win-amd64-3.5\\guppy\\heapy\n",
            "    copying guppy\\heapy\\Path.py -> build\\lib.win-amd64-3.5\\guppy\\heapy\n",
            "    copying guppy\\heapy\\pbhelp.py -> build\\lib.win-amd64-3.5\\guppy\\heapy\n",
            "    copying guppy\\heapy\\Prof.py -> build\\lib.win-amd64-3.5\\guppy\\heapy\n",
            "    copying guppy\\heapy\\RefPat.py -> build\\lib.win-amd64-3.5\\guppy\\heapy\n",
            "    copying guppy\\heapy\\Remote.py -> build\\lib.win-amd64-3.5\\guppy\\heapy\n",
            "    copying guppy\\heapy\\RemoteConstants.py -> build\\lib.win-amd64-3.5\\guppy\\heapy\n",
            "    copying guppy\\heapy\\RM.py -> build\\lib.win-amd64-3.5\\guppy\\heapy\n",
            "    copying guppy\\heapy\\Spec.py -> build\\lib.win-amd64-3.5\\guppy\\heapy\n",
            "    copying guppy\\heapy\\Target.py -> build\\lib.win-amd64-3.5\\guppy\\heapy\n",
            "    copying guppy\\heapy\\UniSet.py -> build\\lib.win-amd64-3.5\\guppy\\heapy\n",
            "    copying guppy\\heapy\\Use.py -> build\\lib.win-amd64-3.5\\guppy\\heapy\n",
            "    copying guppy\\heapy\\View.py -> build\\lib.win-amd64-3.5\\guppy\\heapy\n",
            "    copying guppy\\heapy\\__init__.py -> build\\lib.win-amd64-3.5\\guppy\\heapy\n",
            "    creating build\\lib.win-amd64-3.5\\guppy\\heapy\\test\n",
            "    copying guppy\\heapy\\test\\support.py -> build\\lib.win-amd64-3.5\\guppy\\heapy\\test\n",
            "    copying guppy\\heapy\\test\\test_all.py -> build\\lib.win-amd64-3.5\\guppy\\heapy\\test\n",
            "    copying guppy\\heapy\\test\\test_Classifiers.py -> build\\lib.win-amd64-3.5\\guppy\\heapy\\test\n",
            "    copying guppy\\heapy\\test\\test_dependencies.py -> build\\lib.win-amd64-3.5\\guppy\\heapy\\test\n",
            "    copying guppy\\heapy\\test\\test_ER.py -> build\\lib.win-amd64-3.5\\guppy\\heapy\\test\n",
            "    copying guppy\\heapy\\test\\test_heapyc.py -> build\\lib.win-amd64-3.5\\guppy\\heapy\\test\n",
            "    copying guppy\\heapy\\test\\test_menuleak.py -> build\\lib.win-amd64-3.5\\guppy\\heapy\\test\n",
            "    copying guppy\\heapy\\test\\test_OutputHandling.py -> build\\lib.win-amd64-3.5\\guppy\\heapy\\test\n",
            "    copying guppy\\heapy\\test\\test_Part.py -> build\\lib.win-amd64-3.5\\guppy\\heapy\\test\n",
            "    copying guppy\\heapy\\test\\test_Path.py -> build\\lib.win-amd64-3.5\\guppy\\heapy\\test\n",
            "    copying guppy\\heapy\\test\\test_RefPat.py -> build\\lib.win-amd64-3.5\\guppy\\heapy\\test\n",
            "    copying guppy\\heapy\\test\\test_RetaGraph.py -> build\\lib.win-amd64-3.5\\guppy\\heapy\\test\n",
            "    copying guppy\\heapy\\test\\test_sf.py -> build\\lib.win-amd64-3.5\\guppy\\heapy\\test\n",
            "    copying guppy\\heapy\\test\\test_Spec.py -> build\\lib.win-amd64-3.5\\guppy\\heapy\\test\n",
            "    copying guppy\\heapy\\test\\test_UniSet.py -> build\\lib.win-amd64-3.5\\guppy\\heapy\\test\n",
            "    copying guppy\\heapy\\test\\test_View.py -> build\\lib.win-amd64-3.5\\guppy\\heapy\\test\n",
            "    copying guppy\\heapy\\test\\__init__.py -> build\\lib.win-amd64-3.5\\guppy\\heapy\\test\n",
            "    creating build\\lib.win-amd64-3.5\\guppy\\sets\n",
            "    copying guppy\\sets\\test.py -> build\\lib.win-amd64-3.5\\guppy\\sets\n",
            "    copying guppy\\sets\\__init__.py -> build\\lib.win-amd64-3.5\\guppy\\sets\n",
            "    copying guppy\\doc\\docexample.html -> build\\lib.win-amd64-3.5\\guppy\\doc\n",
            "    copying guppy\\doc\\gsl.html -> build\\lib.win-amd64-3.5\\guppy\\doc\n",
            "    copying guppy\\doc\\gslexample.html -> build\\lib.win-amd64-3.5\\guppy\\doc\n",
            "    copying guppy\\doc\\guppy.html -> build\\lib.win-amd64-3.5\\guppy\\doc\n",
            "    copying guppy\\doc\\heapyc.html -> build\\lib.win-amd64-3.5\\guppy\\doc\n",
            "    copying guppy\\doc\\heapy_RootState.html -> build\\lib.win-amd64-3.5\\guppy\\doc\n",
            "    copying guppy\\doc\\heapy_tutorial.html -> build\\lib.win-amd64-3.5\\guppy\\doc\n",
            "    copying guppy\\doc\\heapy_UniSet.html -> build\\lib.win-amd64-3.5\\guppy\\doc\n",
            "    copying guppy\\doc\\heapy_Use.html -> build\\lib.win-amd64-3.5\\guppy\\doc\n",
            "    copying guppy\\doc\\index.html -> build\\lib.win-amd64-3.5\\guppy\\doc\n",
            "    copying guppy\\doc\\ProfileBrowser.html -> build\\lib.win-amd64-3.5\\guppy\\doc\n",
            "    copying guppy\\doc\\sets.html -> build\\lib.win-amd64-3.5\\guppy\\doc\n",
            "    copying guppy\\doc\\pbscreen.jpg -> build\\lib.win-amd64-3.5\\guppy\\doc\n",
            "    running build_ext\n",
            "    building 'guppy.sets.setsc' extension\n",
            "    error: Microsoft Visual C++ 14.0 is required. Get it with \"Microsoft Visual C++ Build Tools\": http://landinghub.visualstudio.com/visual-cpp-build-tools\n",
            "    \n",
            "    ----------------------------------------\n"
          ]
        },
        {
          "name": "stderr",
          "output_type": "stream",
          "text": [
            "  Failed building wheel for guppy\n",
            "Command \"c:\\users\\dell\\anaconda3\\python.exe -u -c \"import setuptools, tokenize;__file__='C:\\\\Users\\\\Dell\\\\AppData\\\\Local\\\\Temp\\\\pip-build-d3t4jj4u\\\\guppy\\\\setup.py';f=getattr(tokenize, 'open', open)(__file__);code=f.read().replace('\\r\\n', '\\n');f.close();exec(compile(code, __file__, 'exec'))\" install --record C:\\Users\\Dell\\AppData\\Local\\Temp\\pip-_nlam_7o-record\\install-record.txt --single-version-externally-managed --compile\" failed with error code 1 in C:\\Users\\Dell\\AppData\\Local\\Temp\\pip-build-d3t4jj4u\\guppy\\\n"
          ]
        }
      ],
      "source": [
        "!pip install guppy"
      ]
    },
    {
      "cell_type": "code",
      "execution_count": null,
      "metadata": {
        "id": "xpXw06KZAbvD",
        "outputId": "1789f98d-0ac1-4639-8168-8d585f84b585"
      },
      "outputs": [
        {
          "data": {
            "text/html": [
              "<div>\n",
              "<table border=\"1\" class=\"dataframe\">\n",
              "  <thead>\n",
              "    <tr style=\"text-align: right;\">\n",
              "      <th></th>\n",
              "      <th>custID</th>\n",
              "      <th>gender</th>\n",
              "      <th>state</th>\n",
              "      <th>cardholder</th>\n",
              "      <th>balance</th>\n",
              "      <th>numTrans</th>\n",
              "      <th>numIntlTrans</th>\n",
              "      <th>creditLine</th>\n",
              "      <th>fraudRisk</th>\n",
              "    </tr>\n",
              "  </thead>\n",
              "  <tbody>\n",
              "    <tr>\n",
              "      <th>0</th>\n",
              "      <td>1</td>\n",
              "      <td>1</td>\n",
              "      <td>35</td>\n",
              "      <td>1</td>\n",
              "      <td>3000</td>\n",
              "      <td>4</td>\n",
              "      <td>14</td>\n",
              "      <td>2</td>\n",
              "      <td>0</td>\n",
              "    </tr>\n",
              "    <tr>\n",
              "      <th>1</th>\n",
              "      <td>2</td>\n",
              "      <td>2</td>\n",
              "      <td>2</td>\n",
              "      <td>1</td>\n",
              "      <td>0</td>\n",
              "      <td>9</td>\n",
              "      <td>0</td>\n",
              "      <td>18</td>\n",
              "      <td>0</td>\n",
              "    </tr>\n",
              "    <tr>\n",
              "      <th>2</th>\n",
              "      <td>3</td>\n",
              "      <td>2</td>\n",
              "      <td>2</td>\n",
              "      <td>1</td>\n",
              "      <td>0</td>\n",
              "      <td>27</td>\n",
              "      <td>9</td>\n",
              "      <td>16</td>\n",
              "      <td>0</td>\n",
              "    </tr>\n",
              "    <tr>\n",
              "      <th>3</th>\n",
              "      <td>4</td>\n",
              "      <td>1</td>\n",
              "      <td>15</td>\n",
              "      <td>1</td>\n",
              "      <td>0</td>\n",
              "      <td>12</td>\n",
              "      <td>0</td>\n",
              "      <td>5</td>\n",
              "      <td>0</td>\n",
              "    </tr>\n",
              "    <tr>\n",
              "      <th>4</th>\n",
              "      <td>5</td>\n",
              "      <td>1</td>\n",
              "      <td>46</td>\n",
              "      <td>1</td>\n",
              "      <td>0</td>\n",
              "      <td>11</td>\n",
              "      <td>16</td>\n",
              "      <td>7</td>\n",
              "      <td>0</td>\n",
              "    </tr>\n",
              "  </tbody>\n",
              "</table>\n",
              "</div>"
            ],
            "text/plain": [
              "   custID  gender  state  cardholder  balance  numTrans  numIntlTrans  \\\n",
              "0       1       1     35           1     3000         4            14   \n",
              "1       2       2      2           1        0         9             0   \n",
              "2       3       2      2           1        0        27             9   \n",
              "3       4       1     15           1        0        12             0   \n",
              "4       5       1     46           1        0        11            16   \n",
              "\n",
              "   creditLine  fraudRisk  \n",
              "0           2          0  \n",
              "1          18          0  \n",
              "2          16          0  \n",
              "3           5          0  \n",
              "4           7          0  "
            ]
          },
          "execution_count": 128,
          "metadata": {},
          "output_type": "execute_result"
        }
      ],
      "source": [
        "fraud.head()"
      ]
    },
    {
      "cell_type": "code",
      "execution_count": null,
      "metadata": {
        "id": "mGf4p0RHAbvD",
        "outputId": "14ab0015-62b7-44d8-8815-74a8badb5a82"
      },
      "outputs": [
        {
          "data": {
            "text/plain": [
              "0    1\n",
              "1    2\n",
              "2    2\n",
              "3    1\n",
              "4    1\n",
              "Name: gender, dtype: int64"
            ]
          },
          "execution_count": 135,
          "metadata": {},
          "output_type": "execute_result"
        }
      ],
      "source": [
        "fraud.head().gender"
      ]
    },
    {
      "cell_type": "code",
      "execution_count": null,
      "metadata": {
        "id": "ooIJyQx1AbvD",
        "outputId": "73fbd6c9-d26c-4437-ac05-309eec1a5094"
      },
      "outputs": [
        {
          "data": {
            "text/plain": [
              "0    1\n",
              "1    2\n",
              "2    2\n",
              "3    1\n",
              "4    1\n",
              "Name: gender, dtype: int64"
            ]
          },
          "execution_count": 133,
          "metadata": {},
          "output_type": "execute_result"
        }
      ],
      "source": [
        "fraud.gender.head()"
      ]
    },
    {
      "cell_type": "code",
      "execution_count": null,
      "metadata": {
        "id": "eE8jR2wBAbvD",
        "outputId": "4dd6bd74-e0bc-4977-8f21-3d371500f0f2"
      },
      "outputs": [
        {
          "data": {
            "text/plain": [
              "0    1\n",
              "1    2\n",
              "2    2\n",
              "3    1\n",
              "4    1\n",
              "Name: gender, dtype: int64"
            ]
          },
          "execution_count": 132,
          "metadata": {},
          "output_type": "execute_result"
        }
      ],
      "source": [
        "fraud['gender'].head()"
      ]
    },
    {
      "cell_type": "code",
      "execution_count": null,
      "metadata": {
        "id": "eHIVu2YXAbvE",
        "outputId": "e1adfa98-4d45-436c-d863-3c7061f5588f"
      },
      "outputs": [
        {
          "data": {
            "text/html": [
              "<div>\n",
              "<table border=\"1\" class=\"dataframe\">\n",
              "  <thead>\n",
              "    <tr style=\"text-align: right;\">\n",
              "      <th></th>\n",
              "      <th>gender</th>\n",
              "      <th>state</th>\n",
              "      <th>balance</th>\n",
              "    </tr>\n",
              "  </thead>\n",
              "  <tbody>\n",
              "    <tr>\n",
              "      <th>0</th>\n",
              "      <td>1</td>\n",
              "      <td>35</td>\n",
              "      <td>3000</td>\n",
              "    </tr>\n",
              "    <tr>\n",
              "      <th>1</th>\n",
              "      <td>2</td>\n",
              "      <td>2</td>\n",
              "      <td>0</td>\n",
              "    </tr>\n",
              "    <tr>\n",
              "      <th>2</th>\n",
              "      <td>2</td>\n",
              "      <td>2</td>\n",
              "      <td>0</td>\n",
              "    </tr>\n",
              "    <tr>\n",
              "      <th>3</th>\n",
              "      <td>1</td>\n",
              "      <td>15</td>\n",
              "      <td>0</td>\n",
              "    </tr>\n",
              "    <tr>\n",
              "      <th>4</th>\n",
              "      <td>1</td>\n",
              "      <td>46</td>\n",
              "      <td>0</td>\n",
              "    </tr>\n",
              "  </tbody>\n",
              "</table>\n",
              "</div>"
            ],
            "text/plain": [
              "   gender  state  balance\n",
              "0       1     35     3000\n",
              "1       2      2        0\n",
              "2       2      2        0\n",
              "3       1     15        0\n",
              "4       1     46        0"
            ]
          },
          "execution_count": 131,
          "metadata": {},
          "output_type": "execute_result"
        }
      ],
      "source": [
        "fraud[['gender','state','balance']].head()"
      ]
    },
    {
      "cell_type": "code",
      "execution_count": null,
      "metadata": {
        "id": "Oc_FNeOqAbvE",
        "outputId": "53bc2616-7fa3-4c25-8c2c-10251595914c"
      },
      "outputs": [
        {
          "data": {
            "text/html": [
              "<div>\n",
              "<table border=\"1\" class=\"dataframe\">\n",
              "  <thead>\n",
              "    <tr style=\"text-align: right;\">\n",
              "      <th></th>\n",
              "      <th>custID</th>\n",
              "      <th>gender</th>\n",
              "      <th>state</th>\n",
              "      <th>cardholder</th>\n",
              "      <th>balance</th>\n",
              "      <th>numTrans</th>\n",
              "      <th>numIntlTrans</th>\n",
              "      <th>creditLine</th>\n",
              "      <th>fraudRisk</th>\n",
              "    </tr>\n",
              "  </thead>\n",
              "  <tbody>\n",
              "    <tr>\n",
              "      <th>10</th>\n",
              "      <td>11</td>\n",
              "      <td>1</td>\n",
              "      <td>46</td>\n",
              "      <td>1</td>\n",
              "      <td>4601</td>\n",
              "      <td>54</td>\n",
              "      <td>0</td>\n",
              "      <td>4</td>\n",
              "      <td>0</td>\n",
              "    </tr>\n",
              "    <tr>\n",
              "      <th>11</th>\n",
              "      <td>12</td>\n",
              "      <td>1</td>\n",
              "      <td>10</td>\n",
              "      <td>1</td>\n",
              "      <td>3000</td>\n",
              "      <td>20</td>\n",
              "      <td>0</td>\n",
              "      <td>2</td>\n",
              "      <td>0</td>\n",
              "    </tr>\n",
              "    <tr>\n",
              "      <th>12</th>\n",
              "      <td>13</td>\n",
              "      <td>1</td>\n",
              "      <td>6</td>\n",
              "      <td>1</td>\n",
              "      <td>0</td>\n",
              "      <td>45</td>\n",
              "      <td>2</td>\n",
              "      <td>4</td>\n",
              "      <td>0</td>\n",
              "    </tr>\n",
              "    <tr>\n",
              "      <th>13</th>\n",
              "      <td>14</td>\n",
              "      <td>2</td>\n",
              "      <td>38</td>\n",
              "      <td>1</td>\n",
              "      <td>9000</td>\n",
              "      <td>41</td>\n",
              "      <td>3</td>\n",
              "      <td>8</td>\n",
              "      <td>0</td>\n",
              "    </tr>\n",
              "    <tr>\n",
              "      <th>14</th>\n",
              "      <td>15</td>\n",
              "      <td>1</td>\n",
              "      <td>27</td>\n",
              "      <td>1</td>\n",
              "      <td>5227</td>\n",
              "      <td>60</td>\n",
              "      <td>0</td>\n",
              "      <td>17</td>\n",
              "      <td>0</td>\n",
              "    </tr>\n",
              "    <tr>\n",
              "      <th>15</th>\n",
              "      <td>16</td>\n",
              "      <td>1</td>\n",
              "      <td>44</td>\n",
              "      <td>1</td>\n",
              "      <td>0</td>\n",
              "      <td>22</td>\n",
              "      <td>0</td>\n",
              "      <td>5</td>\n",
              "      <td>0</td>\n",
              "    </tr>\n",
              "    <tr>\n",
              "      <th>16</th>\n",
              "      <td>17</td>\n",
              "      <td>2</td>\n",
              "      <td>18</td>\n",
              "      <td>1</td>\n",
              "      <td>13970</td>\n",
              "      <td>20</td>\n",
              "      <td>0</td>\n",
              "      <td>13</td>\n",
              "      <td>0</td>\n",
              "    </tr>\n",
              "    <tr>\n",
              "      <th>17</th>\n",
              "      <td>18</td>\n",
              "      <td>1</td>\n",
              "      <td>35</td>\n",
              "      <td>1</td>\n",
              "      <td>3113</td>\n",
              "      <td>13</td>\n",
              "      <td>6</td>\n",
              "      <td>8</td>\n",
              "      <td>0</td>\n",
              "    </tr>\n",
              "    <tr>\n",
              "      <th>18</th>\n",
              "      <td>19</td>\n",
              "      <td>1</td>\n",
              "      <td>5</td>\n",
              "      <td>1</td>\n",
              "      <td>9000</td>\n",
              "      <td>20</td>\n",
              "      <td>2</td>\n",
              "      <td>8</td>\n",
              "      <td>0</td>\n",
              "    </tr>\n",
              "    <tr>\n",
              "      <th>19</th>\n",
              "      <td>20</td>\n",
              "      <td>2</td>\n",
              "      <td>31</td>\n",
              "      <td>1</td>\n",
              "      <td>1860</td>\n",
              "      <td>21</td>\n",
              "      <td>10</td>\n",
              "      <td>8</td>\n",
              "      <td>0</td>\n",
              "    </tr>\n",
              "    <tr>\n",
              "      <th>20</th>\n",
              "      <td>21</td>\n",
              "      <td>1</td>\n",
              "      <td>39</td>\n",
              "      <td>1</td>\n",
              "      <td>4000</td>\n",
              "      <td>24</td>\n",
              "      <td>0</td>\n",
              "      <td>3</td>\n",
              "      <td>0</td>\n",
              "    </tr>\n",
              "  </tbody>\n",
              "</table>\n",
              "</div>"
            ],
            "text/plain": [
              "    custID  gender  state  cardholder  balance  numTrans  numIntlTrans  \\\n",
              "10      11       1     46           1     4601        54             0   \n",
              "11      12       1     10           1     3000        20             0   \n",
              "12      13       1      6           1        0        45             2   \n",
              "13      14       2     38           1     9000        41             3   \n",
              "14      15       1     27           1     5227        60             0   \n",
              "15      16       1     44           1        0        22             0   \n",
              "16      17       2     18           1    13970        20             0   \n",
              "17      18       1     35           1     3113        13             6   \n",
              "18      19       1      5           1     9000        20             2   \n",
              "19      20       2     31           1     1860        21            10   \n",
              "20      21       1     39           1     4000        24             0   \n",
              "\n",
              "    creditLine  fraudRisk  \n",
              "10           4          0  \n",
              "11           2          0  \n",
              "12           4          0  \n",
              "13           8          0  \n",
              "14          17          0  \n",
              "15           5          0  \n",
              "16          13          0  \n",
              "17           8          0  \n",
              "18           8          0  \n",
              "19           8          0  \n",
              "20           3          0  "
            ]
          },
          "execution_count": 136,
          "metadata": {},
          "output_type": "execute_result"
        }
      ],
      "source": [
        "fraud.ix[10:20]"
      ]
    },
    {
      "cell_type": "code",
      "execution_count": null,
      "metadata": {
        "id": "qxEE2CW4AbvE",
        "outputId": "5b05ae7f-bce0-44f7-c8db-df96d3d2faf8"
      },
      "outputs": [
        {
          "data": {
            "text/html": [
              "<div>\n",
              "<table border=\"1\" class=\"dataframe\">\n",
              "  <thead>\n",
              "    <tr style=\"text-align: right;\">\n",
              "      <th></th>\n",
              "      <th>custID</th>\n",
              "      <th>gender</th>\n",
              "      <th>state</th>\n",
              "      <th>cardholder</th>\n",
              "      <th>balance</th>\n",
              "      <th>numTrans</th>\n",
              "      <th>numIntlTrans</th>\n",
              "      <th>creditLine</th>\n",
              "      <th>fraudRisk</th>\n",
              "    </tr>\n",
              "  </thead>\n",
              "  <tbody>\n",
              "    <tr>\n",
              "      <th>0</th>\n",
              "      <td>1</td>\n",
              "      <td>1</td>\n",
              "      <td>35</td>\n",
              "      <td>1</td>\n",
              "      <td>3000</td>\n",
              "      <td>4</td>\n",
              "      <td>14</td>\n",
              "      <td>2</td>\n",
              "      <td>0</td>\n",
              "    </tr>\n",
              "    <tr>\n",
              "      <th>1</th>\n",
              "      <td>2</td>\n",
              "      <td>2</td>\n",
              "      <td>2</td>\n",
              "      <td>1</td>\n",
              "      <td>0</td>\n",
              "      <td>9</td>\n",
              "      <td>0</td>\n",
              "      <td>18</td>\n",
              "      <td>0</td>\n",
              "    </tr>\n",
              "    <tr>\n",
              "      <th>2</th>\n",
              "      <td>3</td>\n",
              "      <td>2</td>\n",
              "      <td>2</td>\n",
              "      <td>1</td>\n",
              "      <td>0</td>\n",
              "      <td>27</td>\n",
              "      <td>9</td>\n",
              "      <td>16</td>\n",
              "      <td>0</td>\n",
              "    </tr>\n",
              "    <tr>\n",
              "      <th>3</th>\n",
              "      <td>4</td>\n",
              "      <td>1</td>\n",
              "      <td>15</td>\n",
              "      <td>1</td>\n",
              "      <td>0</td>\n",
              "      <td>12</td>\n",
              "      <td>0</td>\n",
              "      <td>5</td>\n",
              "      <td>0</td>\n",
              "    </tr>\n",
              "    <tr>\n",
              "      <th>4</th>\n",
              "      <td>5</td>\n",
              "      <td>1</td>\n",
              "      <td>46</td>\n",
              "      <td>1</td>\n",
              "      <td>0</td>\n",
              "      <td>11</td>\n",
              "      <td>16</td>\n",
              "      <td>7</td>\n",
              "      <td>0</td>\n",
              "    </tr>\n",
              "    <tr>\n",
              "      <th>5</th>\n",
              "      <td>6</td>\n",
              "      <td>2</td>\n",
              "      <td>44</td>\n",
              "      <td>2</td>\n",
              "      <td>5546</td>\n",
              "      <td>21</td>\n",
              "      <td>0</td>\n",
              "      <td>13</td>\n",
              "      <td>0</td>\n",
              "    </tr>\n",
              "    <tr>\n",
              "      <th>6</th>\n",
              "      <td>7</td>\n",
              "      <td>1</td>\n",
              "      <td>3</td>\n",
              "      <td>1</td>\n",
              "      <td>2000</td>\n",
              "      <td>41</td>\n",
              "      <td>0</td>\n",
              "      <td>1</td>\n",
              "      <td>0</td>\n",
              "    </tr>\n",
              "    <tr>\n",
              "      <th>7</th>\n",
              "      <td>8</td>\n",
              "      <td>1</td>\n",
              "      <td>10</td>\n",
              "      <td>1</td>\n",
              "      <td>6016</td>\n",
              "      <td>20</td>\n",
              "      <td>3</td>\n",
              "      <td>6</td>\n",
              "      <td>0</td>\n",
              "    </tr>\n",
              "    <tr>\n",
              "      <th>8</th>\n",
              "      <td>9</td>\n",
              "      <td>2</td>\n",
              "      <td>32</td>\n",
              "      <td>1</td>\n",
              "      <td>2428</td>\n",
              "      <td>4</td>\n",
              "      <td>10</td>\n",
              "      <td>22</td>\n",
              "      <td>0</td>\n",
              "    </tr>\n",
              "    <tr>\n",
              "      <th>9</th>\n",
              "      <td>10</td>\n",
              "      <td>1</td>\n",
              "      <td>23</td>\n",
              "      <td>1</td>\n",
              "      <td>0</td>\n",
              "      <td>18</td>\n",
              "      <td>56</td>\n",
              "      <td>5</td>\n",
              "      <td>0</td>\n",
              "    </tr>\n",
              "    <tr>\n",
              "      <th>10</th>\n",
              "      <td>11</td>\n",
              "      <td>1</td>\n",
              "      <td>46</td>\n",
              "      <td>1</td>\n",
              "      <td>4601</td>\n",
              "      <td>54</td>\n",
              "      <td>0</td>\n",
              "      <td>4</td>\n",
              "      <td>0</td>\n",
              "    </tr>\n",
              "    <tr>\n",
              "      <th>11</th>\n",
              "      <td>12</td>\n",
              "      <td>1</td>\n",
              "      <td>10</td>\n",
              "      <td>1</td>\n",
              "      <td>3000</td>\n",
              "      <td>20</td>\n",
              "      <td>0</td>\n",
              "      <td>2</td>\n",
              "      <td>0</td>\n",
              "    </tr>\n",
              "    <tr>\n",
              "      <th>12</th>\n",
              "      <td>13</td>\n",
              "      <td>1</td>\n",
              "      <td>6</td>\n",
              "      <td>1</td>\n",
              "      <td>0</td>\n",
              "      <td>45</td>\n",
              "      <td>2</td>\n",
              "      <td>4</td>\n",
              "      <td>0</td>\n",
              "    </tr>\n",
              "    <tr>\n",
              "      <th>13</th>\n",
              "      <td>14</td>\n",
              "      <td>2</td>\n",
              "      <td>38</td>\n",
              "      <td>1</td>\n",
              "      <td>9000</td>\n",
              "      <td>41</td>\n",
              "      <td>3</td>\n",
              "      <td>8</td>\n",
              "      <td>0</td>\n",
              "    </tr>\n",
              "    <tr>\n",
              "      <th>14</th>\n",
              "      <td>15</td>\n",
              "      <td>1</td>\n",
              "      <td>27</td>\n",
              "      <td>1</td>\n",
              "      <td>5227</td>\n",
              "      <td>60</td>\n",
              "      <td>0</td>\n",
              "      <td>17</td>\n",
              "      <td>0</td>\n",
              "    </tr>\n",
              "    <tr>\n",
              "      <th>15</th>\n",
              "      <td>16</td>\n",
              "      <td>1</td>\n",
              "      <td>44</td>\n",
              "      <td>1</td>\n",
              "      <td>0</td>\n",
              "      <td>22</td>\n",
              "      <td>0</td>\n",
              "      <td>5</td>\n",
              "      <td>0</td>\n",
              "    </tr>\n",
              "    <tr>\n",
              "      <th>16</th>\n",
              "      <td>17</td>\n",
              "      <td>2</td>\n",
              "      <td>18</td>\n",
              "      <td>1</td>\n",
              "      <td>13970</td>\n",
              "      <td>20</td>\n",
              "      <td>0</td>\n",
              "      <td>13</td>\n",
              "      <td>0</td>\n",
              "    </tr>\n",
              "    <tr>\n",
              "      <th>17</th>\n",
              "      <td>18</td>\n",
              "      <td>1</td>\n",
              "      <td>35</td>\n",
              "      <td>1</td>\n",
              "      <td>3113</td>\n",
              "      <td>13</td>\n",
              "      <td>6</td>\n",
              "      <td>8</td>\n",
              "      <td>0</td>\n",
              "    </tr>\n",
              "    <tr>\n",
              "      <th>18</th>\n",
              "      <td>19</td>\n",
              "      <td>1</td>\n",
              "      <td>5</td>\n",
              "      <td>1</td>\n",
              "      <td>9000</td>\n",
              "      <td>20</td>\n",
              "      <td>2</td>\n",
              "      <td>8</td>\n",
              "      <td>0</td>\n",
              "    </tr>\n",
              "    <tr>\n",
              "      <th>19</th>\n",
              "      <td>20</td>\n",
              "      <td>2</td>\n",
              "      <td>31</td>\n",
              "      <td>1</td>\n",
              "      <td>1860</td>\n",
              "      <td>21</td>\n",
              "      <td>10</td>\n",
              "      <td>8</td>\n",
              "      <td>0</td>\n",
              "    </tr>\n",
              "    <tr>\n",
              "      <th>20</th>\n",
              "      <td>21</td>\n",
              "      <td>1</td>\n",
              "      <td>39</td>\n",
              "      <td>1</td>\n",
              "      <td>4000</td>\n",
              "      <td>24</td>\n",
              "      <td>0</td>\n",
              "      <td>3</td>\n",
              "      <td>0</td>\n",
              "    </tr>\n",
              "    <tr>\n",
              "      <th>21</th>\n",
              "      <td>22</td>\n",
              "      <td>1</td>\n",
              "      <td>34</td>\n",
              "      <td>1</td>\n",
              "      <td>0</td>\n",
              "      <td>22</td>\n",
              "      <td>0</td>\n",
              "      <td>3</td>\n",
              "      <td>0</td>\n",
              "    </tr>\n",
              "    <tr>\n",
              "      <th>22</th>\n",
              "      <td>23</td>\n",
              "      <td>1</td>\n",
              "      <td>5</td>\n",
              "      <td>1</td>\n",
              "      <td>0</td>\n",
              "      <td>7</td>\n",
              "      <td>0</td>\n",
              "      <td>11</td>\n",
              "      <td>0</td>\n",
              "    </tr>\n",
              "    <tr>\n",
              "      <th>23</th>\n",
              "      <td>24</td>\n",
              "      <td>2</td>\n",
              "      <td>21</td>\n",
              "      <td>1</td>\n",
              "      <td>0</td>\n",
              "      <td>15</td>\n",
              "      <td>0</td>\n",
              "      <td>3</td>\n",
              "      <td>0</td>\n",
              "    </tr>\n",
              "    <tr>\n",
              "      <th>24</th>\n",
              "      <td>25</td>\n",
              "      <td>1</td>\n",
              "      <td>25</td>\n",
              "      <td>1</td>\n",
              "      <td>0</td>\n",
              "      <td>12</td>\n",
              "      <td>0</td>\n",
              "      <td>65</td>\n",
              "      <td>0</td>\n",
              "    </tr>\n",
              "    <tr>\n",
              "      <th>25</th>\n",
              "      <td>26</td>\n",
              "      <td>2</td>\n",
              "      <td>29</td>\n",
              "      <td>1</td>\n",
              "      <td>5000</td>\n",
              "      <td>4</td>\n",
              "      <td>9</td>\n",
              "      <td>4</td>\n",
              "      <td>0</td>\n",
              "    </tr>\n",
              "    <tr>\n",
              "      <th>26</th>\n",
              "      <td>27</td>\n",
              "      <td>1</td>\n",
              "      <td>38</td>\n",
              "      <td>1</td>\n",
              "      <td>4000</td>\n",
              "      <td>21</td>\n",
              "      <td>5</td>\n",
              "      <td>3</td>\n",
              "      <td>0</td>\n",
              "    </tr>\n",
              "    <tr>\n",
              "      <th>27</th>\n",
              "      <td>28</td>\n",
              "      <td>1</td>\n",
              "      <td>9</td>\n",
              "      <td>1</td>\n",
              "      <td>12000</td>\n",
              "      <td>20</td>\n",
              "      <td>0</td>\n",
              "      <td>11</td>\n",
              "      <td>0</td>\n",
              "    </tr>\n",
              "    <tr>\n",
              "      <th>28</th>\n",
              "      <td>29</td>\n",
              "      <td>2</td>\n",
              "      <td>20</td>\n",
              "      <td>1</td>\n",
              "      <td>0</td>\n",
              "      <td>19</td>\n",
              "      <td>0</td>\n",
              "      <td>2</td>\n",
              "      <td>0</td>\n",
              "    </tr>\n",
              "    <tr>\n",
              "      <th>29</th>\n",
              "      <td>30</td>\n",
              "      <td>2</td>\n",
              "      <td>49</td>\n",
              "      <td>1</td>\n",
              "      <td>5192</td>\n",
              "      <td>84</td>\n",
              "      <td>0</td>\n",
              "      <td>13</td>\n",
              "      <td>1</td>\n",
              "    </tr>\n",
              "    <tr>\n",
              "      <th>...</th>\n",
              "      <td>...</td>\n",
              "      <td>...</td>\n",
              "      <td>...</td>\n",
              "      <td>...</td>\n",
              "      <td>...</td>\n",
              "      <td>...</td>\n",
              "      <td>...</td>\n",
              "      <td>...</td>\n",
              "      <td>...</td>\n",
              "    </tr>\n",
              "    <tr>\n",
              "      <th>9999970</th>\n",
              "      <td>9999971</td>\n",
              "      <td>1</td>\n",
              "      <td>10</td>\n",
              "      <td>1</td>\n",
              "      <td>0</td>\n",
              "      <td>12</td>\n",
              "      <td>0</td>\n",
              "      <td>11</td>\n",
              "      <td>0</td>\n",
              "    </tr>\n",
              "    <tr>\n",
              "      <th>9999971</th>\n",
              "      <td>9999972</td>\n",
              "      <td>2</td>\n",
              "      <td>40</td>\n",
              "      <td>1</td>\n",
              "      <td>3683</td>\n",
              "      <td>31</td>\n",
              "      <td>3</td>\n",
              "      <td>7</td>\n",
              "      <td>0</td>\n",
              "    </tr>\n",
              "    <tr>\n",
              "      <th>9999972</th>\n",
              "      <td>9999973</td>\n",
              "      <td>1</td>\n",
              "      <td>46</td>\n",
              "      <td>1</td>\n",
              "      <td>5000</td>\n",
              "      <td>69</td>\n",
              "      <td>0</td>\n",
              "      <td>4</td>\n",
              "      <td>0</td>\n",
              "    </tr>\n",
              "    <tr>\n",
              "      <th>9999973</th>\n",
              "      <td>9999974</td>\n",
              "      <td>1</td>\n",
              "      <td>10</td>\n",
              "      <td>2</td>\n",
              "      <td>0</td>\n",
              "      <td>36</td>\n",
              "      <td>31</td>\n",
              "      <td>14</td>\n",
              "      <td>0</td>\n",
              "    </tr>\n",
              "    <tr>\n",
              "      <th>9999974</th>\n",
              "      <td>9999975</td>\n",
              "      <td>1</td>\n",
              "      <td>25</td>\n",
              "      <td>1</td>\n",
              "      <td>0</td>\n",
              "      <td>18</td>\n",
              "      <td>0</td>\n",
              "      <td>3</td>\n",
              "      <td>0</td>\n",
              "    </tr>\n",
              "    <tr>\n",
              "      <th>9999975</th>\n",
              "      <td>9999976</td>\n",
              "      <td>2</td>\n",
              "      <td>48</td>\n",
              "      <td>1</td>\n",
              "      <td>4210</td>\n",
              "      <td>23</td>\n",
              "      <td>0</td>\n",
              "      <td>8</td>\n",
              "      <td>0</td>\n",
              "    </tr>\n",
              "    <tr>\n",
              "      <th>9999976</th>\n",
              "      <td>9999977</td>\n",
              "      <td>2</td>\n",
              "      <td>4</td>\n",
              "      <td>1</td>\n",
              "      <td>0</td>\n",
              "      <td>14</td>\n",
              "      <td>0</td>\n",
              "      <td>7</td>\n",
              "      <td>0</td>\n",
              "    </tr>\n",
              "    <tr>\n",
              "      <th>9999977</th>\n",
              "      <td>9999978</td>\n",
              "      <td>1</td>\n",
              "      <td>35</td>\n",
              "      <td>1</td>\n",
              "      <td>8000</td>\n",
              "      <td>24</td>\n",
              "      <td>0</td>\n",
              "      <td>7</td>\n",
              "      <td>0</td>\n",
              "    </tr>\n",
              "    <tr>\n",
              "      <th>9999978</th>\n",
              "      <td>9999979</td>\n",
              "      <td>1</td>\n",
              "      <td>44</td>\n",
              "      <td>1</td>\n",
              "      <td>5000</td>\n",
              "      <td>12</td>\n",
              "      <td>0</td>\n",
              "      <td>4</td>\n",
              "      <td>0</td>\n",
              "    </tr>\n",
              "    <tr>\n",
              "      <th>9999979</th>\n",
              "      <td>9999980</td>\n",
              "      <td>1</td>\n",
              "      <td>6</td>\n",
              "      <td>1</td>\n",
              "      <td>7669</td>\n",
              "      <td>5</td>\n",
              "      <td>3</td>\n",
              "      <td>7</td>\n",
              "      <td>0</td>\n",
              "    </tr>\n",
              "    <tr>\n",
              "      <th>9999980</th>\n",
              "      <td>9999981</td>\n",
              "      <td>1</td>\n",
              "      <td>10</td>\n",
              "      <td>1</td>\n",
              "      <td>13889</td>\n",
              "      <td>54</td>\n",
              "      <td>0</td>\n",
              "      <td>13</td>\n",
              "      <td>0</td>\n",
              "    </tr>\n",
              "    <tr>\n",
              "      <th>9999981</th>\n",
              "      <td>9999982</td>\n",
              "      <td>1</td>\n",
              "      <td>33</td>\n",
              "      <td>1</td>\n",
              "      <td>0</td>\n",
              "      <td>23</td>\n",
              "      <td>26</td>\n",
              "      <td>18</td>\n",
              "      <td>0</td>\n",
              "    </tr>\n",
              "    <tr>\n",
              "      <th>9999982</th>\n",
              "      <td>9999983</td>\n",
              "      <td>1</td>\n",
              "      <td>44</td>\n",
              "      <td>1</td>\n",
              "      <td>3000</td>\n",
              "      <td>14</td>\n",
              "      <td>0</td>\n",
              "      <td>2</td>\n",
              "      <td>0</td>\n",
              "    </tr>\n",
              "    <tr>\n",
              "      <th>9999983</th>\n",
              "      <td>9999984</td>\n",
              "      <td>2</td>\n",
              "      <td>13</td>\n",
              "      <td>1</td>\n",
              "      <td>0</td>\n",
              "      <td>2</td>\n",
              "      <td>0</td>\n",
              "      <td>5</td>\n",
              "      <td>0</td>\n",
              "    </tr>\n",
              "    <tr>\n",
              "      <th>9999984</th>\n",
              "      <td>9999985</td>\n",
              "      <td>1</td>\n",
              "      <td>39</td>\n",
              "      <td>1</td>\n",
              "      <td>7000</td>\n",
              "      <td>30</td>\n",
              "      <td>0</td>\n",
              "      <td>6</td>\n",
              "      <td>0</td>\n",
              "    </tr>\n",
              "    <tr>\n",
              "      <th>9999985</th>\n",
              "      <td>9999986</td>\n",
              "      <td>2</td>\n",
              "      <td>45</td>\n",
              "      <td>2</td>\n",
              "      <td>3000</td>\n",
              "      <td>4</td>\n",
              "      <td>0</td>\n",
              "      <td>2</td>\n",
              "      <td>0</td>\n",
              "    </tr>\n",
              "    <tr>\n",
              "      <th>9999986</th>\n",
              "      <td>9999987</td>\n",
              "      <td>1</td>\n",
              "      <td>23</td>\n",
              "      <td>1</td>\n",
              "      <td>7000</td>\n",
              "      <td>59</td>\n",
              "      <td>0</td>\n",
              "      <td>6</td>\n",
              "      <td>0</td>\n",
              "    </tr>\n",
              "    <tr>\n",
              "      <th>9999987</th>\n",
              "      <td>9999988</td>\n",
              "      <td>2</td>\n",
              "      <td>24</td>\n",
              "      <td>1</td>\n",
              "      <td>6000</td>\n",
              "      <td>46</td>\n",
              "      <td>0</td>\n",
              "      <td>5</td>\n",
              "      <td>0</td>\n",
              "    </tr>\n",
              "    <tr>\n",
              "      <th>9999988</th>\n",
              "      <td>9999989</td>\n",
              "      <td>1</td>\n",
              "      <td>18</td>\n",
              "      <td>1</td>\n",
              "      <td>15000</td>\n",
              "      <td>72</td>\n",
              "      <td>0</td>\n",
              "      <td>14</td>\n",
              "      <td>1</td>\n",
              "    </tr>\n",
              "    <tr>\n",
              "      <th>9999989</th>\n",
              "      <td>9999990</td>\n",
              "      <td>2</td>\n",
              "      <td>4</td>\n",
              "      <td>1</td>\n",
              "      <td>12000</td>\n",
              "      <td>17</td>\n",
              "      <td>7</td>\n",
              "      <td>11</td>\n",
              "      <td>0</td>\n",
              "    </tr>\n",
              "    <tr>\n",
              "      <th>9999990</th>\n",
              "      <td>9999991</td>\n",
              "      <td>1</td>\n",
              "      <td>16</td>\n",
              "      <td>2</td>\n",
              "      <td>1561</td>\n",
              "      <td>8</td>\n",
              "      <td>0</td>\n",
              "      <td>5</td>\n",
              "      <td>0</td>\n",
              "    </tr>\n",
              "    <tr>\n",
              "      <th>9999991</th>\n",
              "      <td>9999992</td>\n",
              "      <td>2</td>\n",
              "      <td>36</td>\n",
              "      <td>1</td>\n",
              "      <td>5217</td>\n",
              "      <td>6</td>\n",
              "      <td>0</td>\n",
              "      <td>5</td>\n",
              "      <td>0</td>\n",
              "    </tr>\n",
              "    <tr>\n",
              "      <th>9999992</th>\n",
              "      <td>9999993</td>\n",
              "      <td>1</td>\n",
              "      <td>38</td>\n",
              "      <td>1</td>\n",
              "      <td>0</td>\n",
              "      <td>7</td>\n",
              "      <td>0</td>\n",
              "      <td>2</td>\n",
              "      <td>0</td>\n",
              "    </tr>\n",
              "    <tr>\n",
              "      <th>9999993</th>\n",
              "      <td>9999994</td>\n",
              "      <td>2</td>\n",
              "      <td>43</td>\n",
              "      <td>1</td>\n",
              "      <td>2607</td>\n",
              "      <td>6</td>\n",
              "      <td>0</td>\n",
              "      <td>5</td>\n",
              "      <td>0</td>\n",
              "    </tr>\n",
              "    <tr>\n",
              "      <th>9999994</th>\n",
              "      <td>9999995</td>\n",
              "      <td>1</td>\n",
              "      <td>16</td>\n",
              "      <td>2</td>\n",
              "      <td>17376</td>\n",
              "      <td>3</td>\n",
              "      <td>0</td>\n",
              "      <td>20</td>\n",
              "      <td>0</td>\n",
              "    </tr>\n",
              "    <tr>\n",
              "      <th>9999995</th>\n",
              "      <td>9999996</td>\n",
              "      <td>1</td>\n",
              "      <td>37</td>\n",
              "      <td>1</td>\n",
              "      <td>0</td>\n",
              "      <td>10</td>\n",
              "      <td>0</td>\n",
              "      <td>9</td>\n",
              "      <td>0</td>\n",
              "    </tr>\n",
              "    <tr>\n",
              "      <th>9999996</th>\n",
              "      <td>9999997</td>\n",
              "      <td>1</td>\n",
              "      <td>16</td>\n",
              "      <td>1</td>\n",
              "      <td>0</td>\n",
              "      <td>33</td>\n",
              "      <td>2</td>\n",
              "      <td>4</td>\n",
              "      <td>0</td>\n",
              "    </tr>\n",
              "    <tr>\n",
              "      <th>9999997</th>\n",
              "      <td>9999998</td>\n",
              "      <td>1</td>\n",
              "      <td>24</td>\n",
              "      <td>1</td>\n",
              "      <td>9000</td>\n",
              "      <td>38</td>\n",
              "      <td>0</td>\n",
              "      <td>8</td>\n",
              "      <td>0</td>\n",
              "    </tr>\n",
              "    <tr>\n",
              "      <th>9999998</th>\n",
              "      <td>9999999</td>\n",
              "      <td>1</td>\n",
              "      <td>28</td>\n",
              "      <td>1</td>\n",
              "      <td>7000</td>\n",
              "      <td>20</td>\n",
              "      <td>19</td>\n",
              "      <td>6</td>\n",
              "      <td>0</td>\n",
              "    </tr>\n",
              "    <tr>\n",
              "      <th>9999999</th>\n",
              "      <td>10000000</td>\n",
              "      <td>1</td>\n",
              "      <td>23</td>\n",
              "      <td>1</td>\n",
              "      <td>0</td>\n",
              "      <td>13</td>\n",
              "      <td>0</td>\n",
              "      <td>7</td>\n",
              "      <td>0</td>\n",
              "    </tr>\n",
              "  </tbody>\n",
              "</table>\n",
              "<p>10000000 rows × 9 columns</p>\n",
              "</div>"
            ],
            "text/plain": [
              "           custID  gender  state  cardholder  balance  numTrans  numIntlTrans  \\\n",
              "0               1       1     35           1     3000         4            14   \n",
              "1               2       2      2           1        0         9             0   \n",
              "2               3       2      2           1        0        27             9   \n",
              "3               4       1     15           1        0        12             0   \n",
              "4               5       1     46           1        0        11            16   \n",
              "5               6       2     44           2     5546        21             0   \n",
              "6               7       1      3           1     2000        41             0   \n",
              "7               8       1     10           1     6016        20             3   \n",
              "8               9       2     32           1     2428         4            10   \n",
              "9              10       1     23           1        0        18            56   \n",
              "10             11       1     46           1     4601        54             0   \n",
              "11             12       1     10           1     3000        20             0   \n",
              "12             13       1      6           1        0        45             2   \n",
              "13             14       2     38           1     9000        41             3   \n",
              "14             15       1     27           1     5227        60             0   \n",
              "15             16       1     44           1        0        22             0   \n",
              "16             17       2     18           1    13970        20             0   \n",
              "17             18       1     35           1     3113        13             6   \n",
              "18             19       1      5           1     9000        20             2   \n",
              "19             20       2     31           1     1860        21            10   \n",
              "20             21       1     39           1     4000        24             0   \n",
              "21             22       1     34           1        0        22             0   \n",
              "22             23       1      5           1        0         7             0   \n",
              "23             24       2     21           1        0        15             0   \n",
              "24             25       1     25           1        0        12             0   \n",
              "25             26       2     29           1     5000         4             9   \n",
              "26             27       1     38           1     4000        21             5   \n",
              "27             28       1      9           1    12000        20             0   \n",
              "28             29       2     20           1        0        19             0   \n",
              "29             30       2     49           1     5192        84             0   \n",
              "...           ...     ...    ...         ...      ...       ...           ...   \n",
              "9999970   9999971       1     10           1        0        12             0   \n",
              "9999971   9999972       2     40           1     3683        31             3   \n",
              "9999972   9999973       1     46           1     5000        69             0   \n",
              "9999973   9999974       1     10           2        0        36            31   \n",
              "9999974   9999975       1     25           1        0        18             0   \n",
              "9999975   9999976       2     48           1     4210        23             0   \n",
              "9999976   9999977       2      4           1        0        14             0   \n",
              "9999977   9999978       1     35           1     8000        24             0   \n",
              "9999978   9999979       1     44           1     5000        12             0   \n",
              "9999979   9999980       1      6           1     7669         5             3   \n",
              "9999980   9999981       1     10           1    13889        54             0   \n",
              "9999981   9999982       1     33           1        0        23            26   \n",
              "9999982   9999983       1     44           1     3000        14             0   \n",
              "9999983   9999984       2     13           1        0         2             0   \n",
              "9999984   9999985       1     39           1     7000        30             0   \n",
              "9999985   9999986       2     45           2     3000         4             0   \n",
              "9999986   9999987       1     23           1     7000        59             0   \n",
              "9999987   9999988       2     24           1     6000        46             0   \n",
              "9999988   9999989       1     18           1    15000        72             0   \n",
              "9999989   9999990       2      4           1    12000        17             7   \n",
              "9999990   9999991       1     16           2     1561         8             0   \n",
              "9999991   9999992       2     36           1     5217         6             0   \n",
              "9999992   9999993       1     38           1        0         7             0   \n",
              "9999993   9999994       2     43           1     2607         6             0   \n",
              "9999994   9999995       1     16           2    17376         3             0   \n",
              "9999995   9999996       1     37           1        0        10             0   \n",
              "9999996   9999997       1     16           1        0        33             2   \n",
              "9999997   9999998       1     24           1     9000        38             0   \n",
              "9999998   9999999       1     28           1     7000        20            19   \n",
              "9999999  10000000       1     23           1        0        13             0   \n",
              "\n",
              "         creditLine  fraudRisk  \n",
              "0                 2          0  \n",
              "1                18          0  \n",
              "2                16          0  \n",
              "3                 5          0  \n",
              "4                 7          0  \n",
              "5                13          0  \n",
              "6                 1          0  \n",
              "7                 6          0  \n",
              "8                22          0  \n",
              "9                 5          0  \n",
              "10                4          0  \n",
              "11                2          0  \n",
              "12                4          0  \n",
              "13                8          0  \n",
              "14               17          0  \n",
              "15                5          0  \n",
              "16               13          0  \n",
              "17                8          0  \n",
              "18                8          0  \n",
              "19                8          0  \n",
              "20                3          0  \n",
              "21                3          0  \n",
              "22               11          0  \n",
              "23                3          0  \n",
              "24               65          0  \n",
              "25                4          0  \n",
              "26                3          0  \n",
              "27               11          0  \n",
              "28                2          0  \n",
              "29               13          1  \n",
              "...             ...        ...  \n",
              "9999970          11          0  \n",
              "9999971           7          0  \n",
              "9999972           4          0  \n",
              "9999973          14          0  \n",
              "9999974           3          0  \n",
              "9999975           8          0  \n",
              "9999976           7          0  \n",
              "9999977           7          0  \n",
              "9999978           4          0  \n",
              "9999979           7          0  \n",
              "9999980          13          0  \n",
              "9999981          18          0  \n",
              "9999982           2          0  \n",
              "9999983           5          0  \n",
              "9999984           6          0  \n",
              "9999985           2          0  \n",
              "9999986           6          0  \n",
              "9999987           5          0  \n",
              "9999988          14          1  \n",
              "9999989          11          0  \n",
              "9999990           5          0  \n",
              "9999991           5          0  \n",
              "9999992           2          0  \n",
              "9999993           5          0  \n",
              "9999994          20          0  \n",
              "9999995           9          0  \n",
              "9999996           4          0  \n",
              "9999997           8          0  \n",
              "9999998           6          0  \n",
              "9999999           7          0  \n",
              "\n",
              "[10000000 rows x 9 columns]"
            ]
          },
          "execution_count": 137,
          "metadata": {},
          "output_type": "execute_result"
        }
      ],
      "source": [
        "fraud.iloc[:,:]"
      ]
    },
    {
      "cell_type": "code",
      "execution_count": null,
      "metadata": {
        "id": "DDfShqTUAbvF",
        "outputId": "fec20254-8567-43f0-ad1c-28d17a8254e6"
      },
      "outputs": [
        {
          "data": {
            "text/html": [
              "<div>\n",
              "<table border=\"1\" class=\"dataframe\">\n",
              "  <thead>\n",
              "    <tr style=\"text-align: right;\">\n",
              "      <th></th>\n",
              "      <th>gender</th>\n",
              "      <th>state</th>\n",
              "      <th>cardholder</th>\n",
              "    </tr>\n",
              "  </thead>\n",
              "  <tbody>\n",
              "    <tr>\n",
              "      <th>10</th>\n",
              "      <td>1</td>\n",
              "      <td>46</td>\n",
              "      <td>1</td>\n",
              "    </tr>\n",
              "    <tr>\n",
              "      <th>11</th>\n",
              "      <td>1</td>\n",
              "      <td>10</td>\n",
              "      <td>1</td>\n",
              "    </tr>\n",
              "    <tr>\n",
              "      <th>12</th>\n",
              "      <td>1</td>\n",
              "      <td>6</td>\n",
              "      <td>1</td>\n",
              "    </tr>\n",
              "    <tr>\n",
              "      <th>13</th>\n",
              "      <td>2</td>\n",
              "      <td>38</td>\n",
              "      <td>1</td>\n",
              "    </tr>\n",
              "    <tr>\n",
              "      <th>14</th>\n",
              "      <td>1</td>\n",
              "      <td>27</td>\n",
              "      <td>1</td>\n",
              "    </tr>\n",
              "    <tr>\n",
              "      <th>15</th>\n",
              "      <td>1</td>\n",
              "      <td>44</td>\n",
              "      <td>1</td>\n",
              "    </tr>\n",
              "    <tr>\n",
              "      <th>16</th>\n",
              "      <td>2</td>\n",
              "      <td>18</td>\n",
              "      <td>1</td>\n",
              "    </tr>\n",
              "    <tr>\n",
              "      <th>17</th>\n",
              "      <td>1</td>\n",
              "      <td>35</td>\n",
              "      <td>1</td>\n",
              "    </tr>\n",
              "    <tr>\n",
              "      <th>18</th>\n",
              "      <td>1</td>\n",
              "      <td>5</td>\n",
              "      <td>1</td>\n",
              "    </tr>\n",
              "    <tr>\n",
              "      <th>19</th>\n",
              "      <td>2</td>\n",
              "      <td>31</td>\n",
              "      <td>1</td>\n",
              "    </tr>\n",
              "  </tbody>\n",
              "</table>\n",
              "</div>"
            ],
            "text/plain": [
              "    gender  state  cardholder\n",
              "10       1     46           1\n",
              "11       1     10           1\n",
              "12       1      6           1\n",
              "13       2     38           1\n",
              "14       1     27           1\n",
              "15       1     44           1\n",
              "16       2     18           1\n",
              "17       1     35           1\n",
              "18       1      5           1\n",
              "19       2     31           1"
            ]
          },
          "execution_count": 139,
          "metadata": {},
          "output_type": "execute_result"
        }
      ],
      "source": [
        "fraud.iloc[10:20,1:4]"
      ]
    },
    {
      "cell_type": "code",
      "execution_count": null,
      "metadata": {
        "id": "5sIxqJYIAbvF",
        "outputId": "0322dbc2-1392-4092-cd85-fb779163d980"
      },
      "outputs": [
        {
          "data": {
            "text/html": [
              "<div>\n",
              "<table border=\"1\" class=\"dataframe\">\n",
              "  <thead>\n",
              "    <tr style=\"text-align: right;\">\n",
              "      <th></th>\n",
              "      <th>custID</th>\n",
              "      <th>gender</th>\n",
              "      <th>state</th>\n",
              "      <th>cardholder</th>\n",
              "      <th>balance</th>\n",
              "      <th>numTrans</th>\n",
              "      <th>numIntlTrans</th>\n",
              "      <th>creditLine</th>\n",
              "      <th>fraudRisk</th>\n",
              "    </tr>\n",
              "  </thead>\n",
              "  <tbody>\n",
              "    <tr>\n",
              "      <th>count</th>\n",
              "      <td>1.000000e+07</td>\n",
              "      <td>1.000000e+07</td>\n",
              "      <td>1.000000e+07</td>\n",
              "      <td>1.000000e+07</td>\n",
              "      <td>1.000000e+07</td>\n",
              "      <td>1.000000e+07</td>\n",
              "      <td>1.000000e+07</td>\n",
              "      <td>1.000000e+07</td>\n",
              "      <td>1.000000e+07</td>\n",
              "    </tr>\n",
              "    <tr>\n",
              "      <th>mean</th>\n",
              "      <td>5.000000e+06</td>\n",
              "      <td>1.382177e+00</td>\n",
              "      <td>2.466127e+01</td>\n",
              "      <td>1.030004e+00</td>\n",
              "      <td>4.109920e+03</td>\n",
              "      <td>2.893519e+01</td>\n",
              "      <td>4.047190e+00</td>\n",
              "      <td>9.134469e+00</td>\n",
              "      <td>5.960140e-02</td>\n",
              "    </tr>\n",
              "    <tr>\n",
              "      <th>std</th>\n",
              "      <td>2.886751e+06</td>\n",
              "      <td>4.859195e-01</td>\n",
              "      <td>1.497012e+01</td>\n",
              "      <td>1.705991e-01</td>\n",
              "      <td>3.996847e+03</td>\n",
              "      <td>2.655378e+01</td>\n",
              "      <td>8.602970e+00</td>\n",
              "      <td>9.641974e+00</td>\n",
              "      <td>2.367469e-01</td>\n",
              "    </tr>\n",
              "    <tr>\n",
              "      <th>min</th>\n",
              "      <td>1.000000e+00</td>\n",
              "      <td>1.000000e+00</td>\n",
              "      <td>1.000000e+00</td>\n",
              "      <td>1.000000e+00</td>\n",
              "      <td>0.000000e+00</td>\n",
              "      <td>0.000000e+00</td>\n",
              "      <td>0.000000e+00</td>\n",
              "      <td>1.000000e+00</td>\n",
              "      <td>0.000000e+00</td>\n",
              "    </tr>\n",
              "    <tr>\n",
              "      <th>25%</th>\n",
              "      <td>2.500001e+06</td>\n",
              "      <td>1.000000e+00</td>\n",
              "      <td>1.000000e+01</td>\n",
              "      <td>1.000000e+00</td>\n",
              "      <td>0.000000e+00</td>\n",
              "      <td>1.000000e+01</td>\n",
              "      <td>0.000000e+00</td>\n",
              "      <td>4.000000e+00</td>\n",
              "      <td>0.000000e+00</td>\n",
              "    </tr>\n",
              "    <tr>\n",
              "      <th>50%</th>\n",
              "      <td>5.000000e+06</td>\n",
              "      <td>1.000000e+00</td>\n",
              "      <td>2.400000e+01</td>\n",
              "      <td>1.000000e+00</td>\n",
              "      <td>3.706000e+03</td>\n",
              "      <td>1.900000e+01</td>\n",
              "      <td>0.000000e+00</td>\n",
              "      <td>6.000000e+00</td>\n",
              "      <td>0.000000e+00</td>\n",
              "    </tr>\n",
              "    <tr>\n",
              "      <th>75%</th>\n",
              "      <td>7.500000e+06</td>\n",
              "      <td>2.000000e+00</td>\n",
              "      <td>3.800000e+01</td>\n",
              "      <td>1.000000e+00</td>\n",
              "      <td>6.000000e+03</td>\n",
              "      <td>3.900000e+01</td>\n",
              "      <td>4.000000e+00</td>\n",
              "      <td>1.100000e+01</td>\n",
              "      <td>0.000000e+00</td>\n",
              "    </tr>\n",
              "    <tr>\n",
              "      <th>max</th>\n",
              "      <td>1.000000e+07</td>\n",
              "      <td>2.000000e+00</td>\n",
              "      <td>5.100000e+01</td>\n",
              "      <td>2.000000e+00</td>\n",
              "      <td>4.148500e+04</td>\n",
              "      <td>1.000000e+02</td>\n",
              "      <td>6.000000e+01</td>\n",
              "      <td>7.500000e+01</td>\n",
              "      <td>1.000000e+00</td>\n",
              "    </tr>\n",
              "  </tbody>\n",
              "</table>\n",
              "</div>"
            ],
            "text/plain": [
              "             custID        gender         state    cardholder       balance  \\\n",
              "count  1.000000e+07  1.000000e+07  1.000000e+07  1.000000e+07  1.000000e+07   \n",
              "mean   5.000000e+06  1.382177e+00  2.466127e+01  1.030004e+00  4.109920e+03   \n",
              "std    2.886751e+06  4.859195e-01  1.497012e+01  1.705991e-01  3.996847e+03   \n",
              "min    1.000000e+00  1.000000e+00  1.000000e+00  1.000000e+00  0.000000e+00   \n",
              "25%    2.500001e+06  1.000000e+00  1.000000e+01  1.000000e+00  0.000000e+00   \n",
              "50%    5.000000e+06  1.000000e+00  2.400000e+01  1.000000e+00  3.706000e+03   \n",
              "75%    7.500000e+06  2.000000e+00  3.800000e+01  1.000000e+00  6.000000e+03   \n",
              "max    1.000000e+07  2.000000e+00  5.100000e+01  2.000000e+00  4.148500e+04   \n",
              "\n",
              "           numTrans  numIntlTrans    creditLine     fraudRisk  \n",
              "count  1.000000e+07  1.000000e+07  1.000000e+07  1.000000e+07  \n",
              "mean   2.893519e+01  4.047190e+00  9.134469e+00  5.960140e-02  \n",
              "std    2.655378e+01  8.602970e+00  9.641974e+00  2.367469e-01  \n",
              "min    0.000000e+00  0.000000e+00  1.000000e+00  0.000000e+00  \n",
              "25%    1.000000e+01  0.000000e+00  4.000000e+00  0.000000e+00  \n",
              "50%    1.900000e+01  0.000000e+00  6.000000e+00  0.000000e+00  \n",
              "75%    3.900000e+01  4.000000e+00  1.100000e+01  0.000000e+00  \n",
              "max    1.000000e+02  6.000000e+01  7.500000e+01  1.000000e+00  "
            ]
          },
          "execution_count": 140,
          "metadata": {},
          "output_type": "execute_result"
        }
      ],
      "source": [
        "fraud.describe()"
      ]
    },
    {
      "cell_type": "code",
      "execution_count": null,
      "metadata": {
        "id": "kMPwcTpYAbvF",
        "outputId": "d1fbc971-df85-4923-adec-9f3f75723cb0"
      },
      "outputs": [
        {
          "data": {
            "text/plain": [
              "1    6178231\n",
              "2    3821769\n",
              "Name: gender, dtype: int64"
            ]
          },
          "execution_count": 141,
          "metadata": {},
          "output_type": "execute_result"
        }
      ],
      "source": [
        "fraud.gender.value_counts()"
      ]
    },
    {
      "cell_type": "code",
      "execution_count": null,
      "metadata": {
        "id": "zkZf57BwAbvG",
        "outputId": "13bfa127-4478-4d31-8bf9-fe3d2be7cf48"
      },
      "outputs": [
        {
          "data": {
            "text/plain": [
              "5     1216069\n",
              "44     812638\n",
              "10     608630\n",
              "35     608575\n",
              "39     405892\n",
              "15     404720\n",
              "36     364531\n",
              "23     304553\n",
              "11     303984\n",
              "29     303833\n",
              "32     284428\n",
              "46     252812\n",
              "43     203827\n",
              "16     203143\n",
              "25     203045\n",
              "48     202972\n",
              "4      202776\n",
              "21     202444\n",
              "20     201918\n",
              "49     182557\n",
              "24     182201\n",
              "6      171774\n",
              "2      162574\n",
              "41     152253\n",
              "19     151715\n",
              "18     142170\n",
              "37     122191\n",
              "38     121846\n",
              "7      121802\n",
              "13     111775\n",
              "26     101829\n",
              "3      101740\n",
              "45      91375\n",
              "34      91326\n",
              "17      91127\n",
              "33      81332\n",
              "50      61385\n",
              "14      60992\n",
              "28      60617\n",
              "12      50438\n",
              "22      40819\n",
              "31      40563\n",
              "9       30333\n",
              "40      30233\n",
              "27      30131\n",
              "51      20691\n",
              "8       20603\n",
              "42      20449\n",
              "30      20215\n",
              "1       20137\n",
              "47      20017\n",
              "Name: state, dtype: int64"
            ]
          },
          "execution_count": 142,
          "metadata": {},
          "output_type": "execute_result"
        }
      ],
      "source": [
        "fraud.state.value_counts()"
      ]
    },
    {
      "cell_type": "code",
      "execution_count": null,
      "metadata": {
        "id": "_m6A9GWVAbvG",
        "outputId": "4d2f1256-e68b-43b3-998c-59de1a64d366"
      },
      "outputs": [
        {
          "data": {
            "text/plain": [
              "0    9403986\n",
              "1     596014\n",
              "Name: fraudRisk, dtype: int64"
            ]
          },
          "execution_count": 143,
          "metadata": {},
          "output_type": "execute_result"
        }
      ],
      "source": [
        "fraud.fraudRisk.value_counts()"
      ]
    },
    {
      "cell_type": "code",
      "execution_count": null,
      "metadata": {
        "id": "D5hwukbQAbvG",
        "outputId": "bf129f54-3ba2-48d8-acab-597e4e56feba"
      },
      "outputs": [
        {
          "data": {
            "text/html": [
              "<div>\n",
              "<table border=\"1\" class=\"dataframe\">\n",
              "  <thead>\n",
              "    <tr style=\"text-align: right;\">\n",
              "      <th>gender</th>\n",
              "      <th>1</th>\n",
              "      <th>2</th>\n",
              "    </tr>\n",
              "    <tr>\n",
              "      <th>fraudRisk</th>\n",
              "      <th></th>\n",
              "      <th></th>\n",
              "    </tr>\n",
              "  </thead>\n",
              "  <tbody>\n",
              "    <tr>\n",
              "      <th>0</th>\n",
              "      <td>5853053</td>\n",
              "      <td>3550933</td>\n",
              "    </tr>\n",
              "    <tr>\n",
              "      <th>1</th>\n",
              "      <td>325178</td>\n",
              "      <td>270836</td>\n",
              "    </tr>\n",
              "  </tbody>\n",
              "</table>\n",
              "</div>"
            ],
            "text/plain": [
              "gender           1        2\n",
              "fraudRisk                  \n",
              "0          5853053  3550933\n",
              "1           325178   270836"
            ]
          },
          "execution_count": 144,
          "metadata": {},
          "output_type": "execute_result"
        }
      ],
      "source": [
        "pd.crosstab(fraud.fraudRisk,fraud.gender)"
      ]
    },
    {
      "cell_type": "code",
      "execution_count": null,
      "metadata": {
        "id": "utjff9zdAbvG",
        "outputId": "72d7bfdb-42e4-42d4-ad41-8166bad898f7"
      },
      "outputs": [
        {
          "data": {
            "text/html": [
              "<div>\n",
              "<table border=\"1\" class=\"dataframe\">\n",
              "  <thead>\n",
              "    <tr style=\"text-align: right;\">\n",
              "      <th>gender</th>\n",
              "      <th>1</th>\n",
              "      <th>2</th>\n",
              "      <th>All</th>\n",
              "    </tr>\n",
              "    <tr>\n",
              "      <th>fraudRisk</th>\n",
              "      <th></th>\n",
              "      <th></th>\n",
              "      <th></th>\n",
              "    </tr>\n",
              "  </thead>\n",
              "  <tbody>\n",
              "    <tr>\n",
              "      <th>0</th>\n",
              "      <td>5853053</td>\n",
              "      <td>3550933</td>\n",
              "      <td>9403986</td>\n",
              "    </tr>\n",
              "    <tr>\n",
              "      <th>1</th>\n",
              "      <td>325178</td>\n",
              "      <td>270836</td>\n",
              "      <td>596014</td>\n",
              "    </tr>\n",
              "    <tr>\n",
              "      <th>All</th>\n",
              "      <td>6178231</td>\n",
              "      <td>3821769</td>\n",
              "      <td>10000000</td>\n",
              "    </tr>\n",
              "  </tbody>\n",
              "</table>\n",
              "</div>"
            ],
            "text/plain": [
              "gender           1        2       All\n",
              "fraudRisk                            \n",
              "0          5853053  3550933   9403986\n",
              "1           325178   270836    596014\n",
              "All        6178231  3821769  10000000"
            ]
          },
          "execution_count": 145,
          "metadata": {},
          "output_type": "execute_result"
        }
      ],
      "source": [
        "pd.crosstab(fraud.fraudRisk,fraud.gender,margins=True)"
      ]
    },
    {
      "cell_type": "code",
      "execution_count": null,
      "metadata": {
        "id": "M1_lmPGCAbvH",
        "outputId": "c18a6548-51a6-491a-91b3-26fcd4d14bf0"
      },
      "outputs": [
        {
          "data": {
            "text/plain": [
              "array([36, 51, 88, 10, 86,  2, 92, 45, 22, 33])"
            ]
          },
          "execution_count": 148,
          "metadata": {},
          "output_type": "execute_result"
        }
      ],
      "source": [
        "np.random.choice(100,10)"
      ]
    },
    {
      "cell_type": "code",
      "execution_count": null,
      "metadata": {
        "id": "pNegneQ_AbvH"
      },
      "outputs": [],
      "source": [
        "a=len(fraud)"
      ]
    },
    {
      "cell_type": "code",
      "execution_count": null,
      "metadata": {
        "collapsed": true,
        "id": "VBvlIVAKAbvH"
      },
      "outputs": [],
      "source": [
        "b=0.0001"
      ]
    },
    {
      "cell_type": "code",
      "execution_count": null,
      "metadata": {
        "id": "I01HX38VAbvH",
        "outputId": "e0a6b0f3-83f2-4df6-deb8-c2e7aaa5d3e8"
      },
      "outputs": [
        {
          "data": {
            "text/plain": [
              "10.0"
            ]
          },
          "execution_count": 152,
          "metadata": {},
          "output_type": "execute_result"
        }
      ],
      "source": [
        "a*b"
      ]
    },
    {
      "cell_type": "code",
      "execution_count": null,
      "metadata": {
        "id": "BX3oTWEWAbvI",
        "outputId": "8b3ccf15-6390-48fb-8772-43525fcf9f73"
      },
      "outputs": [
        {
          "name": "stderr",
          "output_type": "stream",
          "text": [
            "C:\\Users\\Dell\\Anaconda3\\lib\\site-packages\\ipykernel\\__main__.py:1: VisibleDeprecationWarning: using a non-integer number instead of an integer will result in an error in the future\n",
            "  if __name__ == '__main__':\n"
          ]
        },
        {
          "data": {
            "text/html": [
              "<div>\n",
              "<table border=\"1\" class=\"dataframe\">\n",
              "  <thead>\n",
              "    <tr style=\"text-align: right;\">\n",
              "      <th></th>\n",
              "      <th>custID</th>\n",
              "      <th>gender</th>\n",
              "      <th>state</th>\n",
              "      <th>cardholder</th>\n",
              "      <th>balance</th>\n",
              "      <th>numTrans</th>\n",
              "      <th>numIntlTrans</th>\n",
              "      <th>creditLine</th>\n",
              "      <th>fraudRisk</th>\n",
              "    </tr>\n",
              "  </thead>\n",
              "  <tbody>\n",
              "    <tr>\n",
              "      <th>1213704</th>\n",
              "      <td>1213705</td>\n",
              "      <td>1</td>\n",
              "      <td>41</td>\n",
              "      <td>1</td>\n",
              "      <td>6000</td>\n",
              "      <td>34</td>\n",
              "      <td>0</td>\n",
              "      <td>5</td>\n",
              "      <td>0</td>\n",
              "    </tr>\n",
              "    <tr>\n",
              "      <th>9188257</th>\n",
              "      <td>9188258</td>\n",
              "      <td>1</td>\n",
              "      <td>4</td>\n",
              "      <td>1</td>\n",
              "      <td>0</td>\n",
              "      <td>6</td>\n",
              "      <td>0</td>\n",
              "      <td>6</td>\n",
              "      <td>0</td>\n",
              "    </tr>\n",
              "    <tr>\n",
              "      <th>7040966</th>\n",
              "      <td>7040967</td>\n",
              "      <td>1</td>\n",
              "      <td>32</td>\n",
              "      <td>1</td>\n",
              "      <td>0</td>\n",
              "      <td>15</td>\n",
              "      <td>0</td>\n",
              "      <td>15</td>\n",
              "      <td>0</td>\n",
              "    </tr>\n",
              "    <tr>\n",
              "      <th>9106986</th>\n",
              "      <td>9106987</td>\n",
              "      <td>1</td>\n",
              "      <td>36</td>\n",
              "      <td>1</td>\n",
              "      <td>2000</td>\n",
              "      <td>28</td>\n",
              "      <td>0</td>\n",
              "      <td>1</td>\n",
              "      <td>0</td>\n",
              "    </tr>\n",
              "    <tr>\n",
              "      <th>2441776</th>\n",
              "      <td>2441777</td>\n",
              "      <td>1</td>\n",
              "      <td>5</td>\n",
              "      <td>1</td>\n",
              "      <td>10000</td>\n",
              "      <td>39</td>\n",
              "      <td>5</td>\n",
              "      <td>9</td>\n",
              "      <td>0</td>\n",
              "    </tr>\n",
              "    <tr>\n",
              "      <th>6415126</th>\n",
              "      <td>6415127</td>\n",
              "      <td>2</td>\n",
              "      <td>39</td>\n",
              "      <td>1</td>\n",
              "      <td>0</td>\n",
              "      <td>10</td>\n",
              "      <td>2</td>\n",
              "      <td>6</td>\n",
              "      <td>0</td>\n",
              "    </tr>\n",
              "    <tr>\n",
              "      <th>6300659</th>\n",
              "      <td>6300660</td>\n",
              "      <td>1</td>\n",
              "      <td>11</td>\n",
              "      <td>1</td>\n",
              "      <td>8000</td>\n",
              "      <td>4</td>\n",
              "      <td>17</td>\n",
              "      <td>7</td>\n",
              "      <td>0</td>\n",
              "    </tr>\n",
              "    <tr>\n",
              "      <th>952480</th>\n",
              "      <td>952481</td>\n",
              "      <td>1</td>\n",
              "      <td>6</td>\n",
              "      <td>1</td>\n",
              "      <td>6000</td>\n",
              "      <td>10</td>\n",
              "      <td>0</td>\n",
              "      <td>5</td>\n",
              "      <td>0</td>\n",
              "    </tr>\n",
              "    <tr>\n",
              "      <th>4407853</th>\n",
              "      <td>4407854</td>\n",
              "      <td>1</td>\n",
              "      <td>41</td>\n",
              "      <td>1</td>\n",
              "      <td>0</td>\n",
              "      <td>3</td>\n",
              "      <td>0</td>\n",
              "      <td>3</td>\n",
              "      <td>0</td>\n",
              "    </tr>\n",
              "    <tr>\n",
              "      <th>3029728</th>\n",
              "      <td>3029729</td>\n",
              "      <td>1</td>\n",
              "      <td>9</td>\n",
              "      <td>1</td>\n",
              "      <td>4000</td>\n",
              "      <td>32</td>\n",
              "      <td>0</td>\n",
              "      <td>3</td>\n",
              "      <td>0</td>\n",
              "    </tr>\n",
              "  </tbody>\n",
              "</table>\n",
              "</div>"
            ],
            "text/plain": [
              "          custID  gender  state  cardholder  balance  numTrans  numIntlTrans  \\\n",
              "1213704  1213705       1     41           1     6000        34             0   \n",
              "9188257  9188258       1      4           1        0         6             0   \n",
              "7040966  7040967       1     32           1        0        15             0   \n",
              "9106986  9106987       1     36           1     2000        28             0   \n",
              "2441776  2441777       1      5           1    10000        39             5   \n",
              "6415126  6415127       2     39           1        0        10             2   \n",
              "6300659  6300660       1     11           1     8000         4            17   \n",
              "952480    952481       1      6           1     6000        10             0   \n",
              "4407853  4407854       1     41           1        0         3             0   \n",
              "3029728  3029729       1      9           1     4000        32             0   \n",
              "\n",
              "         creditLine  fraudRisk  \n",
              "1213704           5          0  \n",
              "9188257           6          0  \n",
              "7040966          15          0  \n",
              "9106986           1          0  \n",
              "2441776           9          0  \n",
              "6415126           6          0  \n",
              "6300659           7          0  \n",
              "952480            5          0  \n",
              "4407853           3          0  \n",
              "3029728           3          0  "
            ]
          },
          "execution_count": 154,
          "metadata": {},
          "output_type": "execute_result"
        }
      ],
      "source": [
        "fraud.ix[np.random.choice(len(fraud),a*b)]"
      ]
    },
    {
      "cell_type": "code",
      "execution_count": null,
      "metadata": {
        "id": "vEvlS_1VAbvI",
        "outputId": "723a06b7-41c3-4df1-83a0-01147bbf7dd3"
      },
      "outputs": [
        {
          "name": "stdout",
          "output_type": "stream",
          "text": [
            "Requirement already satisfied: pandasql in c:\\users\\dell\\anaconda3\\lib\\site-packages\n",
            "Requirement already satisfied: pandas in c:\\users\\dell\\anaconda3\\lib\\site-packages (from pandasql)\n",
            "Requirement already satisfied: numpy in c:\\users\\dell\\anaconda3\\lib\\site-packages (from pandasql)\n",
            "Requirement already satisfied: sqlalchemy in c:\\users\\dell\\anaconda3\\lib\\site-packages (from pandasql)\n",
            "Requirement already satisfied: python-dateutil>=2 in c:\\users\\dell\\anaconda3\\lib\\site-packages (from pandas->pandasql)\n",
            "Requirement already satisfied: pytz>=2011k in c:\\users\\dell\\anaconda3\\lib\\site-packages (from pandas->pandasql)\n",
            "Requirement already satisfied: six>=1.5 in c:\\users\\dell\\anaconda3\\lib\\site-packages (from python-dateutil>=2->pandas->pandasql)\n"
          ]
        }
      ],
      "source": [
        "! pip install pandasql"
      ]
    },
    {
      "cell_type": "code",
      "execution_count": null,
      "metadata": {
        "collapsed": true,
        "id": "vzJrpdnmAbvI"
      },
      "outputs": [],
      "source": [
        "from pandasql import sqldf\n",
        "pysqldf = lambda q: sqldf(q, globals())"
      ]
    },
    {
      "cell_type": "code",
      "execution_count": null,
      "metadata": {
        "id": "ul5cnmPfAbvJ",
        "outputId": "084a40b6-2669-4a71-8221-6ad906d677b2"
      },
      "outputs": [
        {
          "data": {
            "text/html": [
              "<div>\n",
              "<table border=\"1\" class=\"dataframe\">\n",
              "  <thead>\n",
              "    <tr style=\"text-align: right;\">\n",
              "      <th></th>\n",
              "      <th>mpg</th>\n",
              "      <th>cyl</th>\n",
              "      <th>disp</th>\n",
              "      <th>hp</th>\n",
              "      <th>drat</th>\n",
              "      <th>wt</th>\n",
              "      <th>qsec</th>\n",
              "      <th>vs</th>\n",
              "      <th>am</th>\n",
              "      <th>gear</th>\n",
              "      <th>carb</th>\n",
              "    </tr>\n",
              "  </thead>\n",
              "  <tbody>\n",
              "    <tr>\n",
              "      <th>0</th>\n",
              "      <td>21.0</td>\n",
              "      <td>6</td>\n",
              "      <td>160.0</td>\n",
              "      <td>110</td>\n",
              "      <td>3.90</td>\n",
              "      <td>2.620</td>\n",
              "      <td>16.46</td>\n",
              "      <td>0</td>\n",
              "      <td>1</td>\n",
              "      <td>4</td>\n",
              "      <td>4</td>\n",
              "    </tr>\n",
              "    <tr>\n",
              "      <th>1</th>\n",
              "      <td>21.0</td>\n",
              "      <td>6</td>\n",
              "      <td>160.0</td>\n",
              "      <td>110</td>\n",
              "      <td>3.90</td>\n",
              "      <td>2.875</td>\n",
              "      <td>17.02</td>\n",
              "      <td>0</td>\n",
              "      <td>1</td>\n",
              "      <td>4</td>\n",
              "      <td>4</td>\n",
              "    </tr>\n",
              "    <tr>\n",
              "      <th>2</th>\n",
              "      <td>22.8</td>\n",
              "      <td>4</td>\n",
              "      <td>108.0</td>\n",
              "      <td>93</td>\n",
              "      <td>3.85</td>\n",
              "      <td>2.320</td>\n",
              "      <td>18.61</td>\n",
              "      <td>1</td>\n",
              "      <td>1</td>\n",
              "      <td>4</td>\n",
              "      <td>1</td>\n",
              "    </tr>\n",
              "    <tr>\n",
              "      <th>3</th>\n",
              "      <td>21.4</td>\n",
              "      <td>6</td>\n",
              "      <td>258.0</td>\n",
              "      <td>110</td>\n",
              "      <td>3.08</td>\n",
              "      <td>3.215</td>\n",
              "      <td>19.44</td>\n",
              "      <td>1</td>\n",
              "      <td>0</td>\n",
              "      <td>3</td>\n",
              "      <td>1</td>\n",
              "    </tr>\n",
              "    <tr>\n",
              "      <th>4</th>\n",
              "      <td>18.7</td>\n",
              "      <td>8</td>\n",
              "      <td>360.0</td>\n",
              "      <td>175</td>\n",
              "      <td>3.15</td>\n",
              "      <td>3.440</td>\n",
              "      <td>17.02</td>\n",
              "      <td>0</td>\n",
              "      <td>0</td>\n",
              "      <td>3</td>\n",
              "      <td>2</td>\n",
              "    </tr>\n",
              "  </tbody>\n",
              "</table>\n",
              "</div>"
            ],
            "text/plain": [
              "    mpg  cyl   disp   hp  drat     wt   qsec  vs  am  gear  carb\n",
              "0  21.0    6  160.0  110  3.90  2.620  16.46   0   1     4     4\n",
              "1  21.0    6  160.0  110  3.90  2.875  17.02   0   1     4     4\n",
              "2  22.8    4  108.0   93  3.85  2.320  18.61   1   1     4     1\n",
              "3  21.4    6  258.0  110  3.08  3.215  19.44   1   0     3     1\n",
              "4  18.7    8  360.0  175  3.15  3.440  17.02   0   0     3     2"
            ]
          },
          "execution_count": 157,
          "metadata": {},
          "output_type": "execute_result"
        }
      ],
      "source": [
        "mtcars.head()"
      ]
    },
    {
      "cell_type": "code",
      "execution_count": null,
      "metadata": {
        "id": "CezZQNHEAbvJ",
        "outputId": "d26164f7-4a35-47c6-f222-28757c627232"
      },
      "outputs": [
        {
          "data": {
            "text/html": [
              "<div>\n",
              "<table border=\"1\" class=\"dataframe\">\n",
              "  <thead>\n",
              "    <tr style=\"text-align: right;\">\n",
              "      <th></th>\n",
              "      <th>mpg</th>\n",
              "      <th>cyl</th>\n",
              "      <th>disp</th>\n",
              "      <th>hp</th>\n",
              "      <th>drat</th>\n",
              "      <th>wt</th>\n",
              "      <th>qsec</th>\n",
              "      <th>vs</th>\n",
              "      <th>am</th>\n",
              "      <th>gear</th>\n",
              "      <th>carb</th>\n",
              "    </tr>\n",
              "  </thead>\n",
              "  <tbody>\n",
              "    <tr>\n",
              "      <th>0</th>\n",
              "      <td>21.0</td>\n",
              "      <td>6</td>\n",
              "      <td>160.0</td>\n",
              "      <td>110</td>\n",
              "      <td>3.90</td>\n",
              "      <td>2.620</td>\n",
              "      <td>16.46</td>\n",
              "      <td>0</td>\n",
              "      <td>1</td>\n",
              "      <td>4</td>\n",
              "      <td>4</td>\n",
              "    </tr>\n",
              "    <tr>\n",
              "      <th>1</th>\n",
              "      <td>21.0</td>\n",
              "      <td>6</td>\n",
              "      <td>160.0</td>\n",
              "      <td>110</td>\n",
              "      <td>3.90</td>\n",
              "      <td>2.875</td>\n",
              "      <td>17.02</td>\n",
              "      <td>0</td>\n",
              "      <td>1</td>\n",
              "      <td>4</td>\n",
              "      <td>4</td>\n",
              "    </tr>\n",
              "    <tr>\n",
              "      <th>2</th>\n",
              "      <td>22.8</td>\n",
              "      <td>4</td>\n",
              "      <td>108.0</td>\n",
              "      <td>93</td>\n",
              "      <td>3.85</td>\n",
              "      <td>2.320</td>\n",
              "      <td>18.61</td>\n",
              "      <td>1</td>\n",
              "      <td>1</td>\n",
              "      <td>4</td>\n",
              "      <td>1</td>\n",
              "    </tr>\n",
              "    <tr>\n",
              "      <th>3</th>\n",
              "      <td>21.4</td>\n",
              "      <td>6</td>\n",
              "      <td>258.0</td>\n",
              "      <td>110</td>\n",
              "      <td>3.08</td>\n",
              "      <td>3.215</td>\n",
              "      <td>19.44</td>\n",
              "      <td>1</td>\n",
              "      <td>0</td>\n",
              "      <td>3</td>\n",
              "      <td>1</td>\n",
              "    </tr>\n",
              "    <tr>\n",
              "      <th>4</th>\n",
              "      <td>18.7</td>\n",
              "      <td>8</td>\n",
              "      <td>360.0</td>\n",
              "      <td>175</td>\n",
              "      <td>3.15</td>\n",
              "      <td>3.440</td>\n",
              "      <td>17.02</td>\n",
              "      <td>0</td>\n",
              "      <td>0</td>\n",
              "      <td>3</td>\n",
              "      <td>2</td>\n",
              "    </tr>\n",
              "    <tr>\n",
              "      <th>5</th>\n",
              "      <td>18.1</td>\n",
              "      <td>6</td>\n",
              "      <td>225.0</td>\n",
              "      <td>105</td>\n",
              "      <td>2.76</td>\n",
              "      <td>3.460</td>\n",
              "      <td>20.22</td>\n",
              "      <td>1</td>\n",
              "      <td>0</td>\n",
              "      <td>3</td>\n",
              "      <td>1</td>\n",
              "    </tr>\n",
              "    <tr>\n",
              "      <th>6</th>\n",
              "      <td>14.3</td>\n",
              "      <td>8</td>\n",
              "      <td>360.0</td>\n",
              "      <td>245</td>\n",
              "      <td>3.21</td>\n",
              "      <td>3.570</td>\n",
              "      <td>15.84</td>\n",
              "      <td>0</td>\n",
              "      <td>0</td>\n",
              "      <td>3</td>\n",
              "      <td>4</td>\n",
              "    </tr>\n",
              "    <tr>\n",
              "      <th>7</th>\n",
              "      <td>24.4</td>\n",
              "      <td>4</td>\n",
              "      <td>146.7</td>\n",
              "      <td>62</td>\n",
              "      <td>3.69</td>\n",
              "      <td>3.190</td>\n",
              "      <td>20.00</td>\n",
              "      <td>1</td>\n",
              "      <td>0</td>\n",
              "      <td>4</td>\n",
              "      <td>2</td>\n",
              "    </tr>\n",
              "    <tr>\n",
              "      <th>8</th>\n",
              "      <td>22.8</td>\n",
              "      <td>4</td>\n",
              "      <td>140.8</td>\n",
              "      <td>95</td>\n",
              "      <td>3.92</td>\n",
              "      <td>3.150</td>\n",
              "      <td>22.90</td>\n",
              "      <td>1</td>\n",
              "      <td>0</td>\n",
              "      <td>4</td>\n",
              "      <td>2</td>\n",
              "    </tr>\n",
              "    <tr>\n",
              "      <th>9</th>\n",
              "      <td>19.2</td>\n",
              "      <td>6</td>\n",
              "      <td>167.6</td>\n",
              "      <td>123</td>\n",
              "      <td>3.92</td>\n",
              "      <td>3.440</td>\n",
              "      <td>18.30</td>\n",
              "      <td>1</td>\n",
              "      <td>0</td>\n",
              "      <td>4</td>\n",
              "      <td>4</td>\n",
              "    </tr>\n",
              "  </tbody>\n",
              "</table>\n",
              "</div>"
            ],
            "text/plain": [
              "    mpg  cyl   disp   hp  drat     wt   qsec  vs  am  gear  carb\n",
              "0  21.0    6  160.0  110  3.90  2.620  16.46   0   1     4     4\n",
              "1  21.0    6  160.0  110  3.90  2.875  17.02   0   1     4     4\n",
              "2  22.8    4  108.0   93  3.85  2.320  18.61   1   1     4     1\n",
              "3  21.4    6  258.0  110  3.08  3.215  19.44   1   0     3     1\n",
              "4  18.7    8  360.0  175  3.15  3.440  17.02   0   0     3     2\n",
              "5  18.1    6  225.0  105  2.76  3.460  20.22   1   0     3     1\n",
              "6  14.3    8  360.0  245  3.21  3.570  15.84   0   0     3     4\n",
              "7  24.4    4  146.7   62  3.69  3.190  20.00   1   0     4     2\n",
              "8  22.8    4  140.8   95  3.92  3.150  22.90   1   0     4     2\n",
              "9  19.2    6  167.6  123  3.92  3.440  18.30   1   0     4     4"
            ]
          },
          "execution_count": 164,
          "metadata": {},
          "output_type": "execute_result"
        }
      ],
      "source": [
        "pysqldf(\"SELECT * FROM mtcars  LIMIT 10;\")\n"
      ]
    },
    {
      "cell_type": "code",
      "execution_count": null,
      "metadata": {
        "id": "mY2rkZjjAbvJ",
        "outputId": "bd0a1db3-9a51-4537-b4af-feeb078a4ce7"
      },
      "outputs": [
        {
          "data": {
            "text/html": [
              "<div>\n",
              "<table border=\"1\" class=\"dataframe\">\n",
              "  <thead>\n",
              "    <tr style=\"text-align: right;\">\n",
              "      <th></th>\n",
              "      <th>mpg</th>\n",
              "      <th>cyl</th>\n",
              "      <th>disp</th>\n",
              "      <th>hp</th>\n",
              "      <th>drat</th>\n",
              "      <th>wt</th>\n",
              "      <th>qsec</th>\n",
              "      <th>vs</th>\n",
              "      <th>am</th>\n",
              "      <th>gear</th>\n",
              "      <th>carb</th>\n",
              "    </tr>\n",
              "  </thead>\n",
              "  <tbody>\n",
              "    <tr>\n",
              "      <th>0</th>\n",
              "      <td>26.0</td>\n",
              "      <td>4</td>\n",
              "      <td>120.3</td>\n",
              "      <td>91</td>\n",
              "      <td>4.43</td>\n",
              "      <td>2.140</td>\n",
              "      <td>16.7</td>\n",
              "      <td>0</td>\n",
              "      <td>1</td>\n",
              "      <td>5</td>\n",
              "      <td>2</td>\n",
              "    </tr>\n",
              "    <tr>\n",
              "      <th>1</th>\n",
              "      <td>30.4</td>\n",
              "      <td>4</td>\n",
              "      <td>95.1</td>\n",
              "      <td>113</td>\n",
              "      <td>3.77</td>\n",
              "      <td>1.513</td>\n",
              "      <td>16.9</td>\n",
              "      <td>1</td>\n",
              "      <td>1</td>\n",
              "      <td>5</td>\n",
              "      <td>2</td>\n",
              "    </tr>\n",
              "    <tr>\n",
              "      <th>2</th>\n",
              "      <td>15.8</td>\n",
              "      <td>8</td>\n",
              "      <td>351.0</td>\n",
              "      <td>264</td>\n",
              "      <td>4.22</td>\n",
              "      <td>3.170</td>\n",
              "      <td>14.5</td>\n",
              "      <td>0</td>\n",
              "      <td>1</td>\n",
              "      <td>5</td>\n",
              "      <td>4</td>\n",
              "    </tr>\n",
              "    <tr>\n",
              "      <th>3</th>\n",
              "      <td>19.7</td>\n",
              "      <td>6</td>\n",
              "      <td>145.0</td>\n",
              "      <td>175</td>\n",
              "      <td>3.62</td>\n",
              "      <td>2.770</td>\n",
              "      <td>15.5</td>\n",
              "      <td>0</td>\n",
              "      <td>1</td>\n",
              "      <td>5</td>\n",
              "      <td>6</td>\n",
              "    </tr>\n",
              "    <tr>\n",
              "      <th>4</th>\n",
              "      <td>15.0</td>\n",
              "      <td>8</td>\n",
              "      <td>301.0</td>\n",
              "      <td>335</td>\n",
              "      <td>3.54</td>\n",
              "      <td>3.570</td>\n",
              "      <td>14.6</td>\n",
              "      <td>0</td>\n",
              "      <td>1</td>\n",
              "      <td>5</td>\n",
              "      <td>8</td>\n",
              "    </tr>\n",
              "  </tbody>\n",
              "</table>\n",
              "</div>"
            ],
            "text/plain": [
              "    mpg  cyl   disp   hp  drat     wt  qsec  vs  am  gear  carb\n",
              "0  26.0    4  120.3   91  4.43  2.140  16.7   0   1     5     2\n",
              "1  30.4    4   95.1  113  3.77  1.513  16.9   1   1     5     2\n",
              "2  15.8    8  351.0  264  4.22  3.170  14.5   0   1     5     4\n",
              "3  19.7    6  145.0  175  3.62  2.770  15.5   0   1     5     6\n",
              "4  15.0    8  301.0  335  3.54  3.570  14.6   0   1     5     8"
            ]
          },
          "execution_count": 165,
          "metadata": {},
          "output_type": "execute_result"
        }
      ],
      "source": [
        "pysqldf(\"SELECT * FROM mtcars  WHERE gear > 4;\")\n"
      ]
    },
    {
      "cell_type": "code",
      "execution_count": null,
      "metadata": {
        "id": "LE9cKgpsAbvJ",
        "outputId": "fc7a5dd0-a165-47e4-86bc-b163ff471180"
      },
      "outputs": [
        {
          "data": {
            "text/html": [
              "<div>\n",
              "<table border=\"1\" class=\"dataframe\">\n",
              "  <thead>\n",
              "    <tr style=\"text-align: right;\">\n",
              "      <th></th>\n",
              "      <th>AVG(mpg)</th>\n",
              "      <th>gear</th>\n",
              "    </tr>\n",
              "  </thead>\n",
              "  <tbody>\n",
              "    <tr>\n",
              "      <th>0</th>\n",
              "      <td>16.106667</td>\n",
              "      <td>3</td>\n",
              "    </tr>\n",
              "    <tr>\n",
              "      <th>1</th>\n",
              "      <td>24.533333</td>\n",
              "      <td>4</td>\n",
              "    </tr>\n",
              "    <tr>\n",
              "      <th>2</th>\n",
              "      <td>21.380000</td>\n",
              "      <td>5</td>\n",
              "    </tr>\n",
              "  </tbody>\n",
              "</table>\n",
              "</div>"
            ],
            "text/plain": [
              "    AVG(mpg)  gear\n",
              "0  16.106667     3\n",
              "1  24.533333     4\n",
              "2  21.380000     5"
            ]
          },
          "execution_count": 166,
          "metadata": {},
          "output_type": "execute_result"
        }
      ],
      "source": [
        "pysqldf(\"SELECT AVG(mpg),gear FROM mtcars group by gear  ;\")\n"
      ]
    },
    {
      "cell_type": "code",
      "execution_count": null,
      "metadata": {
        "id": "xTl6LQ9pAbvJ",
        "outputId": "5558a980-3eab-4869-ab18-a67e088098b3"
      },
      "outputs": [
        {
          "data": {
            "text/plain": [
              "20.090624999999996"
            ]
          },
          "execution_count": 167,
          "metadata": {},
          "output_type": "execute_result"
        }
      ],
      "source": [
        "mtcars.mpg.mean()"
      ]
    },
    {
      "cell_type": "code",
      "execution_count": null,
      "metadata": {
        "id": "bRxC_szGAbvK"
      },
      "outputs": [],
      "source": [
        "g1=pd.groupby(mtcars,mtcars.gear)"
      ]
    },
    {
      "cell_type": "code",
      "execution_count": null,
      "metadata": {
        "id": "W0TYVcrhAbvK",
        "outputId": "098f1cbf-450e-4e98-92a4-75847d9f4fb5"
      },
      "outputs": [
        {
          "data": {
            "text/html": [
              "<div>\n",
              "<table border=\"1\" class=\"dataframe\">\n",
              "  <thead>\n",
              "    <tr style=\"text-align: right;\">\n",
              "      <th></th>\n",
              "      <th>mpg</th>\n",
              "      <th>cyl</th>\n",
              "      <th>disp</th>\n",
              "      <th>hp</th>\n",
              "      <th>drat</th>\n",
              "      <th>wt</th>\n",
              "      <th>qsec</th>\n",
              "      <th>vs</th>\n",
              "      <th>am</th>\n",
              "      <th>carb</th>\n",
              "    </tr>\n",
              "    <tr>\n",
              "      <th>gear</th>\n",
              "      <th></th>\n",
              "      <th></th>\n",
              "      <th></th>\n",
              "      <th></th>\n",
              "      <th></th>\n",
              "      <th></th>\n",
              "      <th></th>\n",
              "      <th></th>\n",
              "      <th></th>\n",
              "      <th></th>\n",
              "    </tr>\n",
              "  </thead>\n",
              "  <tbody>\n",
              "    <tr>\n",
              "      <th>3</th>\n",
              "      <td>16.106667</td>\n",
              "      <td>7.466667</td>\n",
              "      <td>326.300000</td>\n",
              "      <td>176.133333</td>\n",
              "      <td>3.132667</td>\n",
              "      <td>3.892600</td>\n",
              "      <td>17.692</td>\n",
              "      <td>0.200000</td>\n",
              "      <td>0.000000</td>\n",
              "      <td>2.666667</td>\n",
              "    </tr>\n",
              "    <tr>\n",
              "      <th>4</th>\n",
              "      <td>24.533333</td>\n",
              "      <td>4.666667</td>\n",
              "      <td>123.016667</td>\n",
              "      <td>89.500000</td>\n",
              "      <td>4.043333</td>\n",
              "      <td>2.616667</td>\n",
              "      <td>18.965</td>\n",
              "      <td>0.833333</td>\n",
              "      <td>0.666667</td>\n",
              "      <td>2.333333</td>\n",
              "    </tr>\n",
              "    <tr>\n",
              "      <th>5</th>\n",
              "      <td>21.380000</td>\n",
              "      <td>6.000000</td>\n",
              "      <td>202.480000</td>\n",
              "      <td>195.600000</td>\n",
              "      <td>3.916000</td>\n",
              "      <td>2.632600</td>\n",
              "      <td>15.640</td>\n",
              "      <td>0.200000</td>\n",
              "      <td>1.000000</td>\n",
              "      <td>4.400000</td>\n",
              "    </tr>\n",
              "  </tbody>\n",
              "</table>\n",
              "</div>"
            ],
            "text/plain": [
              "            mpg       cyl        disp          hp      drat        wt    qsec  \\\n",
              "gear                                                                            \n",
              "3     16.106667  7.466667  326.300000  176.133333  3.132667  3.892600  17.692   \n",
              "4     24.533333  4.666667  123.016667   89.500000  4.043333  2.616667  18.965   \n",
              "5     21.380000  6.000000  202.480000  195.600000  3.916000  2.632600  15.640   \n",
              "\n",
              "            vs        am      carb  \n",
              "gear                                \n",
              "3     0.200000  0.000000  2.666667  \n",
              "4     0.833333  0.666667  2.333333  \n",
              "5     0.200000  1.000000  4.400000  "
            ]
          },
          "execution_count": 170,
          "metadata": {},
          "output_type": "execute_result"
        }
      ],
      "source": [
        "g1.mean()"
      ]
    },
    {
      "cell_type": "code",
      "execution_count": null,
      "metadata": {
        "id": "2NW6-Jx8AbvK",
        "outputId": "f28129f6-4214-4569-ee6d-7d32b3c617ea"
      },
      "outputs": [
        {
          "data": {
            "text/plain": [
              "3    15\n",
              "4    12\n",
              "5     5\n",
              "Name: gear, dtype: int64"
            ]
          },
          "execution_count": 171,
          "metadata": {},
          "output_type": "execute_result"
        }
      ],
      "source": [
        "mtcars.gear.value_counts()"
      ]
    },
    {
      "cell_type": "code",
      "execution_count": null,
      "metadata": {
        "id": "IgcjVFaHAbvK",
        "outputId": "66fac91d-d392-457b-b8ad-5dca36a1083a"
      },
      "outputs": [
        {
          "data": {
            "text/plain": [
              "array([6, 4, 8], dtype=int64)"
            ]
          },
          "execution_count": 173,
          "metadata": {},
          "output_type": "execute_result"
        }
      ],
      "source": [
        "mtcars.cyl.unique()"
      ]
    },
    {
      "cell_type": "code",
      "execution_count": null,
      "metadata": {
        "id": "w5pZJr7gAbvK",
        "outputId": "2fe92739-c628-44a5-dd00-41e51507a22f"
      },
      "outputs": [
        {
          "data": {
            "text/html": [
              "<div>\n",
              "<table border=\"1\" class=\"dataframe\">\n",
              "  <thead>\n",
              "    <tr style=\"text-align: right;\">\n",
              "      <th>cyl</th>\n",
              "      <th>4</th>\n",
              "      <th>6</th>\n",
              "      <th>8</th>\n",
              "    </tr>\n",
              "    <tr>\n",
              "      <th>gear</th>\n",
              "      <th></th>\n",
              "      <th></th>\n",
              "      <th></th>\n",
              "    </tr>\n",
              "  </thead>\n",
              "  <tbody>\n",
              "    <tr>\n",
              "      <th>3</th>\n",
              "      <td>1</td>\n",
              "      <td>2</td>\n",
              "      <td>12</td>\n",
              "    </tr>\n",
              "    <tr>\n",
              "      <th>4</th>\n",
              "      <td>8</td>\n",
              "      <td>4</td>\n",
              "      <td>0</td>\n",
              "    </tr>\n",
              "    <tr>\n",
              "      <th>5</th>\n",
              "      <td>2</td>\n",
              "      <td>1</td>\n",
              "      <td>2</td>\n",
              "    </tr>\n",
              "  </tbody>\n",
              "</table>\n",
              "</div>"
            ],
            "text/plain": [
              "cyl   4  6   8\n",
              "gear          \n",
              "3     1  2  12\n",
              "4     8  4   0\n",
              "5     2  1   2"
            ]
          },
          "execution_count": 174,
          "metadata": {},
          "output_type": "execute_result"
        }
      ],
      "source": [
        "pd.crosstab(mtcars.gear,mtcars.cyl)"
      ]
    },
    {
      "cell_type": "code",
      "execution_count": null,
      "metadata": {
        "id": "A4uQ9Ri4AbvK",
        "outputId": "7e881c35-c00f-4bab-d6eb-b3f6453073d0"
      },
      "outputs": [
        {
          "data": {
            "text/html": [
              "<div>\n",
              "<table border=\"1\" class=\"dataframe\">\n",
              "  <thead>\n",
              "    <tr style=\"text-align: right;\">\n",
              "      <th>cyl</th>\n",
              "      <th>4</th>\n",
              "      <th>6</th>\n",
              "      <th>8</th>\n",
              "    </tr>\n",
              "    <tr>\n",
              "      <th>gear</th>\n",
              "      <th></th>\n",
              "      <th></th>\n",
              "      <th></th>\n",
              "    </tr>\n",
              "  </thead>\n",
              "  <tbody>\n",
              "    <tr>\n",
              "      <th>3</th>\n",
              "      <td>21.500</td>\n",
              "      <td>19.75</td>\n",
              "      <td>15.05</td>\n",
              "    </tr>\n",
              "    <tr>\n",
              "      <th>4</th>\n",
              "      <td>26.925</td>\n",
              "      <td>19.75</td>\n",
              "      <td>0.00</td>\n",
              "    </tr>\n",
              "    <tr>\n",
              "      <th>5</th>\n",
              "      <td>28.200</td>\n",
              "      <td>19.70</td>\n",
              "      <td>15.40</td>\n",
              "    </tr>\n",
              "  </tbody>\n",
              "</table>\n",
              "</div>"
            ],
            "text/plain": [
              "cyl        4      6      8\n",
              "gear                      \n",
              "3     21.500  19.75  15.05\n",
              "4     26.925  19.75   0.00\n",
              "5     28.200  19.70  15.40"
            ]
          },
          "execution_count": 175,
          "metadata": {},
          "output_type": "execute_result"
        }
      ],
      "source": [
        "mtcars.pivot_table(index='gear', columns='cyl', values='mpg', fill_value=0)"
      ]
    },
    {
      "cell_type": "code",
      "execution_count": null,
      "metadata": {
        "id": "dTWQbk0NAbvK",
        "outputId": "66b96ac5-53df-4fb1-92be-b1ebc37ad9c0"
      },
      "outputs": [
        {
          "data": {
            "text/html": [
              "<div>\n",
              "<table border=\"1\" class=\"dataframe\">\n",
              "  <thead>\n",
              "    <tr style=\"text-align: right;\">\n",
              "      <th></th>\n",
              "      <th>custID</th>\n",
              "      <th>gender</th>\n",
              "      <th>state</th>\n",
              "      <th>cardholder</th>\n",
              "      <th>balance</th>\n",
              "      <th>numTrans</th>\n",
              "      <th>numIntlTrans</th>\n",
              "      <th>creditLine</th>\n",
              "      <th>fraudRisk</th>\n",
              "    </tr>\n",
              "  </thead>\n",
              "  <tbody>\n",
              "    <tr>\n",
              "      <th>0</th>\n",
              "      <td>1</td>\n",
              "      <td>1</td>\n",
              "      <td>35</td>\n",
              "      <td>1</td>\n",
              "      <td>3000</td>\n",
              "      <td>4</td>\n",
              "      <td>14</td>\n",
              "      <td>2</td>\n",
              "      <td>0</td>\n",
              "    </tr>\n",
              "    <tr>\n",
              "      <th>1</th>\n",
              "      <td>2</td>\n",
              "      <td>2</td>\n",
              "      <td>2</td>\n",
              "      <td>1</td>\n",
              "      <td>0</td>\n",
              "      <td>9</td>\n",
              "      <td>0</td>\n",
              "      <td>18</td>\n",
              "      <td>0</td>\n",
              "    </tr>\n",
              "    <tr>\n",
              "      <th>2</th>\n",
              "      <td>3</td>\n",
              "      <td>2</td>\n",
              "      <td>2</td>\n",
              "      <td>1</td>\n",
              "      <td>0</td>\n",
              "      <td>27</td>\n",
              "      <td>9</td>\n",
              "      <td>16</td>\n",
              "      <td>0</td>\n",
              "    </tr>\n",
              "    <tr>\n",
              "      <th>3</th>\n",
              "      <td>4</td>\n",
              "      <td>1</td>\n",
              "      <td>15</td>\n",
              "      <td>1</td>\n",
              "      <td>0</td>\n",
              "      <td>12</td>\n",
              "      <td>0</td>\n",
              "      <td>5</td>\n",
              "      <td>0</td>\n",
              "    </tr>\n",
              "    <tr>\n",
              "      <th>4</th>\n",
              "      <td>5</td>\n",
              "      <td>1</td>\n",
              "      <td>46</td>\n",
              "      <td>1</td>\n",
              "      <td>0</td>\n",
              "      <td>11</td>\n",
              "      <td>16</td>\n",
              "      <td>7</td>\n",
              "      <td>0</td>\n",
              "    </tr>\n",
              "  </tbody>\n",
              "</table>\n",
              "</div>"
            ],
            "text/plain": [
              "   custID  gender  state  cardholder  balance  numTrans  numIntlTrans  \\\n",
              "0       1       1     35           1     3000         4            14   \n",
              "1       2       2      2           1        0         9             0   \n",
              "2       3       2      2           1        0        27             9   \n",
              "3       4       1     15           1        0        12             0   \n",
              "4       5       1     46           1        0        11            16   \n",
              "\n",
              "   creditLine  fraudRisk  \n",
              "0           2          0  \n",
              "1          18          0  \n",
              "2          16          0  \n",
              "3           5          0  \n",
              "4           7          0  "
            ]
          },
          "execution_count": 176,
          "metadata": {},
          "output_type": "execute_result"
        }
      ],
      "source": [
        "fraud.head()"
      ]
    },
    {
      "cell_type": "code",
      "execution_count": null,
      "metadata": {
        "id": "AM5yL4ohAbvL"
      },
      "outputs": [],
      "source": [
        "del fraud['custID']"
      ]
    },
    {
      "cell_type": "code",
      "execution_count": null,
      "metadata": {
        "id": "qw6KX-LTAbvL",
        "outputId": "eee2a64e-7612-4fb0-b797-c00cae6f9842"
      },
      "outputs": [
        {
          "data": {
            "text/html": [
              "<div>\n",
              "<table border=\"1\" class=\"dataframe\">\n",
              "  <thead>\n",
              "    <tr style=\"text-align: right;\">\n",
              "      <th></th>\n",
              "      <th>gender</th>\n",
              "      <th>state</th>\n",
              "      <th>cardholder</th>\n",
              "      <th>balance</th>\n",
              "      <th>numTrans</th>\n",
              "      <th>numIntlTrans</th>\n",
              "      <th>creditLine</th>\n",
              "      <th>fraudRisk</th>\n",
              "    </tr>\n",
              "  </thead>\n",
              "  <tbody>\n",
              "    <tr>\n",
              "      <th>0</th>\n",
              "      <td>1</td>\n",
              "      <td>35</td>\n",
              "      <td>1</td>\n",
              "      <td>3000</td>\n",
              "      <td>4</td>\n",
              "      <td>14</td>\n",
              "      <td>2</td>\n",
              "      <td>0</td>\n",
              "    </tr>\n",
              "    <tr>\n",
              "      <th>1</th>\n",
              "      <td>2</td>\n",
              "      <td>2</td>\n",
              "      <td>1</td>\n",
              "      <td>0</td>\n",
              "      <td>9</td>\n",
              "      <td>0</td>\n",
              "      <td>18</td>\n",
              "      <td>0</td>\n",
              "    </tr>\n",
              "    <tr>\n",
              "      <th>2</th>\n",
              "      <td>2</td>\n",
              "      <td>2</td>\n",
              "      <td>1</td>\n",
              "      <td>0</td>\n",
              "      <td>27</td>\n",
              "      <td>9</td>\n",
              "      <td>16</td>\n",
              "      <td>0</td>\n",
              "    </tr>\n",
              "    <tr>\n",
              "      <th>3</th>\n",
              "      <td>1</td>\n",
              "      <td>15</td>\n",
              "      <td>1</td>\n",
              "      <td>0</td>\n",
              "      <td>12</td>\n",
              "      <td>0</td>\n",
              "      <td>5</td>\n",
              "      <td>0</td>\n",
              "    </tr>\n",
              "    <tr>\n",
              "      <th>4</th>\n",
              "      <td>1</td>\n",
              "      <td>46</td>\n",
              "      <td>1</td>\n",
              "      <td>0</td>\n",
              "      <td>11</td>\n",
              "      <td>16</td>\n",
              "      <td>7</td>\n",
              "      <td>0</td>\n",
              "    </tr>\n",
              "  </tbody>\n",
              "</table>\n",
              "</div>"
            ],
            "text/plain": [
              "   gender  state  cardholder  balance  numTrans  numIntlTrans  creditLine  \\\n",
              "0       1     35           1     3000         4            14           2   \n",
              "1       2      2           1        0         9             0          18   \n",
              "2       2      2           1        0        27             9          16   \n",
              "3       1     15           1        0        12             0           5   \n",
              "4       1     46           1        0        11            16           7   \n",
              "\n",
              "   fraudRisk  \n",
              "0          0  \n",
              "1          0  \n",
              "2          0  \n",
              "3          0  \n",
              "4          0  "
            ]
          },
          "execution_count": 182,
          "metadata": {},
          "output_type": "execute_result"
        }
      ],
      "source": [
        "fraud.head()"
      ]
    },
    {
      "cell_type": "code",
      "execution_count": null,
      "metadata": {
        "collapsed": true,
        "id": "s2bZd1HlAbvL"
      },
      "outputs": [],
      "source": [
        "fraud3=fraud"
      ]
    },
    {
      "cell_type": "code",
      "execution_count": null,
      "metadata": {
        "id": "ITo_BJIZAbvL"
      },
      "outputs": [],
      "source": [
        "del fraud['state']"
      ]
    },
    {
      "cell_type": "code",
      "execution_count": null,
      "metadata": {
        "id": "-QTATxjfAbvL",
        "outputId": "44080e66-6654-4503-c8f2-c87ea3527865"
      },
      "outputs": [
        {
          "data": {
            "text/html": [
              "<div>\n",
              "<table border=\"1\" class=\"dataframe\">\n",
              "  <thead>\n",
              "    <tr style=\"text-align: right;\">\n",
              "      <th></th>\n",
              "      <th>gender</th>\n",
              "      <th>cardholder</th>\n",
              "      <th>balance</th>\n",
              "      <th>numTrans</th>\n",
              "      <th>numIntlTrans</th>\n",
              "      <th>creditLine</th>\n",
              "      <th>fraudRisk</th>\n",
              "    </tr>\n",
              "  </thead>\n",
              "  <tbody>\n",
              "    <tr>\n",
              "      <th>0</th>\n",
              "      <td>1</td>\n",
              "      <td>1</td>\n",
              "      <td>3000</td>\n",
              "      <td>4</td>\n",
              "      <td>14</td>\n",
              "      <td>2</td>\n",
              "      <td>0</td>\n",
              "    </tr>\n",
              "    <tr>\n",
              "      <th>1</th>\n",
              "      <td>2</td>\n",
              "      <td>1</td>\n",
              "      <td>0</td>\n",
              "      <td>9</td>\n",
              "      <td>0</td>\n",
              "      <td>18</td>\n",
              "      <td>0</td>\n",
              "    </tr>\n",
              "    <tr>\n",
              "      <th>2</th>\n",
              "      <td>2</td>\n",
              "      <td>1</td>\n",
              "      <td>0</td>\n",
              "      <td>27</td>\n",
              "      <td>9</td>\n",
              "      <td>16</td>\n",
              "      <td>0</td>\n",
              "    </tr>\n",
              "    <tr>\n",
              "      <th>3</th>\n",
              "      <td>1</td>\n",
              "      <td>1</td>\n",
              "      <td>0</td>\n",
              "      <td>12</td>\n",
              "      <td>0</td>\n",
              "      <td>5</td>\n",
              "      <td>0</td>\n",
              "    </tr>\n",
              "    <tr>\n",
              "      <th>4</th>\n",
              "      <td>1</td>\n",
              "      <td>1</td>\n",
              "      <td>0</td>\n",
              "      <td>11</td>\n",
              "      <td>16</td>\n",
              "      <td>7</td>\n",
              "      <td>0</td>\n",
              "    </tr>\n",
              "  </tbody>\n",
              "</table>\n",
              "</div>"
            ],
            "text/plain": [
              "   gender  cardholder  balance  numTrans  numIntlTrans  creditLine  fraudRisk\n",
              "0       1           1     3000         4            14           2          0\n",
              "1       2           1        0         9             0          18          0\n",
              "2       2           1        0        27             9          16          0\n",
              "3       1           1        0        12             0           5          0\n",
              "4       1           1        0        11            16           7          0"
            ]
          },
          "execution_count": 187,
          "metadata": {},
          "output_type": "execute_result"
        }
      ],
      "source": [
        "fraud3.head()"
      ]
    },
    {
      "cell_type": "code",
      "execution_count": null,
      "metadata": {
        "collapsed": true,
        "id": "BeuhSfwRAbvL"
      },
      "outputs": [],
      "source": [
        "wine=pd.read_csv(\"https://archive.ics.uci.edu/ml/machine-learning-databases/wine/wine.data\",header=None)"
      ]
    },
    {
      "cell_type": "code",
      "execution_count": null,
      "metadata": {
        "id": "1q2iJ-yFAbvL",
        "outputId": "51e5fd75-1b08-4a9f-85d5-791f8bdfb539"
      },
      "outputs": [
        {
          "name": "stdout",
          "output_type": "stream",
          "text": [
            "<class 'pandas.core.frame.DataFrame'>\n",
            "RangeIndex: 178 entries, 0 to 177\n",
            "Data columns (total 14 columns):\n",
            "0     178 non-null int64\n",
            "1     178 non-null float64\n",
            "2     178 non-null float64\n",
            "3     178 non-null float64\n",
            "4     178 non-null float64\n",
            "5     178 non-null int64\n",
            "6     178 non-null float64\n",
            "7     178 non-null float64\n",
            "8     178 non-null float64\n",
            "9     178 non-null float64\n",
            "10    178 non-null float64\n",
            "11    178 non-null float64\n",
            "12    178 non-null float64\n",
            "13    178 non-null int64\n",
            "dtypes: float64(11), int64(3)\n",
            "memory usage: 19.5 KB\n"
          ]
        }
      ],
      "source": [
        "wine.info()"
      ]
    },
    {
      "cell_type": "code",
      "execution_count": null,
      "metadata": {
        "id": "pH-YaqDtAbvM",
        "scrolled": true
      },
      "outputs": [],
      "source": [
        "wine.columns=['WineClass','Alcohol','Malic acid','Ash','Alcalinity of ash','Magnesium','Total phenols','Flavanoids','Nonflavanoid phenols','Proanthocyanins','Color intensity','Hue','OD280/OD315 of diluted wines','Proline'] "
      ]
    },
    {
      "cell_type": "code",
      "execution_count": null,
      "metadata": {
        "id": "3pIcaJAKAbvM",
        "outputId": "9a211baf-b5af-4fea-bd69-db9a383b8c52"
      },
      "outputs": [
        {
          "name": "stdout",
          "output_type": "stream",
          "text": [
            "<class 'pandas.core.frame.DataFrame'>\n",
            "RangeIndex: 178 entries, 0 to 177\n",
            "Data columns (total 14 columns):\n",
            "WineClass                       178 non-null int64\n",
            "Alcohol                         178 non-null float64\n",
            "Malic acid                      178 non-null float64\n",
            "Ash                             178 non-null float64\n",
            "Alcalinity of ash               178 non-null float64\n",
            "Magnesium                       178 non-null int64\n",
            "Total phenols                   178 non-null float64\n",
            "Flavanoids                      178 non-null float64\n",
            "Nonflavanoid phenols            178 non-null float64\n",
            "Proanthocyanins                 178 non-null float64\n",
            "Color intensity                 178 non-null float64\n",
            "Hue                             178 non-null float64\n",
            "OD280/OD315 of diluted wines    178 non-null float64\n",
            "Proline                         178 non-null int64\n",
            "dtypes: float64(11), int64(3)\n",
            "memory usage: 19.5 KB\n"
          ]
        }
      ],
      "source": [
        "wine.info()"
      ]
    },
    {
      "cell_type": "code",
      "execution_count": null,
      "metadata": {
        "id": "gkAEOer4AbvM",
        "outputId": "210da10f-0a6a-449c-9415-aa066db968f1"
      },
      "outputs": [
        {
          "data": {
            "text/html": [
              "<div>\n",
              "<table border=\"1\" class=\"dataframe\">\n",
              "  <thead>\n",
              "    <tr style=\"text-align: right;\">\n",
              "      <th></th>\n",
              "      <th>WineClass</th>\n",
              "      <th>Alcohol</th>\n",
              "      <th>Malic acid</th>\n",
              "      <th>Ash</th>\n",
              "      <th>Alcalinity of ash</th>\n",
              "      <th>Magnesium</th>\n",
              "      <th>Total phenols</th>\n",
              "      <th>Flavanoids</th>\n",
              "      <th>Nonflavanoid phenols</th>\n",
              "      <th>Proanthocyanins</th>\n",
              "      <th>Color intensity</th>\n",
              "      <th>Hue</th>\n",
              "      <th>OD280/OD315 of diluted wines</th>\n",
              "      <th>Proline</th>\n",
              "    </tr>\n",
              "  </thead>\n",
              "  <tbody>\n",
              "    <tr>\n",
              "      <th>0</th>\n",
              "      <td>1</td>\n",
              "      <td>14.23</td>\n",
              "      <td>1.71</td>\n",
              "      <td>2.43</td>\n",
              "      <td>15.6</td>\n",
              "      <td>127</td>\n",
              "      <td>2.80</td>\n",
              "      <td>3.06</td>\n",
              "      <td>0.28</td>\n",
              "      <td>2.29</td>\n",
              "      <td>5.64</td>\n",
              "      <td>1.04</td>\n",
              "      <td>3.92</td>\n",
              "      <td>1065</td>\n",
              "    </tr>\n",
              "    <tr>\n",
              "      <th>1</th>\n",
              "      <td>1</td>\n",
              "      <td>13.20</td>\n",
              "      <td>1.78</td>\n",
              "      <td>2.14</td>\n",
              "      <td>11.2</td>\n",
              "      <td>100</td>\n",
              "      <td>2.65</td>\n",
              "      <td>2.76</td>\n",
              "      <td>0.26</td>\n",
              "      <td>1.28</td>\n",
              "      <td>4.38</td>\n",
              "      <td>1.05</td>\n",
              "      <td>3.40</td>\n",
              "      <td>1050</td>\n",
              "    </tr>\n",
              "    <tr>\n",
              "      <th>2</th>\n",
              "      <td>1</td>\n",
              "      <td>13.16</td>\n",
              "      <td>2.36</td>\n",
              "      <td>2.67</td>\n",
              "      <td>18.6</td>\n",
              "      <td>101</td>\n",
              "      <td>2.80</td>\n",
              "      <td>3.24</td>\n",
              "      <td>0.30</td>\n",
              "      <td>2.81</td>\n",
              "      <td>5.68</td>\n",
              "      <td>1.03</td>\n",
              "      <td>3.17</td>\n",
              "      <td>1185</td>\n",
              "    </tr>\n",
              "    <tr>\n",
              "      <th>3</th>\n",
              "      <td>1</td>\n",
              "      <td>14.37</td>\n",
              "      <td>1.95</td>\n",
              "      <td>2.50</td>\n",
              "      <td>16.8</td>\n",
              "      <td>113</td>\n",
              "      <td>3.85</td>\n",
              "      <td>3.49</td>\n",
              "      <td>0.24</td>\n",
              "      <td>2.18</td>\n",
              "      <td>7.80</td>\n",
              "      <td>0.86</td>\n",
              "      <td>3.45</td>\n",
              "      <td>1480</td>\n",
              "    </tr>\n",
              "    <tr>\n",
              "      <th>4</th>\n",
              "      <td>1</td>\n",
              "      <td>13.24</td>\n",
              "      <td>2.59</td>\n",
              "      <td>2.87</td>\n",
              "      <td>21.0</td>\n",
              "      <td>118</td>\n",
              "      <td>2.80</td>\n",
              "      <td>2.69</td>\n",
              "      <td>0.39</td>\n",
              "      <td>1.82</td>\n",
              "      <td>4.32</td>\n",
              "      <td>1.04</td>\n",
              "      <td>2.93</td>\n",
              "      <td>735</td>\n",
              "    </tr>\n",
              "  </tbody>\n",
              "</table>\n",
              "</div>"
            ],
            "text/plain": [
              "   WineClass  Alcohol  Malic acid   Ash  Alcalinity of ash  Magnesium  \\\n",
              "0          1    14.23        1.71  2.43               15.6        127   \n",
              "1          1    13.20        1.78  2.14               11.2        100   \n",
              "2          1    13.16        2.36  2.67               18.6        101   \n",
              "3          1    14.37        1.95  2.50               16.8        113   \n",
              "4          1    13.24        2.59  2.87               21.0        118   \n",
              "\n",
              "   Total phenols  Flavanoids  Nonflavanoid phenols  Proanthocyanins  \\\n",
              "0           2.80        3.06                  0.28             2.29   \n",
              "1           2.65        2.76                  0.26             1.28   \n",
              "2           2.80        3.24                  0.30             2.81   \n",
              "3           3.85        3.49                  0.24             2.18   \n",
              "4           2.80        2.69                  0.39             1.82   \n",
              "\n",
              "   Color intensity   Hue  OD280/OD315 of diluted wines  Proline  \n",
              "0             5.64  1.04                          3.92     1065  \n",
              "1             4.38  1.05                          3.40     1050  \n",
              "2             5.68  1.03                          3.17     1185  \n",
              "3             7.80  0.86                          3.45     1480  \n",
              "4             4.32  1.04                          2.93      735  "
            ]
          },
          "execution_count": 202,
          "metadata": {},
          "output_type": "execute_result"
        }
      ],
      "source": [
        "wine.head()"
      ]
    },
    {
      "cell_type": "code",
      "execution_count": null,
      "metadata": {
        "id": "gYDJXeEnAbvM",
        "outputId": "4bc8e82e-2eb4-45c2-9421-4f7d63cf14a3"
      },
      "outputs": [
        {
          "data": {
            "text/plain": [
              "2    71\n",
              "1    59\n",
              "3    48\n",
              "Name: WineClass, dtype: int64"
            ]
          },
          "execution_count": 204,
          "metadata": {},
          "output_type": "execute_result"
        }
      ],
      "source": [
        "wine.WineClass.value_counts()"
      ]
    },
    {
      "cell_type": "code",
      "execution_count": null,
      "metadata": {
        "collapsed": true,
        "id": "VMke0M5pAbvM"
      },
      "outputs": [],
      "source": [
        "classby=pd.groupby(wine,wine.WineClass)"
      ]
    },
    {
      "cell_type": "code",
      "execution_count": null,
      "metadata": {
        "id": "ZNIeeADyAbvM",
        "outputId": "61d6128c-d830-4213-91fd-88783ebf0d4c"
      },
      "outputs": [
        {
          "data": {
            "text/html": [
              "<div>\n",
              "<table border=\"1\" class=\"dataframe\">\n",
              "  <thead>\n",
              "    <tr style=\"text-align: right;\">\n",
              "      <th></th>\n",
              "      <th>Alcohol</th>\n",
              "      <th>Malic acid</th>\n",
              "      <th>Ash</th>\n",
              "      <th>Alcalinity of ash</th>\n",
              "      <th>Magnesium</th>\n",
              "      <th>Total phenols</th>\n",
              "      <th>Flavanoids</th>\n",
              "      <th>Nonflavanoid phenols</th>\n",
              "      <th>Proanthocyanins</th>\n",
              "      <th>Color intensity</th>\n",
              "      <th>Hue</th>\n",
              "      <th>OD280/OD315 of diluted wines</th>\n",
              "      <th>Proline</th>\n",
              "    </tr>\n",
              "    <tr>\n",
              "      <th>WineClass</th>\n",
              "      <th></th>\n",
              "      <th></th>\n",
              "      <th></th>\n",
              "      <th></th>\n",
              "      <th></th>\n",
              "      <th></th>\n",
              "      <th></th>\n",
              "      <th></th>\n",
              "      <th></th>\n",
              "      <th></th>\n",
              "      <th></th>\n",
              "      <th></th>\n",
              "      <th></th>\n",
              "    </tr>\n",
              "  </thead>\n",
              "  <tbody>\n",
              "    <tr>\n",
              "      <th>1</th>\n",
              "      <td>13.744746</td>\n",
              "      <td>2.010678</td>\n",
              "      <td>2.455593</td>\n",
              "      <td>17.037288</td>\n",
              "      <td>106.338983</td>\n",
              "      <td>2.840169</td>\n",
              "      <td>2.982373</td>\n",
              "      <td>0.290000</td>\n",
              "      <td>1.899322</td>\n",
              "      <td>5.528305</td>\n",
              "      <td>1.062034</td>\n",
              "      <td>3.157797</td>\n",
              "      <td>1115.711864</td>\n",
              "    </tr>\n",
              "    <tr>\n",
              "      <th>2</th>\n",
              "      <td>12.278732</td>\n",
              "      <td>1.932676</td>\n",
              "      <td>2.244789</td>\n",
              "      <td>20.238028</td>\n",
              "      <td>94.549296</td>\n",
              "      <td>2.258873</td>\n",
              "      <td>2.080845</td>\n",
              "      <td>0.363662</td>\n",
              "      <td>1.630282</td>\n",
              "      <td>3.086620</td>\n",
              "      <td>1.056282</td>\n",
              "      <td>2.785352</td>\n",
              "      <td>519.507042</td>\n",
              "    </tr>\n",
              "    <tr>\n",
              "      <th>3</th>\n",
              "      <td>13.153750</td>\n",
              "      <td>3.333750</td>\n",
              "      <td>2.437083</td>\n",
              "      <td>21.416667</td>\n",
              "      <td>99.312500</td>\n",
              "      <td>1.678750</td>\n",
              "      <td>0.781458</td>\n",
              "      <td>0.447500</td>\n",
              "      <td>1.153542</td>\n",
              "      <td>7.396250</td>\n",
              "      <td>0.682708</td>\n",
              "      <td>1.683542</td>\n",
              "      <td>629.895833</td>\n",
              "    </tr>\n",
              "  </tbody>\n",
              "</table>\n",
              "</div>"
            ],
            "text/plain": [
              "             Alcohol  Malic acid       Ash  Alcalinity of ash   Magnesium  \\\n",
              "WineClass                                                                   \n",
              "1          13.744746    2.010678  2.455593          17.037288  106.338983   \n",
              "2          12.278732    1.932676  2.244789          20.238028   94.549296   \n",
              "3          13.153750    3.333750  2.437083          21.416667   99.312500   \n",
              "\n",
              "           Total phenols  Flavanoids  Nonflavanoid phenols  Proanthocyanins  \\\n",
              "WineClass                                                                     \n",
              "1               2.840169    2.982373              0.290000         1.899322   \n",
              "2               2.258873    2.080845              0.363662         1.630282   \n",
              "3               1.678750    0.781458              0.447500         1.153542   \n",
              "\n",
              "           Color intensity       Hue  OD280/OD315 of diluted wines  \\\n",
              "WineClass                                                            \n",
              "1                 5.528305  1.062034                      3.157797   \n",
              "2                 3.086620  1.056282                      2.785352   \n",
              "3                 7.396250  0.682708                      1.683542   \n",
              "\n",
              "               Proline  \n",
              "WineClass               \n",
              "1          1115.711864  \n",
              "2           519.507042  \n",
              "3           629.895833  "
            ]
          },
          "execution_count": 206,
          "metadata": {},
          "output_type": "execute_result"
        }
      ],
      "source": [
        "classby.mean()"
      ]
    },
    {
      "cell_type": "code",
      "execution_count": null,
      "metadata": {
        "id": "BWraM4WkAbvM",
        "outputId": "323cf2d4-e964-465e-8e05-b543013e32c4"
      },
      "outputs": [
        {
          "data": {
            "text/html": [
              "<div>\n",
              "<table border=\"1\" class=\"dataframe\">\n",
              "  <thead>\n",
              "    <tr style=\"text-align: right;\">\n",
              "      <th></th>\n",
              "      <th>WineClass</th>\n",
              "      <th>Alcohol</th>\n",
              "      <th>Malic acid</th>\n",
              "      <th>Ash</th>\n",
              "      <th>Alcalinity of ash</th>\n",
              "      <th>Magnesium</th>\n",
              "      <th>Total phenols</th>\n",
              "      <th>Flavanoids</th>\n",
              "      <th>Nonflavanoid phenols</th>\n",
              "      <th>Proanthocyanins</th>\n",
              "      <th>Color intensity</th>\n",
              "      <th>Hue</th>\n",
              "      <th>OD280/OD315 of diluted wines</th>\n",
              "      <th>Proline</th>\n",
              "    </tr>\n",
              "  </thead>\n",
              "  <tbody>\n",
              "    <tr>\n",
              "      <th>count</th>\n",
              "      <td>178.000000</td>\n",
              "      <td>178.000000</td>\n",
              "      <td>178.000000</td>\n",
              "      <td>178.000000</td>\n",
              "      <td>178.000000</td>\n",
              "      <td>178.000000</td>\n",
              "      <td>178.000000</td>\n",
              "      <td>178.000000</td>\n",
              "      <td>178.000000</td>\n",
              "      <td>178.000000</td>\n",
              "      <td>178.000000</td>\n",
              "      <td>178.000000</td>\n",
              "      <td>178.000000</td>\n",
              "      <td>178.000000</td>\n",
              "    </tr>\n",
              "    <tr>\n",
              "      <th>mean</th>\n",
              "      <td>1.938202</td>\n",
              "      <td>13.000618</td>\n",
              "      <td>2.336348</td>\n",
              "      <td>2.366517</td>\n",
              "      <td>19.494944</td>\n",
              "      <td>99.741573</td>\n",
              "      <td>2.295112</td>\n",
              "      <td>2.029270</td>\n",
              "      <td>0.361854</td>\n",
              "      <td>1.590899</td>\n",
              "      <td>5.058090</td>\n",
              "      <td>0.957449</td>\n",
              "      <td>2.611685</td>\n",
              "      <td>746.893258</td>\n",
              "    </tr>\n",
              "    <tr>\n",
              "      <th>std</th>\n",
              "      <td>0.775035</td>\n",
              "      <td>0.811827</td>\n",
              "      <td>1.117146</td>\n",
              "      <td>0.274344</td>\n",
              "      <td>3.339564</td>\n",
              "      <td>14.282484</td>\n",
              "      <td>0.625851</td>\n",
              "      <td>0.998859</td>\n",
              "      <td>0.124453</td>\n",
              "      <td>0.572359</td>\n",
              "      <td>2.318286</td>\n",
              "      <td>0.228572</td>\n",
              "      <td>0.709990</td>\n",
              "      <td>314.907474</td>\n",
              "    </tr>\n",
              "    <tr>\n",
              "      <th>min</th>\n",
              "      <td>1.000000</td>\n",
              "      <td>11.030000</td>\n",
              "      <td>0.740000</td>\n",
              "      <td>1.360000</td>\n",
              "      <td>10.600000</td>\n",
              "      <td>70.000000</td>\n",
              "      <td>0.980000</td>\n",
              "      <td>0.340000</td>\n",
              "      <td>0.130000</td>\n",
              "      <td>0.410000</td>\n",
              "      <td>1.280000</td>\n",
              "      <td>0.480000</td>\n",
              "      <td>1.270000</td>\n",
              "      <td>278.000000</td>\n",
              "    </tr>\n",
              "    <tr>\n",
              "      <th>25%</th>\n",
              "      <td>1.000000</td>\n",
              "      <td>12.362500</td>\n",
              "      <td>1.602500</td>\n",
              "      <td>2.210000</td>\n",
              "      <td>17.200000</td>\n",
              "      <td>88.000000</td>\n",
              "      <td>1.742500</td>\n",
              "      <td>1.205000</td>\n",
              "      <td>0.270000</td>\n",
              "      <td>1.250000</td>\n",
              "      <td>3.220000</td>\n",
              "      <td>0.782500</td>\n",
              "      <td>1.937500</td>\n",
              "      <td>500.500000</td>\n",
              "    </tr>\n",
              "    <tr>\n",
              "      <th>50%</th>\n",
              "      <td>2.000000</td>\n",
              "      <td>13.050000</td>\n",
              "      <td>1.865000</td>\n",
              "      <td>2.360000</td>\n",
              "      <td>19.500000</td>\n",
              "      <td>98.000000</td>\n",
              "      <td>2.355000</td>\n",
              "      <td>2.135000</td>\n",
              "      <td>0.340000</td>\n",
              "      <td>1.555000</td>\n",
              "      <td>4.690000</td>\n",
              "      <td>0.965000</td>\n",
              "      <td>2.780000</td>\n",
              "      <td>673.500000</td>\n",
              "    </tr>\n",
              "    <tr>\n",
              "      <th>75%</th>\n",
              "      <td>3.000000</td>\n",
              "      <td>13.677500</td>\n",
              "      <td>3.082500</td>\n",
              "      <td>2.557500</td>\n",
              "      <td>21.500000</td>\n",
              "      <td>107.000000</td>\n",
              "      <td>2.800000</td>\n",
              "      <td>2.875000</td>\n",
              "      <td>0.437500</td>\n",
              "      <td>1.950000</td>\n",
              "      <td>6.200000</td>\n",
              "      <td>1.120000</td>\n",
              "      <td>3.170000</td>\n",
              "      <td>985.000000</td>\n",
              "    </tr>\n",
              "    <tr>\n",
              "      <th>max</th>\n",
              "      <td>3.000000</td>\n",
              "      <td>14.830000</td>\n",
              "      <td>5.800000</td>\n",
              "      <td>3.230000</td>\n",
              "      <td>30.000000</td>\n",
              "      <td>162.000000</td>\n",
              "      <td>3.880000</td>\n",
              "      <td>5.080000</td>\n",
              "      <td>0.660000</td>\n",
              "      <td>3.580000</td>\n",
              "      <td>13.000000</td>\n",
              "      <td>1.710000</td>\n",
              "      <td>4.000000</td>\n",
              "      <td>1680.000000</td>\n",
              "    </tr>\n",
              "  </tbody>\n",
              "</table>\n",
              "</div>"
            ],
            "text/plain": [
              "        WineClass     Alcohol  Malic acid         Ash  Alcalinity of ash  \\\n",
              "count  178.000000  178.000000  178.000000  178.000000         178.000000   \n",
              "mean     1.938202   13.000618    2.336348    2.366517          19.494944   \n",
              "std      0.775035    0.811827    1.117146    0.274344           3.339564   \n",
              "min      1.000000   11.030000    0.740000    1.360000          10.600000   \n",
              "25%      1.000000   12.362500    1.602500    2.210000          17.200000   \n",
              "50%      2.000000   13.050000    1.865000    2.360000          19.500000   \n",
              "75%      3.000000   13.677500    3.082500    2.557500          21.500000   \n",
              "max      3.000000   14.830000    5.800000    3.230000          30.000000   \n",
              "\n",
              "        Magnesium  Total phenols  Flavanoids  Nonflavanoid phenols  \\\n",
              "count  178.000000     178.000000  178.000000            178.000000   \n",
              "mean    99.741573       2.295112    2.029270              0.361854   \n",
              "std     14.282484       0.625851    0.998859              0.124453   \n",
              "min     70.000000       0.980000    0.340000              0.130000   \n",
              "25%     88.000000       1.742500    1.205000              0.270000   \n",
              "50%     98.000000       2.355000    2.135000              0.340000   \n",
              "75%    107.000000       2.800000    2.875000              0.437500   \n",
              "max    162.000000       3.880000    5.080000              0.660000   \n",
              "\n",
              "       Proanthocyanins  Color intensity         Hue  \\\n",
              "count       178.000000       178.000000  178.000000   \n",
              "mean          1.590899         5.058090    0.957449   \n",
              "std           0.572359         2.318286    0.228572   \n",
              "min           0.410000         1.280000    0.480000   \n",
              "25%           1.250000         3.220000    0.782500   \n",
              "50%           1.555000         4.690000    0.965000   \n",
              "75%           1.950000         6.200000    1.120000   \n",
              "max           3.580000        13.000000    1.710000   \n",
              "\n",
              "       OD280/OD315 of diluted wines      Proline  \n",
              "count                    178.000000   178.000000  \n",
              "mean                       2.611685   746.893258  \n",
              "std                        0.709990   314.907474  \n",
              "min                        1.270000   278.000000  \n",
              "25%                        1.937500   500.500000  \n",
              "50%                        2.780000   673.500000  \n",
              "75%                        3.170000   985.000000  \n",
              "max                        4.000000  1680.000000  "
            ]
          },
          "execution_count": 207,
          "metadata": {},
          "output_type": "execute_result"
        }
      ],
      "source": [
        "wine.describe()"
      ]
    },
    {
      "cell_type": "code",
      "execution_count": null,
      "metadata": {
        "id": "6yZvBHhZAbvN",
        "outputId": "29e64bea-c778-468b-c51f-bafcbf13f176"
      },
      "outputs": [
        {
          "data": {
            "text/plain": [
              "count    178.000000\n",
              "mean       2.366517\n",
              "std        0.274344\n",
              "min        1.360000\n",
              "25%        2.210000\n",
              "50%        2.360000\n",
              "75%        2.557500\n",
              "max        3.230000\n",
              "Name: Ash, dtype: float64"
            ]
          },
          "execution_count": 212,
          "metadata": {},
          "output_type": "execute_result"
        }
      ],
      "source": [
        "wine.Ash.describe()"
      ]
    },
    {
      "cell_type": "code",
      "execution_count": null,
      "metadata": {
        "collapsed": true,
        "id": "VTQvzDfrAbvN"
      },
      "outputs": [],
      "source": []
    }
  ],
  "metadata": {
    "anaconda-cloud": {},
    "colab": {
      "name": "1.introduction.ipynb",
      "provenance": []
    },
    "kernelspec": {
      "display_name": "Python 3.10.6 64-bit",
      "language": "python",
      "name": "python3"
    },
    "language_info": {
      "codemirror_mode": {
        "name": "ipython",
        "version": 3
      },
      "file_extension": ".py",
      "mimetype": "text/x-python",
      "name": "python",
      "nbconvert_exporter": "python",
      "pygments_lexer": "ipython3",
      "version": "3.10.6"
    },
    "vscode": {
      "interpreter": {
        "hash": "27f6fea6f47ae512550f0b8facdbd035a93e1dd89633f7bf2dd00a2502c71d0d"
      }
    }
  },
  "nbformat": 4,
  "nbformat_minor": 0
}
